{
 "cells": [
  {
   "cell_type": "markdown",
   "id": "b2f063df",
   "metadata": {},
   "source": [
    "# Not-an-exam 1: Solutions\n",
    "\n",
    "[Download original not-an-exam](notexam.pdf)"
   ]
  },
  {
   "cell_type": "markdown",
   "id": "6382d7df",
   "metadata": {},
   "source": [
    "*1.* Circle and annotate/correct any mistakes you find in the code below:\n",
    "\n",
    "Side-by-side of the mistake-ridden code and correct syntax.\n",
    "![find the mistake](find_the_mistakes.png)"
   ]
  },
  {
   "cell_type": "markdown",
   "id": "bd6d20ec",
   "metadata": {},
   "source": [
    "*2.* The function ```final_final``` takes as input a list. \n",
    " - If the list has an odd number of elements, the same list is returned with the final item lopped off.\n",
    " - If the list has an even number of elements, the last two elements are moved to the front of the list."
   ]
  },
  {
   "cell_type": "code",
   "execution_count": 2,
   "id": "527ac63b",
   "metadata": {},
   "outputs": [],
   "source": [
    "def final_final(my_list):\n",
    "    L = len(my_list)\n",
    "    \n",
    "    if L%2==1:\n",
    "        return my_list[:-1]\n",
    "    else:\n",
    "        return my_list[-2:] + my_list[:-2]"
   ]
  },
  {
   "cell_type": "code",
   "execution_count": 3,
   "id": "c16c0729",
   "metadata": {},
   "outputs": [
    {
     "name": "stdout",
     "output_type": "stream",
     "text": [
      "a = \"[1, 2, 3, 4]\"\n",
      "b = \"['C', 'D', 'A', 'B']\"\n",
      "c = \"ooh...hell\"\n"
     ]
    }
   ],
   "source": [
    "a = final_final([1, 2, 3, 4, 5])\n",
    "b = final_final(['A', 'B', 'C', 'D'])\n",
    "c = final_final('h...helloo')\n",
    "\n",
    "print(f'a = \"{a}\"')\n",
    "print(f'b = \"{b}\"')\n",
    "print(f'c = \"{c}\"')"
   ]
  },
  {
   "cell_type": "markdown",
   "id": "edcb62ea",
   "metadata": {},
   "source": [
    "*3.* The function ```mystery_fun``` takes as input a string (```letters```) and an integer (```shift```). Any lower-case letter in the string is replaced by the letter ```shift``` positions away in the alphabet."
   ]
  },
  {
   "cell_type": "code",
   "execution_count": 4,
   "id": "bc33908b",
   "metadata": {},
   "outputs": [],
   "source": [
    "def mystery_fun(letters, shift = 1):\n",
    "    \n",
    "    alphabet = 'abcdefghijklmnopqrstuvwxyz'\n",
    "    new_letters = ''\n",
    "    \n",
    "    for letter in letters:\n",
    "        if letter in alphabet:\n",
    "            idx = (alphabet.index(letter) + shift) % 26\n",
    "            letter = alphabet[idx]\n",
    "            \n",
    "        new_letters += letter\n",
    "    \n",
    "    return new_letters\n"
   ]
  },
  {
   "cell_type": "code",
   "execution_count": 5,
   "id": "cf76bb63",
   "metadata": {},
   "outputs": [
    {
     "name": "stdout",
     "output_type": "stream",
     "text": [
      "a = \"ifmmp\"\n",
      "b = \"Hfmmp!?\"\n",
      "c = \"OK dag!\"\n"
     ]
    }
   ],
   "source": [
    "a = mystery_fun('hello')\n",
    "b = mystery_fun('Hello!?')\n",
    "c = mystery_fun('OK bye!', shift = 2)\n",
    "\n",
    "print(f'a = \"{a}\"')\n",
    "print(f'b = \"{b}\"')\n",
    "print(f'c = \"{c}\"')"
   ]
  },
  {
   "cell_type": "markdown",
   "id": "3785ff79",
   "metadata": {},
   "source": [
    "*4.*"
   ]
  },
  {
   "cell_type": "code",
   "execution_count": 6,
   "id": "5ee93852",
   "metadata": {},
   "outputs": [],
   "source": [
    "def repeat_by_word(word_list, repeat_list):\n",
    "    \n",
    "    repeated_words = ''\n",
    "    for word, repeat in zip(word_list, repeat_list):\n",
    "        repeated_words += (word + ' ') * repeat\n",
    "\n",
    "    repeated_words = repeated_words[:-1] + '!'\n",
    "    \n",
    "    return repeated_words"
   ]
  },
  {
   "cell_type": "code",
   "execution_count": 7,
   "id": "f323d77b",
   "metadata": {},
   "outputs": [
    {
     "name": "stdout",
     "output_type": "stream",
     "text": [
      "not not not true is the same same as false!\n"
     ]
    }
   ],
   "source": [
    "words = ['not', 'true', 'is', 'not', 'the', 'same', 'as', 'false']\n",
    "repeats = [3, 1, 1, 0, 1, 2, 1, 1]\n",
    "\n",
    "print(repeat_by_word(words, repeats))"
   ]
  },
  {
   "cell_type": "markdown",
   "id": "019391ea",
   "metadata": {},
   "source": [
    "*5.*"
   ]
  },
  {
   "cell_type": "code",
   "execution_count": 8,
   "id": "953743eb",
   "metadata": {},
   "outputs": [],
   "source": [
    "def clip(numlist, upper, lower):\n",
    "    if upper < lower:\n",
    "        lower, upper = upper, lower\n",
    "\n",
    "    new_list = []\n",
    "    for num in numlist:\n",
    "        if num < lower:\n",
    "            new_list.append(lower)\n",
    "        elif num > upper:\n",
    "            new_list.append(upper)\n",
    "        else:\n",
    "            new_list.append(num)\n",
    "            \n",
    "    return new_list\n",
    "        "
   ]
  },
  {
   "cell_type": "code",
   "execution_count": 9,
   "id": "b9b39953",
   "metadata": {},
   "outputs": [
    {
     "name": "stdout",
     "output_type": "stream",
     "text": [
      "[5, 9, 5, 6, 11, 15, 5, 15, 5, 15, 12]\n"
     ]
    }
   ],
   "source": [
    "data = [5, 9 , 2, 6, 11, 20, -4, 17, 1, 19, 12]\n",
    "\n",
    "data_clipped = clip(data, 15, 5)\n",
    "\n",
    "print(data_clipped)\n"
   ]
  }
 ],
 "metadata": {
  "kernelspec": {
   "display_name": "datascience",
   "language": "python",
   "name": "python3"
  },
  "language_info": {
   "codemirror_mode": {
    "name": "ipython",
    "version": 3
   },
   "file_extension": ".py",
   "mimetype": "text/x-python",
   "name": "python",
   "nbconvert_exporter": "python",
   "pygments_lexer": "ipython3",
   "version": "3.13.1"
  }
 },
 "nbformat": 4,
 "nbformat_minor": 5
}
