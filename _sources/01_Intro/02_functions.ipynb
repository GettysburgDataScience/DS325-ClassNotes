{
 "cells": [
  {
   "cell_type": "markdown",
   "id": "d9e7efea",
   "metadata": {},
   "source": [
    "# Functions\n",
    "\n",
    "Functions are our verbs in coding...kinda. You should think of a function as a machine that does things.\n",
    "\n",
    "**Note about thinking programmatically**\n",
    "Consider what a washing machine does when you run it.\n",
    " - Locks the door.\n",
    " - Spins to judge the amount and balance of the clothing inside.\n",
    " - Adds water, a mix of cold and hot based on selected settings.\n",
    " - Empties the detergent tray into the water.\n",
    " - Agitates the clothes back and forth for some fixed time.\n",
    " - Drains the dirty water.\n",
    " - Adds fresh water to rinse.\n",
    " - Agitates the clothes again.\n",
    " - Drains the dirty water again.\n",
    " - Spins the clothes to remove excess water.\n",
    " - Unlocks the door.\n",
    " - Plays a tune to alert the user the load is done.\n",
    "\n",
    " That's a lot of steps when you break it down. If we were writing this in code and we had to do multiple loads of laundry, that would be a lot of copy-and-pasting.\n",
    "\n",
    " Instead, we can bundle all the instructions into a function, say 'run_load'. That way, with one line of code, we can re-use all of the instructions above. Also, if we decide to change the instructions in any way, we just change the function and those changes propogate to every use of 'run_load'."
   ]
  },
  {
   "cell_type": "markdown",
   "id": "6f5279f3",
   "metadata": {},
   "source": [
    "### Anatomy of a function\n",
    "\n",
    "Python uses keywords and indentations to signify different tools and structures. This is called the *syntax*.\n",
    "\n",
    "The syntax for a function is:\n",
    "\n",
    "```\n",
    "def function_name(input1 = default1, input2=default2):\n",
    "    commands\n",
    "    more commands\n",
    "    return output1, output2\n",
    "```\n",
    "\n",
    "*Every* function definition starts with the keyword ```def``` followed by the function name, parantheses, and a colon.\n",
    "\n",
    "Everything else is optional. Functions need not have inputs or outputs. Functions need not have commands. But most useful functions have some of these.\n",
    "\n",
    "Notice that everything under that first line of the function definition is indented. That is called the *scope* of the function, all the code that belongs to that function.\n",
    "\n",
    "**Let's write some functions!**"
   ]
  },
  {
   "cell_type": "code",
   "execution_count": null,
   "id": "c136a75f",
   "metadata": {},
   "outputs": [],
   "source": [
    "def area_rect(length = 1, width = 1):\n",
    "    area = length * width\n",
    "    return area\n",
    "\n",
    "def perim_rect(length, width):\n",
    "    perim = 2 * (length + width)\n",
    "    return perim\n",
    "\n",
    "def perim_area_rect(length, width):\n",
    "    return perim_rect(length, width), area_rect(length, width)"
   ]
  },
  {
   "cell_type": "code",
   "execution_count": null,
   "id": "0e5cc9af",
   "metadata": {},
   "outputs": [
    {
     "name": "stdout",
     "output_type": "stream",
     "text": [
      "20.0\n",
      "19.71\n"
     ]
    }
   ],
   "source": [
    "area1 = area_rect(7.3, 2.7)\n",
    "perim1 = perim_rect(7.3, 2.7)\n",
    "\n",
    "P, A = perim_area_rect(width = 7.3, length = 2.7)\n",
    "\n",
    "print(P)\n",
    "print(A)"
   ]
  },
  {
   "cell_type": "code",
   "execution_count": 14,
   "id": "ccfe086a",
   "metadata": {},
   "outputs": [],
   "source": [
    "def repeater(word, num = 2):\n",
    "    print(word*num)"
   ]
  },
  {
   "cell_type": "code",
   "execution_count": 16,
   "id": "2bd15bb1",
   "metadata": {},
   "outputs": [
    {
     "name": "stdout",
     "output_type": "stream",
     "text": [
      "10\n"
     ]
    }
   ],
   "source": [
    "repeater(5)"
   ]
  }
 ],
 "metadata": {
  "kernelspec": {
   "display_name": "datascience",
   "language": "python",
   "name": "python3"
  },
  "language_info": {
   "codemirror_mode": {
    "name": "ipython",
    "version": 3
   },
   "file_extension": ".py",
   "mimetype": "text/x-python",
   "name": "python",
   "nbconvert_exporter": "python",
   "pygments_lexer": "ipython3",
   "version": "3.13.1"
  }
 },
 "nbformat": 4,
 "nbformat_minor": 5
}
