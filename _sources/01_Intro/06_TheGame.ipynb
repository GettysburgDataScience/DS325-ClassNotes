{
 "cells": [
  {
   "cell_type": "markdown",
   "id": "7ae0ff04",
   "metadata": {},
   "source": [
    "# The GAME\n",
    "\n",
    "Solve the problems below, each problem solved gets a guess at a letter.\n",
    "\n",
    "To get credit, you must write a few test cases (a convincing amount) to show your function works as intended. You should only use tools introduced in class (no built-in functions that accomplish the goal).\n",
    "\n",
    "Problems are categorized by difficulty: I, II, III. Those with coding experience should not do level-I problems."
   ]
  },
  {
   "cell_type": "markdown",
   "id": "9fc62be3",
   "metadata": {
    "vscode": {
     "languageId": "plaintext"
    }
   },
   "source": [
    "## Level I"
   ]
  },
  {
   "cell_type": "markdown",
   "id": "76a60cee",
   "metadata": {},
   "source": [
    "*1.1*\n",
    "\n",
    "Write the functions ```F_to_C()``` and ```C_to_F()``` to convert Fahrenheit to Celsius and vice versa.\n",
    "\n",
    "The equation for conversion from F to C is:   $ C = 5*(F-32)/9$"
   ]
  },
  {
   "cell_type": "markdown",
   "id": "deb3704f",
   "metadata": {},
   "source": [
    "*1.2*\n",
    "\n",
    "Write the function ```factorize()``` that takes as input a positive integer and returns all the integer factors of that number. If the number is prime, also print \"That's a prime number!\""
   ]
  },
  {
   "cell_type": "markdown",
   "id": "0e545b15",
   "metadata": {
    "vscode": {
     "languageId": "latex"
    }
   },
   "source": [
    "*1.3*\n",
    "\n",
    "Write the function ```check_cyclic_equality()``` that takes two lists and checks if there is a rotation that makes them same. \n",
    "\n",
    "A rotation/cycling of 1 is defined as taking the zero-th element of the list and moving it to the end. For example, ['dog', 7, 'chicken', 'rabbit', 9] cycled by 2 would be ['chicken', 'rabbit', 9, 'dog', 7].\n",
    "\n",
    "If the lists are cyclically equal, return the number the second list has to be cycled to equal the first list. If not, return False."
   ]
  },
  {
   "cell_type": "markdown",
   "id": "e08dfe6f",
   "metadata": {},
   "source": [
    "## Level II"
   ]
  },
  {
   "cell_type": "markdown",
   "id": "00ca17f3",
   "metadata": {},
   "source": [
    "*2.1*\n",
    "\n",
    "Write the function ```odd_even_counter()``` that takes a list of integers. If there are more odds than evens, print 'odds win'. If there are more evens than odds, print 'evens win'. If there are the same number, print \"it's a tie!\"."
   ]
  },
  {
   "cell_type": "markdown",
   "id": "ce907551",
   "metadata": {},
   "source": [
    "*2.2*\n",
    "\n",
    "Write the function ```group_by_first``` that takes a list of numbers and splits them into groups (lists) based on their first digit. For example:\n",
    "\n",
    "```group_by_first([80, 9, 8, 107, 65, 601, 1009, 600019])``` \n",
    "\n",
    "would return:\n",
    "\n",
    "```[80, 8], [9], [107, 1009], [65, 601, 600019]```"
   ]
  },
  {
   "cell_type": "markdown",
   "id": "89ad2fe3",
   "metadata": {},
   "source": [
    "*2.3*\n",
    "\n",
    "Write the game ```hot_cold()```. The game generates a random number between 0-100 (using ```randint``` demonstrated below). The user gets 10 guesses at the number. They should get the following clues:\n",
    "\n",
    " - 'burning hot' if within 3\n",
    " - 'hot' if within 10\n",
    " - 'warm' if within 20\n",
    " - 'cold' if more than 20 away\n",
    "\n",
    " If the user guesses correctly, congratulate them and tell them how many guesses it took for them to win! If they run out of guesses, tell them they lost, reveal the secret number, and encourage them to play again."
   ]
  },
  {
   "cell_type": "code",
   "execution_count": 5,
   "id": "bc5e8750",
   "metadata": {},
   "outputs": [
    {
     "data": {
      "text/plain": [
       "39"
      ]
     },
     "execution_count": 5,
     "metadata": {},
     "output_type": "execute_result"
    }
   ],
   "source": [
    "from random import randint\n",
    "\n",
    "secret_number = randint(0, 100)\n",
    "secret_number"
   ]
  },
  {
   "cell_type": "markdown",
   "id": "680c13bc",
   "metadata": {},
   "source": [
    "## Level III"
   ]
  },
  {
   "cell_type": "markdown",
   "id": "8e706396",
   "metadata": {},
   "source": [
    "*3.1* \n",
    "\n",
    "Write the function ```make_sublists()``` that takes as input a list and returns as output a list of lists containing every unique sublist made with items from the original list (order matters).\n",
    "\n",
    "Even if the original list includes duplicate entries, the list-of-lists should not have duplicates. For example:\n",
    "\n",
    "```make_groupings([1,2,1])``` should return:\n",
    "\n",
    "```[[1], [2], [1,1], [1,2], [2,1], [1,1,2], [1,2,1], [2,1,1]]```"
   ]
  },
  {
   "cell_type": "markdown",
   "id": "838f888f",
   "metadata": {},
   "source": [
    "*3.2*\n",
    " \n",
    "Write ```wordle_tm()```. You know the game. Code it. It won't look pretty, but should play with all the same rules.\n",
    "\n",
    "I've provided the complete wordle wordlist below."
   ]
  },
  {
   "cell_type": "code",
   "execution_count": 6,
   "id": "6c44f0b8",
   "metadata": {},
   "outputs": [],
   "source": [
    "import requests\n",
    "from random import randint\n",
    "\n",
    "wordle_wordlist = requests.get('https://raw.githubusercontent.com/tabatkins/wordle-list/refs/heads/main/words').text.split('\\n')"
   ]
  },
  {
   "cell_type": "markdown",
   "id": "708fc597",
   "metadata": {},
   "source": [
    "*3.3*\n",
    "\n",
    "Write the function ```word_counter()``` that takes as input a passage of text and returns as output a list of lists. Each sublist should contain a unique word and the number of times it occurs in the passage.\n",
    "\n",
    "Use lists, not dictionaries."
   ]
  },
  {
   "cell_type": "code",
   "execution_count": 7,
   "id": "38615eca",
   "metadata": {},
   "outputs": [],
   "source": [
    "# test text\n",
    "Romeo = 'But, soft! what light through yonder window breaks? It is the east, and Juliet is the sun. Arise, fair sun, and kill the envious moon, Who is already sick and pale with grief, That thou her maid art far more fair than she. It is my lady, O, it is my love! O, that she knew she were! She speaks, yet she says nothing: what of that?'\n",
    "TheCat = 'We looked and we saw him! The Cat in the Hat! and he said to us, \"Why do you sit there like that?\" \"I know it is wet and the sun is not sunny. But we can have lots of good fun that is funny!\"'"
   ]
  }
 ],
 "metadata": {
  "kernelspec": {
   "display_name": "datascience",
   "language": "python",
   "name": "python3"
  },
  "language_info": {
   "codemirror_mode": {
    "name": "ipython",
    "version": 3
   },
   "file_extension": ".py",
   "mimetype": "text/x-python",
   "name": "python",
   "nbconvert_exporter": "python",
   "pygments_lexer": "ipython3",
   "version": "3.13.1"
  }
 },
 "nbformat": 4,
 "nbformat_minor": 5
}
