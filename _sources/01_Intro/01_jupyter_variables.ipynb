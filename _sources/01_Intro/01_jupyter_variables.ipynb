{
 "cells": [
  {
   "cell_type": "markdown",
   "id": "97603862",
   "metadata": {},
   "source": [
    "# Intro to Notebooks and Python First Steps\n",
    "\n",
    "Prof Eatai Roth  \n",
    "DS256 F2025  \n",
    "Gettysburg College"
   ]
  },
  {
   "cell_type": "markdown",
   "id": "ef54cf31",
   "metadata": {},
   "source": [
    "## Jupyter Notebook Intro\n",
    "\n",
    "Jupyter (stands for Julia-Python-R) Notebooks are coding environments that let you write, annotate, and run code a chunk at a time. These chunks are contained in *cells*.\n",
    "\n",
    "### Cells\n",
    "The notebooks we'll use in this class comprise two kinds of cells:\n",
    " - *Markdown* - text annotation (like this cell).\n",
    " - *Code* - cells that will run code (Python).\n",
    "\n",
    "The cell type is noted in the lower right corner (and you can change the cell type from there).\n",
    "\n",
    "### Kernels\n",
    "\n",
    "Before running code, you'll have to select a Kernel (\"Select Kernel\" upper right corner of the coding window); if you forget, VS Code will prompt you to select a kernel when it gets to the first code cell.\n",
    "\n",
    "You can think of a kernel as a computational session and VS Code wants to know which version of Python you'd like to use to execute your code. It will present a list of installed Python distributions; you should select the one that has 'Anaconda' in the path.\n",
    "\n",
    "The kernel also keeps track of all the variables you've created in the session. If you want to run your code from a clean slate, you can restart the kernel to clear all variables.\n",
    "\n",
    "### Keyboard Shortcuts\n",
    "Some useful keyboard shortcuts:\n",
    "\n",
    " - *SHIFT+RETURN (SHIFT+ENTER on PC)* - runs a cell and moves focus to the next cell\n",
    " - *Esc -> A* - adds a cell above the current cell (-> means followed by)\n",
    " - *Esc -> B* - adds a cell below the current cell\n",
    " - *Esc -> M* - converts a cell to Markdown\n",
    " - *Esc -> Y* - converts a cell to Code"
   ]
  },
  {
   "cell_type": "markdown",
   "id": "5344a5cc",
   "metadata": {},
   "source": [
    "## Let's play around in the notebook!\n",
    "\n",
    "Firstly, you can use a Jupyter notebook as a calculator. Other than convenience, we'll hardly ever do that in our projects. But let's do some arithmatic."
   ]
  },
  {
   "cell_type": "code",
   "execution_count": 1,
   "id": "45e656d6",
   "metadata": {},
   "outputs": [
    {
     "name": "stdout",
     "output_type": "stream",
     "text": [
      "a = 9\n",
      "b = 12\n",
      "c = 20\n",
      "d = 5.0\n",
      "e = 0.25\n"
     ]
    }
   ],
   "source": [
    "# In a code cell, anything that comes after a # is comment. We use comments to explain our code or leave love letters to our future selves.\n",
    "# You'll be surprised just how quickly you forget what you were thinking when you originally wrote code, so help yourself out and comment.\n",
    "# When your code runs, comments are ignored; it's just for humans.\n",
    "\n",
    "# Let's introduce some math operators.\n",
    "\n",
    "# Addition and subtraction\n",
    "a = 4 + 5\n",
    "b = 111-99\n",
    "\n",
    "print(f'a = {a}\\nb = {b}')\n",
    "\n",
    "# Multiplication and division\n",
    "c = 5 * 4\n",
    "d = 20/4\n",
    "\n",
    "\n",
    "# Exponentiation\n",
    "e = 0.5**2\n",
    "\n",
    "print(f'c = {c}\\nd = {d}\\ne = {e}')\n",
    "\n",
    "# Run the cell with SHIFT+ENTER\n"
   ]
  },
  {
   "cell_type": "code",
   "execution_count": 2,
   "id": "500c8d2e",
   "metadata": {},
   "outputs": [
    {
     "name": "stdout",
     "output_type": "stream",
     "text": [
      "a (after increment) = 19\n",
      "b (after decrement) = 7\n",
      "c (after multiplication) = 2000\n",
      "d (after division) = 1.25\n"
     ]
    }
   ],
   "source": [
    "# Increment and Decrement\n",
    "\n",
    "a +=10\n",
    "b -= 5\n",
    "\n",
    "# Geometric (?) Increment and Decrement\n",
    "c *= 100\n",
    "d /= 4\n",
    "\n",
    "print(f'a (after increment) = {a}')\n",
    "print(f'b (after decrement) = {b}')\n",
    "print(f'c (after multiplication) = {c}')\n",
    "print(f'd (after division) = {d}')\n",
    "\n",
    "# Pay attention to how the values below relate to the values above."
   ]
  },
  {
   "cell_type": "markdown",
   "id": "fff60b56",
   "metadata": {},
   "source": [
    "## What is computer code?\n",
    "\n",
    "We've already gotten a glimpse of programming above. We used variables (e.g. a, b, c, d, e), operators (e.g. +, -, *, /, **), built-in functions (e.g. print())\n",
    "\n",
    "**ELINSTB**\n",
    "\n",
    "A programming language is a set of instructions followed EXPLICITLY by a computer. Like a natural language (between people...or people and LLMs), a programming language has nouns (stored data) and verbs (actions).\n",
    "\n",
    "***A little bit deeper about Python**\n",
    "\n",
    "Python is an object-oriented language and everything in Python is an object. What's that mean? Objects are members of a group of similar things; the groups are called classes. And every object has special properties (attributes) and functions (methods) specific to that class.\n",
    "\n",
    "*So 'a' is an object?* Yes, 'a' is an object that is of a numeric data type.\n",
    "*What about 'print()', I thought that was a verb?* Yes, even 'print' is an object, a function object. Think of print as a printer; that's a thing that prints (a blender blends, a television televises, etc.)"
   ]
  },
  {
   "cell_type": "markdown",
   "id": "19257e8b",
   "metadata": {},
   "source": [
    "# Variables\n",
    "\n",
    "(Read [WTOP Ch 3](https://jakevdp.github.io/WhirlwindTourOfPython/03-semantics-variables.html))\n",
    "\n",
    "Variables store the data we use in programs. You can think of a variable as a box with a label on it (or a mailbox with an address...that happens to be a location in your computer's memory). Variables hold our data and keep track of the values (see above), but what kinds of data can variables hold. For now, we'll start with three simple data types.\n",
    "\n",
    "- **Numeric** - integers (round numbers) and floats (decimal numbers)\n",
    "- **String** - any text (e.g. a single character, a password, an entire book). Strings are denoted by quotes, either 'hello' or \"hello\" is fine.\n",
    "- **Boolean** - True or False. True and False are keywords and will be color-highlighted when used.\n",
    "\n",
    "## Numeric\n",
    "\n",
    "Numeric values can be either integers or floats. In first assigning the variable, it is an integer or a float depending on whether or not the number has a decimal point. You can mix and match ints and floats when doing arithmetic."
   ]
  },
  {
   "cell_type": "code",
   "execution_count": 3,
   "id": "16dd69d6",
   "metadata": {},
   "outputs": [
    {
     "name": "stdout",
     "output_type": "stream",
     "text": [
      "x is a <class 'int'>\n",
      "y is a <class 'float'>\n",
      "z is a <class 'float'>\n"
     ]
    }
   ],
   "source": [
    "# Numeric\n",
    "\n",
    "# Integers\n",
    "x = 7\n",
    "y = 7.\n",
    "z = 7.0\n",
    "\n",
    "print(f'x is a {type(x)}')\n",
    "print(f'y is a {type(y)}')\n",
    "print(f'z is a {type(z)}')"
   ]
  },
  {
   "cell_type": "markdown",
   "id": "c4290255",
   "metadata": {},
   "source": [
    "## Strings\n",
    "\n",
    "Strings are textual data (including numbers and characters)."
   ]
  },
  {
   "cell_type": "code",
   "execution_count": 4,
   "id": "5df6cdae",
   "metadata": {},
   "outputs": [],
   "source": [
    "# Strings\n",
    "\n",
    "s1 = 'hello'\n",
    "s2 = 'goodbye123'\n",
    "space = ' '"
   ]
  },
  {
   "cell_type": "code",
   "execution_count": 5,
   "id": "65b62975",
   "metadata": {},
   "outputs": [
    {
     "data": {
      "text/plain": [
       "'hello and goodbye123'"
      ]
     },
     "execution_count": 5,
     "metadata": {},
     "output_type": "execute_result"
    }
   ],
   "source": [
    "s1 + ' and ' + s2"
   ]
  },
  {
   "cell_type": "code",
   "execution_count": 6,
   "id": "fdcc7c93",
   "metadata": {},
   "outputs": [
    {
     "data": {
      "text/plain": [
       "'hello hello hello '"
      ]
     },
     "execution_count": 6,
     "metadata": {},
     "output_type": "execute_result"
    }
   ],
   "source": [
    "(s1 + space) * 3"
   ]
  },
  {
   "cell_type": "code",
   "execution_count": 7,
   "id": "af41434b",
   "metadata": {},
   "outputs": [
    {
     "ename": "TypeError",
     "evalue": "unsupported operand type(s) for -: 'str' and 'str'",
     "output_type": "error",
     "traceback": [
      "\u001b[0;31m---------------------------------------------------------------------------\u001b[0m",
      "\u001b[0;31mTypeError\u001b[0m                                 Traceback (most recent call last)",
      "Cell \u001b[0;32mIn[7], line 1\u001b[0m\n\u001b[0;32m----> 1\u001b[0m \u001b[43ms1\u001b[49m\u001b[43m \u001b[49m\u001b[38;5;241;43m-\u001b[39;49m\u001b[43m \u001b[49m\u001b[43ms1\u001b[49m\n",
      "\u001b[0;31mTypeError\u001b[0m: unsupported operand type(s) for -: 'str' and 'str'"
     ]
    }
   ],
   "source": [
    "s1 - s1"
   ]
  },
  {
   "cell_type": "markdown",
   "id": "7f071ce0",
   "metadata": {},
   "source": [
    "## Booleans\n",
    "\n",
    "True and False statements."
   ]
  },
  {
   "cell_type": "code",
   "execution_count": null,
   "id": "7a101858",
   "metadata": {},
   "outputs": [
    {
     "data": {
      "text/plain": [
       "False"
      ]
     },
     "execution_count": 26,
     "metadata": {},
     "output_type": "execute_result"
    }
   ],
   "source": [
    "A = True\n",
    "B = False\n",
    "\n",
    "# Logical Operators (and, or, not, ==, >, <, >=, <=)\n",
    "\n",
    "C = 5 >= 10\n",
    "D = (s1=='hello') and (x<10)\n"
   ]
  },
  {
   "cell_type": "markdown",
   "id": "5232adbc",
   "metadata": {},
   "source": []
  }
 ],
 "metadata": {
  "kernelspec": {
   "display_name": "datascience",
   "language": "python",
   "name": "python3"
  },
  "language_info": {
   "codemirror_mode": {
    "name": "ipython",
    "version": 3
   },
   "file_extension": ".py",
   "mimetype": "text/x-python",
   "name": "python",
   "nbconvert_exporter": "python",
   "pygments_lexer": "ipython3",
   "version": "3.13.1"
  }
 },
 "nbformat": 4,
 "nbformat_minor": 5
}
