{
 "cells": [
  {
   "cell_type": "markdown",
   "id": "8d253fb7-267c-4d57-b1ef-fac9804297ce",
   "metadata": {},
   "source": [
    "# Dictionaries\n",
    "\n",
    "Today...dictionaries. [WTOP Ch 6](https://jakevdp.github.io/WhirlwindTourOfPython/06-built-in-data-structures.html)\n",
    "\n",
    "A dictionary (or dict) is another container type, like a list or a tuple. Unlike lists and tuples, dictionaries are unordered, meaning we cannot index an item in the dictionary by number. Instead, dictionaries map values to descriptive strings (or numbers, but usually words) called *keys*, a key:value pair.\n",
    "\n",
    "We create a dictionary in one of two ways:\n",
    "\n",
    "```\n",
    "myDict = dict(key1 = value1,\n",
    "            key2 = value2,\n",
    "            ...\n",
    "            )\n",
    "```\n",
    "or\n",
    "\n",
    "```\n",
    "myDict = {'key1':value1,\n",
    "        'key2':value2,\n",
    "        ...\n",
    "        }\n",
    "```\n",
    "\n",
    "Let's look at an example of a dictionary called student that contains information about a particular student."
   ]
  },
  {
   "cell_type": "code",
   "execution_count": 1,
   "id": "5dee1dc1-8780-4f33-b687-45055cbbfb0b",
   "metadata": {},
   "outputs": [],
   "source": [
    "student_a = dict(first = 'Eatai',\n",
    "               last = 'Roth',\n",
    "               id = 1112222,\n",
    "               major = 'undeclared',\n",
    "               minor = 'Data Science')\n",
    "\n",
    "student_b = {'first':'Eatai',\n",
    "           'last':'Roth',\n",
    "           'id':1112222,\n",
    "           'major':'undeclared',\n",
    "           'minor':'Data Science'}"
   ]
  },
  {
   "cell_type": "code",
   "execution_count": 2,
   "id": "e7c076c6-0748-4d23-8bb1-85b188579c8b",
   "metadata": {},
   "outputs": [
    {
     "data": {
      "text/plain": [
       "True"
      ]
     },
     "execution_count": 2,
     "metadata": {},
     "output_type": "execute_result"
    }
   ],
   "source": [
    "student_a==student_b"
   ]
  },
  {
   "cell_type": "markdown",
   "id": "3257fe61-a0d2-47cf-93d8-5cdef0f0ff29",
   "metadata": {},
   "source": [
    "A dictionary is indexed by keyword instead of position. For example:"
   ]
  },
  {
   "cell_type": "code",
   "execution_count": 3,
   "id": "58c8b17e-46ba-4e02-942b-2b4ecac06873",
   "metadata": {},
   "outputs": [],
   "source": [
    "student_a['first'] = 'Prof'"
   ]
  },
  {
   "cell_type": "code",
   "execution_count": 4,
   "id": "b4dab02b-10ef-42c9-bfa5-2549ce6487b6",
   "metadata": {},
   "outputs": [
    {
     "data": {
      "text/plain": [
       "{'first': 'Prof',\n",
       " 'last': 'Roth',\n",
       " 'id': 1112222,\n",
       " 'major': 'undeclared',\n",
       " 'minor': 'Data Science'}"
      ]
     },
     "execution_count": 4,
     "metadata": {},
     "output_type": "execute_result"
    }
   ],
   "source": [
    "student_a"
   ]
  },
  {
   "cell_type": "code",
   "execution_count": 5,
   "id": "67fdbece-44ec-4f2f-90c4-216156a738cc",
   "metadata": {},
   "outputs": [
    {
     "ename": "KeyError",
     "evalue": "'ssn'",
     "output_type": "error",
     "traceback": [
      "\u001b[0;31m---------------------------------------------------------------------------\u001b[0m",
      "\u001b[0;31mKeyError\u001b[0m                                  Traceback (most recent call last)",
      "Cell \u001b[0;32mIn[5], line 1\u001b[0m\n\u001b[0;32m----> 1\u001b[0m \u001b[43mstudent_a\u001b[49m\u001b[43m[\u001b[49m\u001b[38;5;124;43m'\u001b[39;49m\u001b[38;5;124;43mssn\u001b[39;49m\u001b[38;5;124;43m'\u001b[39;49m\u001b[43m]\u001b[49m\n",
      "\u001b[0;31mKeyError\u001b[0m: 'ssn'"
     ]
    }
   ],
   "source": [
    "student_a['ssn']\n"
   ]
  },
  {
   "cell_type": "markdown",
   "id": "5b4d1e47-7e4e-459f-a142-f73d15420196",
   "metadata": {},
   "source": [
    "If you don't know what keys are in a dictionary, you can ask using ```.keys()``` and similarly for values using ```.values()```"
   ]
  },
  {
   "cell_type": "code",
   "execution_count": 8,
   "id": "8c76d6cc-a68d-4221-9b2f-a141fc245641",
   "metadata": {},
   "outputs": [
    {
     "data": {
      "text/plain": [
       "dict_keys(['first', 'last', 'id', 'major', 'minor'])"
      ]
     },
     "execution_count": 8,
     "metadata": {},
     "output_type": "execute_result"
    }
   ],
   "source": [
    "student_a.keys()"
   ]
  },
  {
   "cell_type": "code",
   "execution_count": 9,
   "id": "1b008f88",
   "metadata": {},
   "outputs": [
    {
     "data": {
      "text/plain": [
       "dict_values(['Prof', 'Roth', 1112222, 'undeclared', 'Data Science'])"
      ]
     },
     "execution_count": 9,
     "metadata": {},
     "output_type": "execute_result"
    }
   ],
   "source": [
    "student_a.values()"
   ]
  },
  {
   "cell_type": "markdown",
   "id": "380803f1-8462-4025-9b3f-52916fe5bdbf",
   "metadata": {},
   "source": [
    "And you can reassign values or even add fields to a dictionary on the fly."
   ]
  },
  {
   "cell_type": "code",
   "execution_count": 10,
   "id": "61b4bbfa-fcfa-4ef7-b519-8e20c8acc6a1",
   "metadata": {},
   "outputs": [],
   "source": [
    "student_a['ssn'] = 5555555555"
   ]
  },
  {
   "cell_type": "code",
   "execution_count": 11,
   "id": "609ca3d4-71d7-4e01-a719-aecd06ecef3f",
   "metadata": {},
   "outputs": [
    {
     "data": {
      "text/plain": [
       "{'first': 'Prof',\n",
       " 'last': 'Roth',\n",
       " 'id': 1112222,\n",
       " 'major': 'undeclared',\n",
       " 'minor': 'Data Science',\n",
       " 'ssn': 5555555555}"
      ]
     },
     "execution_count": 11,
     "metadata": {},
     "output_type": "execute_result"
    }
   ],
   "source": [
    "student_a"
   ]
  },
  {
   "cell_type": "code",
   "execution_count": 12,
   "id": "b44dcb23-1e88-4439-bbbc-5df7fa6e4a7a",
   "metadata": {},
   "outputs": [],
   "source": [
    "student_c = {}\n",
    "\n",
    "student_c['first'] = 'James'\n",
    "student_c['last'] = 'Jameson'\n",
    "student_c['email'] = 'jamesja01@gettysburg.edu'"
   ]
  },
  {
   "cell_type": "code",
   "execution_count": 13,
   "id": "d86d1f36-5eb3-45f4-8966-dd233711a776",
   "metadata": {},
   "outputs": [
    {
     "data": {
      "text/plain": [
       "{'first': 'James', 'last': 'Jameson', 'email': 'jamesja01@gettysburg.edu'}"
      ]
     },
     "execution_count": 13,
     "metadata": {},
     "output_type": "execute_result"
    }
   ],
   "source": [
    "student_c"
   ]
  },
  {
   "cell_type": "markdown",
   "id": "9c16b314-6fce-4b3e-81b0-9f0edf922fa0",
   "metadata": {},
   "source": [
    "**Why use dictionaries?**\n",
    "\n",
    "Dictionaries are a good way to group variables or parameters that are related. \n",
    "\n",
    " - they can contain anything, even other dictionaries, lists, tuples\n",
    " - referencing is intuitive (you don't have to remember where a variable is)\n",
    " - can save a single container variable rather than ??? individual variables\n",
    " - can pass multiple variables into a function as inputs"
   ]
  },
  {
   "cell_type": "code",
   "execution_count": null,
   "id": "f28092a9-b2d4-41e0-84a4-99e35126b436",
   "metadata": {},
   "outputs": [],
   "source": [
    "'''\n",
    "Let's pass a dictionary to a function. \n",
    "Why would we use this?\n",
    "'''"
   ]
  },
  {
   "cell_type": "code",
   "execution_count": 14,
   "id": "89739f15-dfd4-47aa-9dc8-8b8bf2a8325a",
   "metadata": {},
   "outputs": [
    {
     "name": "stdout",
     "output_type": "stream",
     "text": [
      "James Jameson  can be reached at jamesja01@gettysburg.edu\n"
     ]
    }
   ],
   "source": [
    "def contactInfo(first, last, email):\n",
    "    print(f'{first} {last}  can be reached at {email}')\n",
    "\n",
    "# This is the clunky way    \n",
    "contactInfo(student_c['first'], student_c['last'], student_c['email'])"
   ]
  },
  {
   "cell_type": "markdown",
   "id": "3416bfc2",
   "metadata": {},
   "source": [
    "### Unpacking dictionaries.\n",
    "\n",
    "The contacts of a dictionary can be 'unpacked' into a list of key-value pairs. We can use this fun trick to store all the arguments to a function as a dictionary.\n",
    "\n",
    "**Caution**: The keys of the dict must be the same as the argument names of the function."
   ]
  },
  {
   "cell_type": "code",
   "execution_count": 15,
   "id": "260871cf-c88a-4aa2-bddb-2052188ce2e2",
   "metadata": {},
   "outputs": [
    {
     "name": "stdout",
     "output_type": "stream",
     "text": [
      "James Jameson  can be reached at jamesja01@gettysburg.edu\n"
     ]
    }
   ],
   "source": [
    "contactInfo(**student_c)   # ** means unpack\n",
    "\n",
    "# same as contactInfo(first = 'James', last = 'Jameson', email = 'jamesja01@gettysburg.edu')"
   ]
  },
  {
   "cell_type": "markdown",
   "id": "ad7dd647",
   "metadata": {},
   "source": [
    "We can also create functions that take dictionaries as inputs."
   ]
  },
  {
   "cell_type": "code",
   "execution_count": 16,
   "id": "5c6f4b1f-6895-4f26-a829-303ac23b5c68",
   "metadata": {},
   "outputs": [
    {
     "name": "stdout",
     "output_type": "stream",
     "text": [
      "James Jameson  can be reached at jamesja01@gettysburg.edu\n"
     ]
    }
   ],
   "source": [
    "def contactInfo(student):\n",
    "        print(f'{student['first']} {student['last']}  can be reached at {student['email']}')\n",
    "        \n",
    "contactInfo(student_c)"
   ]
  },
  {
   "cell_type": "markdown",
   "id": "91d58daa-458f-4bc0-b472-d966610a8886",
   "metadata": {},
   "source": [
    "## Lists of dicts and Dicts of lists\n",
    "\n",
    "If we have many dicts of the same format, we might want to package them together.\n",
    "We can do this as a list of dicts or a dict of lists.\n",
    "\n",
    " - lists of dicts are easy and convenient\n",
    " - dicts of lists are common when exporting data or creating Pandas DataFrames (foreshadowing)\n",
    "    - the key will be the column name\n",
    "    - the list or array will be the data"
   ]
  },
  {
   "cell_type": "code",
   "execution_count": 18,
   "id": "ec2d8bff-bdd9-4b8b-b0af-5d066ac7c391",
   "metadata": {},
   "outputs": [],
   "source": [
    "'''list of dicts - my prefered'''\n",
    "student_list = [student_a,\n",
    "                student_b,\n",
    "                student_c]\n",
    "\n",
    "'''dicts of lists - common in exporting data, e.g. column'''\n",
    "student_dict = {} #an empty dictionary\n",
    "for key in student_a.keys():\n",
    "    student_dict[key] = [s[key] if key in s.keys() else None for s in student_list ]"
   ]
  },
  {
   "cell_type": "markdown",
   "id": "7471efe7",
   "metadata": {},
   "source": [
    "The difference in indexing depends on whether the dict is in the list or the list is in the dict.\n",
    "\n",
    "The outermost container is indexed first. Think, \"My pajamas are in the guest bedroom, the dresser on the right, bottom drawer.\" The description goes from outermost container (guest bedroom) to inner-most container (bottom drawer).\n",
    "\n",
    " - list of dicts - index the position within the list then the key within the dictionary\n",
    " - dict of lists - index the key within the dictionary then the position within the list (column then row)"
   ]
  },
  {
   "cell_type": "code",
   "execution_count": 20,
   "id": "49af5f2d",
   "metadata": {},
   "outputs": [
    {
     "data": {
      "text/plain": [
       "1112222"
      ]
     },
     "execution_count": 20,
     "metadata": {},
     "output_type": "execute_result"
    }
   ],
   "source": [
    "student_list[1]['id']"
   ]
  },
  {
   "cell_type": "code",
   "execution_count": 22,
   "id": "3c0acfb2-de63-421e-9852-34130461eb56",
   "metadata": {},
   "outputs": [
    {
     "data": {
      "text/plain": [
       "1112222"
      ]
     },
     "execution_count": 22,
     "metadata": {},
     "output_type": "execute_result"
    }
   ],
   "source": [
    "student_dict['id'][1]"
   ]
  }
 ],
 "metadata": {
  "kernelspec": {
   "display_name": "datascience",
   "language": "python",
   "name": "python3"
  },
  "language_info": {
   "codemirror_mode": {
    "name": "ipython",
    "version": 3
   },
   "file_extension": ".py",
   "mimetype": "text/x-python",
   "name": "python",
   "nbconvert_exporter": "python",
   "pygments_lexer": "ipython3",
   "version": "3.13.1"
  }
 },
 "nbformat": 4,
 "nbformat_minor": 5
}
