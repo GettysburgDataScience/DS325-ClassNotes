{
 "cells": [
  {
   "cell_type": "markdown",
   "id": "d9e7efea",
   "metadata": {},
   "source": [
    "# Functions\n",
    "\n",
    "(Read [WTOP Ch 8](https://jakevdp.github.io/WhirlwindTourOfPython/08-defining-functions.html))\n",
    "\n",
    "Functions are our verbs in coding...kinda. You should think of a function as a machine that does things.\n",
    "\n",
    "**Note about thinking programmatically**\n",
    "Consider what a washing machine does when you run it.\n",
    " - Locks the door.\n",
    " - Spins to judge the amount and balance of the clothing inside.\n",
    " - Adds water, a mix of cold and hot based on selected settings.\n",
    " - Empties the detergent tray into the water.\n",
    " - Agitates the clothes back and forth for some fixed time.\n",
    " - Drains the dirty water.\n",
    " - Adds fresh water to rinse.\n",
    " - Agitates the clothes again.\n",
    " - Drains the dirty water again.\n",
    " - Spins the clothes to remove excess water.\n",
    " - Unlocks the door.\n",
    " - Plays a tune to alert the user the load is done.\n",
    "\n",
    " That's a lot of steps when you break it down. If we were writing this in code and we had to do multiple loads of laundry, that would be a lot of copy-and-pasting.\n",
    "\n",
    " Instead, we can bundle all the instructions into a function, say 'run_load'. That way, with one line of code, we can re-use all of the instructions above. Also, if we decide to change the instructions in any way, we just change the function and those changes propogate to every use of 'run_load'."
   ]
  },
  {
   "cell_type": "markdown",
   "id": "6f5279f3",
   "metadata": {},
   "source": [
    "### Anatomy of a function\n",
    "\n",
    "Python uses keywords and indentations to signify different tools and structures. This is called the *syntax*.\n",
    "\n",
    "The syntax for a function is:\n",
    "\n",
    "```\n",
    "def function_name(input1 = default1, input2=default2):\n",
    "    commands\n",
    "    more commands\n",
    "    return output1, output2\n",
    "```\n",
    "\n",
    "*Every* function definition starts with the keyword ```def``` followed by the function name, parantheses, and a colon.\n",
    "\n",
    "Everything else is optional. Functions need not have inputs or outputs. Functions need not have commands. But most useful functions have some of these.\n",
    "\n",
    "Notice that everything under that first line of the function definition is indented. That is called the *scope* of the function, all the code that belongs to that function.\n",
    "\n",
    "**Let's write some functions!**"
   ]
  },
  {
   "cell_type": "markdown",
   "id": "ccfe086a",
   "metadata": {},
   "source": []
  }
 ],
 "metadata": {
  "language_info": {
   "name": "python"
  }
 },
 "nbformat": 4,
 "nbformat_minor": 5
}
