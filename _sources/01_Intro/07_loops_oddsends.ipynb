{
 "cells": [
  {
   "cell_type": "markdown",
   "id": "8892b3b6",
   "metadata": {},
   "source": [
    "# Useful tidbits (loops and strings)"
   ]
  },
  {
   "cell_type": "markdown",
   "id": "e25c3429",
   "metadata": {},
   "source": [
    "## Loop odds and ends\n",
    "\n",
    "- ```zip``` let's you loop through multiple lists in parallel, grouping the together the k-th elements of each loop.\n",
    "- ```enumerate``` adds a counting variable to a loop\n",
    "\n",
    "Let's see."
   ]
  },
  {
   "cell_type": "markdown",
   "metadata": {},
   "source": [
    "### Syntax\n",
    "\n",
    "**zip**\n",
    "\n",
    "```for items_a, items_b, items_c in zip(list_a, list_b, list_c):```\n",
    "\n",
    "**enumerate**\n",
    "\n",
    "```for k, item in enumerate(list_a):```\n",
    "\n",
    "**enumerate + zip**\n",
    "\n",
    "```for k, (items_a, items_b, items_c) in enumerate(zip(list_a, list_b, list_c)):```\n"
   ]
  },
  {
   "cell_type": "code",
   "execution_count": null,
   "id": "4bb9a938",
   "metadata": {},
   "outputs": [],
   "source": [
    "questions = ['How many planets are there?',\n",
    "             'What is the capital city of New Mexico?',\n",
    "             'Which weighs more, a pound of feathers or a pound of bricks?']\n",
    "\n",
    "answers = ['8...RIP Pluto.', \n",
    "           'Sante Fe.', \n",
    "           'A pound is a pound. They weigh the same.']"
   ]
  },
  {
   "cell_type": "markdown",
   "id": "97f3abb4",
   "metadata": {},
   "source": [
    "Let's use enumeration to number the list of questions."
   ]
  },
  {
   "cell_type": "code",
   "execution_count": 51,
   "id": "96af2c66",
   "metadata": {},
   "outputs": [
    {
     "name": "stdout",
     "output_type": "stream",
     "text": [
      "1. How many planets are there?\n",
      "2. What is the capital city of New Mexico?\n",
      "3. Which weighs more, a pound of feathers or a pound of bricks?\n"
     ]
    }
   ],
   "source": [
    "k = 1\n",
    "for q in questions:\n",
    "    print(str(k) + '. ' + q)\n",
    "    k+=1"
   ]
  },
  {
   "cell_type": "code",
   "execution_count": 74,
   "id": "2b1ad249",
   "metadata": {},
   "outputs": [
    {
     "name": "stdout",
     "output_type": "stream",
     "text": [
      "1. How many planets are there?\n",
      "2. What is the capital city of New Mexico?\n",
      "3. Which weighs more, a pound of feathers or a pound of bricks?\n"
     ]
    }
   ],
   "source": [
    "for k, q in enumerate(questions, start = 1):\n",
    "    print(str(k) + '. ' + q)"
   ]
  },
  {
   "cell_type": "markdown",
   "id": "3584f6d1",
   "metadata": {},
   "source": [
    "And now, let's make the answer key."
   ]
  },
  {
   "cell_type": "code",
   "execution_count": 79,
   "id": "fab4e92c",
   "metadata": {},
   "outputs": [
    {
     "name": "stdout",
     "output_type": "stream",
     "text": [
      "3. How many planets are there?\n",
      "\t8...RIP Pluto.\n",
      "3. What is the capital city of New Mexico?\n",
      "\tSante Fe.\n",
      "3. Which weighs more, a pound of feathers or a pound of bricks?\n",
      "\tA pound is a pound. They weigh the same.\n"
     ]
    }
   ],
   "source": [
    "for counter, (q, a) in enumerate(zip(questions, answers), start = 1):\n",
    "    # print(str(counter) + '. ' + q)\n",
    "    # print('\\t' + a)\n",
    "    \n",
    "    print(f'{k}. {q}\\n\\t{a}')"
   ]
  },
  {
   "cell_type": "code",
   "execution_count": null,
   "metadata": {},
   "outputs": [
    {
     "name": "stdout",
     "output_type": "stream",
     "text": [
      "1. How many planets are there?\n",
      "\t8...RIP Pluto.\n",
      "2. What is the capital city of New Mexico?\n",
      "\tSante Fe.\n",
      "3. Which weighs more, a pound of feathers or a pound of bricks?\n",
      "\tA pound is a pound. They weigh the same.\n"
     ]
    }
   ],
   "source": []
  },
  {
   "cell_type": "markdown",
   "id": "43761464",
   "metadata": {},
   "source": []
  },
  {
   "cell_type": "markdown",
   "id": "c42059d6",
   "metadata": {},
   "source": [
    "### List comprehension"
   ]
  },
  {
   "cell_type": "code",
   "execution_count": 71,
   "id": "e2e33d5c",
   "metadata": {},
   "outputs": [
    {
     "name": "stdout",
     "output_type": "stream",
     "text": [
      "[198, 4, 98, 16, 24, 48, 34, 42]\n",
      "[99, 49, 17, 21]\n"
     ]
    }
   ],
   "source": [
    "mixed_numbers = [99, 2, 49, 8, 12, 24, 17, 21]\n",
    "\n",
    "double_numbers = []\n",
    "odd_numbers = []\n",
    "for number in mixed_numbers:\n",
    "    double_numbers.append(2*number)\n",
    "    if number%2==1:\n",
    "        odd_numbers.append(number)\n",
    "\n",
    "print(double_numbers)\n",
    "print(odd_numbers)\n",
    "    "
   ]
  },
  {
   "cell_type": "code",
   "execution_count": 72,
   "id": "6f6988d1",
   "metadata": {},
   "outputs": [
    {
     "name": "stdout",
     "output_type": "stream",
     "text": [
      "[198, 4, 98, 16, 24, 48, 34, 42]\n",
      "[99, 49, 17, 21]\n"
     ]
    }
   ],
   "source": [
    "double_numbers2 = [2*n for n in mixed_numbers]\n",
    "odd_numbers2 = [n for n in mixed_numbers if n%2==1]\n",
    "\n",
    "print(double_numbers2)\n",
    "print(odd_numbers2)"
   ]
  },
  {
   "cell_type": "markdown",
   "id": "03d00f2c",
   "metadata": {},
   "source": [
    "## Strings odds and ends\n",
    "\n",
    "These are a few tools for manipulating strings that may be useful. You can find more information on these tools (and many many other string tools) [here](https://www.w3schools.com/python/python_ref_string.asp).\n",
    " - fstrings - allows you to embed data values into strings.\n",
    "\n",
    " ```f'We insert the value of a variable like this {var}'```\n",
    "\n",
    " - split - split a string into a list of strings based on a separator character (by default ' ' [white space])\n",
    " - replace - replace an occurrence of a substring\n",
    " - upper, lower - returns the string with all characters in UPPERCASE or lowercase, respectively\n",
    " - capitalize - Capitalizes the first letter of the string\n",
    " - endswith, startswith - checks if the string endswith or startswith a specified substring\n",
    " - find, index, rindex - returns the (first, first, last) location of a substring. The difference between find() and index() is that find returns -1 if the substring is not present whereas index() triggers an error in that case."
   ]
  },
  {
   "cell_type": "code",
   "execution_count": null,
   "id": "62a00a40",
   "metadata": {},
   "outputs": [
    {
     "name": "stdout",
     "output_type": "stream",
     "text": [
      "DS256 has 52 students enrolled.\n"
     ]
    }
   ],
   "source": [
    "course_dept = 'DS'\n",
    "course_num = 256\n",
    "enrollment = 52\n",
    "\n",
    "ds256_string = course_dept + str(course_num) + ' has ' + str(enrollment) + ' students enrolled.'\n",
    "print(ds256_string)\n",
    "\n",
    "ds256_fstring = f'{course_dept}{course_num} has {enrollment} students enrolled.'"
   ]
  },
  {
   "cell_type": "code",
   "execution_count": 57,
   "id": "9c7bb601",
   "metadata": {},
   "outputs": [
    {
     "data": {
      "text/plain": [
       "'PROF ROTH'"
      ]
     },
     "execution_count": 57,
     "metadata": {},
     "output_type": "execute_result"
    }
   ],
   "source": [
    "'Prof Roth'.upper()"
   ]
  },
  {
   "cell_type": "code",
   "execution_count": 40,
   "id": "46073a94",
   "metadata": {},
   "outputs": [
    {
     "data": {
      "text/plain": [
       "['I',\n",
       " \"I'm\",\n",
       " \"I'm\",\n",
       " 'a',\n",
       " 'a',\n",
       " 'ever',\n",
       " 'most',\n",
       " 'mother',\n",
       " 'mother',\n",
       " 'mother',\n",
       " 'pheasant',\n",
       " 'pheasant',\n",
       " 'pheasant.',\n",
       " 'pheasants.',\n",
       " 'pleasant',\n",
       " 'pluck',\n",
       " 'pluck',\n",
       " 'plucker',\n",
       " 'plucker.',\n",
       " 'the',\n",
       " 'to']"
      ]
     },
     "execution_count": 40,
     "metadata": {},
     "output_type": "execute_result"
    }
   ],
   "source": [
    "twister1 = 'How much wood would a woodchunk chunk if a woodchunk could chunk wood?'\n",
    "twister2 = \"I'm a mother pheasant plucker. I pluck mother pheasants. I'm the most pleasant mother pheasant plucker ever to pluck a pheasant.\"\n",
    "\n",
    "\n",
    "twister2_words = twister2.split()\n",
    "twister2_words.sort()\n",
    "twister2_words"
   ]
  },
  {
   "cell_type": "code",
   "execution_count": 41,
   "id": "1c12c41b",
   "metadata": {},
   "outputs": [
    {
     "data": {
      "text/plain": [
       "59"
      ]
     },
     "execution_count": 41,
     "metadata": {},
     "output_type": "execute_result"
    }
   ],
   "source": [
    "twister1.rindex('chunk')"
   ]
  },
  {
   "cell_type": "code",
   "execution_count": 94,
   "id": "fd3603cb",
   "metadata": {},
   "outputs": [
    {
     "data": {
      "text/plain": [
       "'Prof Roth lives with 2 parrot(s) and 1 cat(s) and 1 human(s).'"
      ]
     },
     "execution_count": 94,
     "metadata": {},
     "output_type": "execute_result"
    }
   ],
   "source": [
    "num_roommate = [2, 1, 1, 2, 1]\n",
    "type_roommate = ['parrot(s)', 'cat(s)', 'human(s)', 'dog(s)', 'jumping spider(s)']\n",
    "\n",
    "f\"Prof Roth lives with {num_roommate[0]} {type_roommate[0]} and {num_roommate[1]} {type_roommate[1]} and {num_roommate[2]} {type_roommate[2]}.\""
   ]
  },
  {
   "cell_type": "code",
   "execution_count": 87,
   "id": "b602f519",
   "metadata": {},
   "outputs": [
    {
     "name": "stdout",
     "output_type": "stream",
     "text": [
      "Prof Roth lives with 2 parrot(s) and 1 cat(s) and 1 human(s).\n"
     ]
    }
   ],
   "source": [
    "my_string = f'Prof Roth lives with {num_roommate[0]} {type_roommate[0]}'\n",
    "\n",
    "for num, type in zip(num_roommate[1:], type_roommate[1:]):\n",
    "    my_string += f' and {num} {type}'\n",
    "\n",
    "my_string += '.'\n",
    "\n",
    "print(my_string)"
   ]
  },
  {
   "cell_type": "code",
   "execution_count": 95,
   "id": "547f228e",
   "metadata": {},
   "outputs": [
    {
     "name": "stdout",
     "output_type": "stream",
     "text": [
      "Prof Roth lives with 2 parrot(s) and 1 cat(s) and 1 human(s) and 2 dog(s) and 1 jumping spider(s).\n"
     ]
    }
   ],
   "source": [
    "my_string = f'Prof Roth lives with'\n",
    "\n",
    "for k, (num, type) in enumerate(zip(num_roommate, type_roommate)):\n",
    "    if k==0:\n",
    "        my_string += f' {num} {type}'\n",
    "    else:\n",
    "        my_string += f' and {num} {type}'\n",
    "\n",
    "my_string += '.'\n",
    "\n",
    "print(my_string)"
   ]
  },
  {
   "cell_type": "markdown",
   "id": "4ed9b1dc",
   "metadata": {},
   "source": [
    "#### Practice problems\n",
    "\n",
    "1. Write the code above (about Prof Roth's roommates) in a way that is flexible enough that were he to get more pets, he could just add them to the lists and the string would be updated without changing any other code."
   ]
  },
  {
   "cell_type": "code",
   "execution_count": 60,
   "id": "c1a41798",
   "metadata": {},
   "outputs": [
    {
     "data": {
      "text/plain": [
       "'hello and goodbye'"
      ]
     },
     "execution_count": 60,
     "metadata": {},
     "output_type": "execute_result"
    }
   ],
   "source": [
    "hi = 'hello'\n",
    "bye = 'goodbye'\n",
    "\n",
    "hi + ' and ' + bye"
   ]
  },
  {
   "cell_type": "code",
   "execution_count": 61,
   "id": "93e16b75",
   "metadata": {},
   "outputs": [
    {
     "data": {
      "text/plain": [
       "15"
      ]
     },
     "execution_count": 61,
     "metadata": {},
     "output_type": "execute_result"
    }
   ],
   "source": [
    "k = 10\n",
    "k +=5\n",
    "k"
   ]
  },
  {
   "cell_type": "code",
   "execution_count": null,
   "id": "b55e414c",
   "metadata": {},
   "outputs": [
    {
     "data": {
      "text/plain": [
       "'Prof Roth lives with 2 parrot(s) and 1 cat(s) and 1 human(s) and 500 termites.'"
      ]
     },
     "execution_count": 68,
     "metadata": {},
     "output_type": "execute_result"
    }
   ],
   "source": []
  },
  {
   "cell_type": "markdown",
   "id": "4ebfc3f2",
   "metadata": {},
   "source": [
    "2. Generate a directory of names and email addresses for the data science faculty listed below."
   ]
  },
  {
   "cell_type": "code",
   "execution_count": 43,
   "id": "6a7739ae",
   "metadata": {},
   "outputs": [],
   "source": [
    "first_name = ['Eatai', 'Ryan', 'Mitch', 'Todd', 'Dan']\n",
    "last_name = ['Roth', 'Johnson', 'Powers', 'Neller', 'White']"
   ]
  },
  {
   "cell_type": "code",
   "execution_count": 99,
   "id": "46781242",
   "metadata": {},
   "outputs": [
    {
     "name": "stdout",
     "output_type": "stream",
     "text": [
      "Roth, Eatai (eroth@gettysburg.edu)\n",
      "Johnson, Ryan (rjohnson@gettysburg.edu)\n",
      "Powers, Mitch (mpowers@gettysburg.edu)\n",
      "Neller, Todd (tneller@gettysburg.edu)\n",
      "White, Dan (dwhite@gettysburg.edu)\n"
     ]
    }
   ],
   "source": [
    "for fn, ln in zip(first_name, last_name):\n",
    "    email = f'{fn[0].lower()}{ln.lower()}@gettysburg.edu'\n",
    "    print(f'{ln}, {fn} ({email})')"
   ]
  },
  {
   "cell_type": "markdown",
   "id": "f297caf0",
   "metadata": {},
   "source": [
    "## STUMP EACHOTHER, STUMP ME"
   ]
  }
 ],
 "metadata": {
  "kernelspec": {
   "display_name": "datascience",
   "language": "python",
   "name": "python3"
  },
  "language_info": {
   "codemirror_mode": {
    "name": "ipython",
    "version": 3
   },
   "file_extension": ".py",
   "mimetype": "text/x-python",
   "name": "python",
   "nbconvert_exporter": "python",
   "pygments_lexer": "ipython3",
   "version": "3.13.1"
  }
 },
 "nbformat": 4,
 "nbformat_minor": 5
}
