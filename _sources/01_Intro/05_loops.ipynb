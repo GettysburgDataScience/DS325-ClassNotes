{
 "cells": [
  {
   "cell_type": "markdown",
   "id": "f83d06c0-6645-4beb-9b70-7ac70523c813",
   "metadata": {},
   "source": [
    "# Control Flow: Loops\n",
    "\n",
    "Last class we covered *conditional statements*, today we'll introduce loops.\n",
    "\n",
    " - ~~Conditional Statements - statements that allow you to run different code under certain conditions~~\n",
    " - Loops - statements that allow you to run blocks of code multiple times"
   ]
  },
  {
   "cell_type": "markdown",
   "id": "aa86db66-dc95-48b6-bc75-6f9163530d64",
   "metadata": {},
   "source": [
    "## Loops\n",
    "\n",
    "Loops allow you to execute a block of code repeatedly. This is useful if you need to perform the same set of actions on several (tens or maybe hundreds) of different items in some container (e.g. loading files from a list of filenames, parsing text into sentences or clauses, extracting specific data that meet some criteria from a larger set). Once you understand loops, you'll find they're incredibly useful for automating tedious analyses. BUT for large data and complex operations, loops can get very slow; so for many data science use cases, we try to find ways to avoid using loops.\n",
    "\n",
    "The two main kinds of loops, common to most programming languages are:\n",
    "\n",
    " - while loops - perform a block of code as long as some condition holds true\n",
    " - for loops - perform a block of code a set number of times\n",
    "\n",
    "Later, we'll learn list and dictionary *comprehensions* (one of the most fun and useful features of Python).\n",
    "\n",
    "### While loops\n",
    "Run some code repeatedly as long as a condition is met:\n",
    " - I'm going to work on homework problems until 10p.\n",
    " - It's an all-you-can-eat buffet, I'm going to eat as long as there's room in my stomach.\n",
    " - Keep driving straight until you see a Wendy's on the left, then turn left.\n",
    "\n",
    "### For loops\n",
    "Run some code repeatedly some set amount of times:\n",
    "\n",
    " - I'm going to work through the first four homework problems.\n",
    " - I'm going to eat one forkful of each dish at the buffet.\n",
    " - Keep driving straight past six traffic lights, then turn left.\n",
    "\n",
    "\n",
    "We'll start with while loops:\n",
    "\n",
    "### While loops   \n",
    "#### Syntax for While loops:\n",
    "```\n",
    "while <condition>:\n",
    "    <code block>\n",
    "```\n"
   ]
  },
  {
   "cell_type": "markdown",
   "id": "cc307fc2-c652-49c8-9a3b-15379feac739",
   "metadata": {},
   "source": [
    "#### Example Problem 1\n",
    "\n",
    "Suppose we are developing a mobile game. Our game permits in-app purchases, as such, users must \"verify\" they are 18+ years old. We'll keep asking until we get the answer we want.\n",
    "\n",
    "Use if statements to check if the value entered is a number and if that number is greater than or equal to 18.\n",
    "\n",
    "*Tips*:\n",
    "\n",
    " - ```input(prompt)``` asks the user to enter a value in a text field.\n",
    "\n",
    " - ```.isnumeric()``` checks if the content of a string is numeric.\n",
    "\n"
   ]
  },
  {
   "cell_type": "code",
   "execution_count": 22,
   "id": "9195872e",
   "metadata": {},
   "outputs": [],
   "source": [
    "x = input('Type your name:')"
   ]
  },
  {
   "cell_type": "code",
   "execution_count": 24,
   "id": "26e9a53d",
   "metadata": {},
   "outputs": [
    {
     "name": "stdout",
     "output_type": "stream",
     "text": [
      "<class 'str'>\n",
      "False\n"
     ]
    }
   ],
   "source": [
    "print(type(x))\n",
    "print(x.isnumeric())\n",
    "# print(type(int(x))) # this will return an error if your name is not numeric (probably isn't)"
   ]
  },
  {
   "cell_type": "code",
   "execution_count": null,
   "id": "6ded5549",
   "metadata": {},
   "outputs": [],
   "source": [
    "joke = input('Tell me a joke:')"
   ]
  },
  {
   "cell_type": "code",
   "execution_count": null,
   "id": "f50daad2",
   "metadata": {},
   "outputs": [
    {
     "data": {
      "text/plain": [
       "'knock knock'"
      ]
     },
     "execution_count": 60,
     "metadata": {},
     "output_type": "execute_result"
    }
   ],
   "source": [
    "joke"
   ]
  },
  {
   "cell_type": "code",
   "execution_count": null,
   "id": "6ba71c4e-9d6c-44b1-9bca-b97c9a60866c",
   "metadata": {},
   "outputs": [],
   "source": [
    "def verifyAge():\n",
    "    x = input('Enter your age:')\n",
    "    while not x.isnumeric() or int(x) < 18:\n",
    "        if not x.isnumeric():\n",
    "            x = input('Please enter a NUMERIC value for age:')\n",
    "        elif int(x)<18:\n",
    "            x = input('Are you sure? You seem older than that. Please enter your \"ACTUAL\" age:')\n",
    "    print('Congratulations! You are verified.')\n",
    "           \n"
   ]
  },
  {
   "cell_type": "code",
   "execution_count": null,
   "id": "30787d69-4295-4bee-b6e2-d7b2cd1daf2a",
   "metadata": {},
   "outputs": [],
   "source": [
    "verifyAge()"
   ]
  },
  {
   "cell_type": "markdown",
   "id": "150ae2d3-49af-4e51-9f18-3f502ab51261",
   "metadata": {},
   "source": [
    "#### Example Problem 2\n",
    "\n",
    "We'll write a (crude) countdown timer. The user enters a number and the timer will count down that number of seconds.\n",
    "\n",
    "For this problem, we'll import a package called ```time``` (our first imported package...more on that soon). From the time package, we'll use a function called ```sleep``` which pauses the program for a set number of seconds.\n"
   ]
  },
  {
   "cell_type": "code",
   "execution_count": null,
   "id": "1b512e0e-119b-4e01-95b8-03d12075df29",
   "metadata": {},
   "outputs": [],
   "source": [
    "from time import sleep\n",
    "\n",
    "def countdown(count):\n",
    "    \n",
    "    while count > 0:\n",
    "        print(count)\n",
    "        count -= 1\n",
    "        sleep(1)\n",
    "    print('Times up!')\n",
    "\n",
    "    \n",
    "\n",
    "    "
   ]
  },
  {
   "cell_type": "code",
   "execution_count": null,
   "id": "3ada7cfa-1f5d-4b28-aacf-9d957a609e2f",
   "metadata": {},
   "outputs": [
    {
     "name": "stdout",
     "output_type": "stream",
     "text": [
      "3\n",
      "2\n",
      "1\n",
      "Times up!\n"
     ]
    }
   ],
   "source": [
    "countdown(3)"
   ]
  },
  {
   "cell_type": "markdown",
   "id": "a7d53525-98b7-41ec-9c81-169213d4531c",
   "metadata": {},
   "source": [
    "#### Example Problem 3\n",
    "Let's write a function that takes a paragraph of text and prints each sentence on it's own line. We might want to use nested while loops (a while loop inside a while loop) for this one.\n",
    "\n",
    "*Hint:* If used in a an if or while statement, a non-empty string evaluates to True. An empty string evaluates to False."
   ]
  },
  {
   "cell_type": "code",
   "execution_count": null,
   "id": "48bfdae1-5648-4b58-a917-6c33e521fff7",
   "metadata": {},
   "outputs": [],
   "source": [
    "def parse_sentences(text):\n",
    "    \n",
    "    # initialize in_quotes (a flag that tells us whether we are in a quotation) and counter k\n",
    "    in_quotes = False\n",
    "    k = 0\n",
    "    \n",
    "    while text:\n",
    "        # if we're on the first character of a sentence and it's a space, skip it\n",
    "        if k==0 and text[0]==' ':\n",
    "            text = text[1:]\n",
    "        \n",
    "        # if the character is the first \"\", set in_quotes = True and increment\n",
    "        elif text[k] == '\"' and not in_quotes:\n",
    "            in_quotes = True\n",
    "            k+=1\n",
    "            \n",
    "        # if we hit the closing \" or a ., !, or ? print the line and reset variables\n",
    "        elif (text[k] == '\"' and in_quotes) or \\\n",
    "            (text[k] in ['.', '!', '?'] and not in_quotes):\n",
    "            line = text[0:k+1]\n",
    "            print(line)\n",
    "            text = text[k+1:]\n",
    "            \n",
    "            k = 0\n",
    "            in_quotes = False    \n",
    "        \n",
    "        # otherwise, move to the next character\n",
    "        else:\n",
    "            k+=1\n",
    "    return"
   ]
  },
  {
   "cell_type": "code",
   "execution_count": null,
   "id": "3be624e2-0076-41d0-9451-3cc5cb4028d6",
   "metadata": {},
   "outputs": [],
   "source": [
    "Romeo = 'But, soft! what light through yonder window breaks? It is the east, and Juliet is the sun. Arise, fair sun, and kill the envious moon, Who is already sick and pale with grief, That thou her maid art far more fair than she. It is my lady, O, it is my love! O, that she knew she were! She speaks, yet she says nothing: what of that?'\n",
    "TheCat = 'We looked and we saw him! The Cat in the Hat! and he said to us, \"Why do you sit there like that?\" \"I know it is wet and the sun is not sunny. But we can have lots of good fun that is funny!\"'"
   ]
  },
  {
   "cell_type": "code",
   "execution_count": null,
   "id": "8af3f84f",
   "metadata": {},
   "outputs": [
    {
     "name": "stdout",
     "output_type": "stream",
     "text": [
      "But, soft!\n",
      "what light through yonder window breaks?\n",
      "It is the east, and Juliet is the sun.\n",
      "Arise, fair sun, and kill the envious moon, Who is already sick and pale with grief, That thou her maid art far more fair than she.\n",
      "It is my lady, O, it is my love!\n",
      "O, that she knew she were!\n",
      "She speaks, yet she says nothing: what of that?\n"
     ]
    }
   ],
   "source": [
    "parse_sentences(Romeo)"
   ]
  },
  {
   "cell_type": "code",
   "execution_count": null,
   "id": "9f6d38d9",
   "metadata": {},
   "outputs": [
    {
     "name": "stdout",
     "output_type": "stream",
     "text": [
      "We looked and we saw him!\n",
      "The Cat in the Hat!\n",
      "and he said to us, \"Why do you sit there like that?\"\n",
      "\"I know it is wet and the sun is not sunny. But we can have lots of good fun that is funny!\"\n"
     ]
    }
   ],
   "source": [
    "parse_sentences(TheCat)"
   ]
  },
  {
   "cell_type": "code",
   "execution_count": null,
   "metadata": {},
   "outputs": [],
   "source": []
  },
  {
   "cell_type": "markdown",
   "id": "663f61fa-7263-45d4-b93b-a019d42a3b7d",
   "metadata": {},
   "source": [
    "### For loops\n",
    "#### Syntax for For Loops\n",
    "\n",
    "```\n",
    "for <iter variable> in <iterable set>:\n",
    "    <code block>\n",
    "```"
   ]
  },
  {
   "cell_type": "code",
   "execution_count": null,
   "id": "a74b04bd",
   "metadata": {},
   "outputs": [
    {
     "name": "stdout",
     "output_type": "stream",
     "text": [
      "a\n",
      "b\n",
      "c\n",
      "d\n",
      "eatai\n"
     ]
    }
   ],
   "source": [
    "for letter in ['A', 'B', 'C', 'D', 'EaTaI']:\n",
    "    print(letter.lower())"
   ]
  },
  {
   "cell_type": "markdown",
   "id": "43068ca1-dace-4477-b20f-111d1227ab50",
   "metadata": {},
   "source": [
    "#### Example Problem 4\n",
    "Let's use a for loop to evaluate a function $f(x)$ for some list of values of $x$."
   ]
  },
  {
   "cell_type": "code",
   "execution_count": null,
   "id": "a2b710f5-4fea-425a-94c3-a43d2b16b945",
   "metadata": {},
   "outputs": [],
   "source": [
    "def evalFunc(f, xvals=list(range(0,10))):\n",
    "    \n",
    "    yvals = []\n",
    "    for x in xvals:\n",
    "        y = f(x)\n",
    "        yvals.append(y)\n",
    "        # print(yvals)\n",
    "               \n",
    "    return xvals, yvals"
   ]
  },
  {
   "cell_type": "code",
   "execution_count": null,
   "id": "691f056b-015d-4db8-b3e7-3e2a0aed30c1",
   "metadata": {},
   "outputs": [],
   "source": [
    "def f1(x):\n",
    "    return x\n",
    "\n",
    "def f2(x):\n",
    "    return x**1.5\n",
    "\n",
    "def f3(x):\n",
    "    return x**2\n",
    "\n",
    "x1, y1 = evalFunc(f1, xvals = list(range(-5,6)))\n",
    "x2, y2 = evalFunc(f2, xvals = list(range(-5,6)))\n",
    "x3, y3 = evalFunc(f3, xvals = list(range(-5,6)))\n"
   ]
  },
  {
   "cell_type": "code",
   "execution_count": null,
   "id": "4d5345ee",
   "metadata": {},
   "outputs": [
    {
     "data": {
      "text/plain": [
       "[25, 16, 9, 4, 1, 0, 1, 4, 9, 16, 25]"
      ]
     },
     "execution_count": 127,
     "metadata": {},
     "output_type": "execute_result"
    }
   ],
   "source": [
    "y3"
   ]
  },
  {
   "cell_type": "code",
   "execution_count": null,
   "id": "fa802762-08a5-4885-bbd3-4b3c5020b632",
   "metadata": {},
   "outputs": [
    {
     "name": "stderr",
     "output_type": "stream",
     "text": [
      "/Users/eatai/.pyenv/versions/datascience/lib/python3.13/site-packages/matplotlib/cbook.py:1719: ComplexWarning: Casting complex values to real discards the imaginary part\n",
      "  return math.isfinite(val)\n",
      "/Users/eatai/.pyenv/versions/datascience/lib/python3.13/site-packages/matplotlib/cbook.py:1355: ComplexWarning: Casting complex values to real discards the imaginary part\n",
      "  return np.asarray(x, float)\n"
     ]
    },
    {
     "data": {
      "image/png": "[encoded data removed]",
      "text/plain": [
       "<Figure size 640x480 with 1 Axes>"
      ]
     },
     "metadata": {},
     "output_type": "display_data"
    }
   ],
   "source": [
    "import matplotlib.pyplot as plt  # another package import!\n",
    "\n",
    "plt.plot(x1, y1, label = 'f1')\n",
    "plt.plot(x2, y2, label = 'f2')\n",
    "plt.plot(x3, y3, label = 'f3')\n",
    "\n",
    "plt.xlabel('x')\n",
    "plt.ylabel('y')\n",
    "plt.legend()\n",
    "plt.show()"
   ]
  },
  {
   "cell_type": "markdown",
   "id": "68aed821-30f1-4b1a-9674-44c0b7cb3774",
   "metadata": {},
   "source": [
    "#### Example Problem 5\n",
    "Lists can hold all different types of data. Suppose we get a list of mixed string and numeric data. Write a for loop to sift through the list and create two new lists, one containing all of the strings and another containing all of the numbers.\n",
    "\n",
    "*Hint*: Remember ```type()```\n"
   ]
  },
  {
   "cell_type": "code",
   "execution_count": null,
   "id": "c8a0df13",
   "metadata": {},
   "outputs": [
    {
     "data": {
      "text/plain": [
       "str"
      ]
     },
     "execution_count": 129,
     "metadata": {},
     "output_type": "execute_result"
    }
   ],
   "source": [
    "type('hello')\n"
   ]
  },
  {
   "cell_type": "code",
   "execution_count": null,
   "id": "638ad13c",
   "metadata": {},
   "outputs": [
    {
     "data": {
      "text/plain": [
       "float"
      ]
     },
     "execution_count": 130,
     "metadata": {},
     "output_type": "execute_result"
    }
   ],
   "source": [
    "type(3.45)"
   ]
  },
  {
   "cell_type": "code",
   "execution_count": null,
   "id": "9562cae3",
   "metadata": {},
   "outputs": [
    {
     "data": {
      "text/plain": [
       "True"
      ]
     },
     "execution_count": 134,
     "metadata": {},
     "output_type": "execute_result"
    }
   ],
   "source": [
    "type(6) == int"
   ]
  },
  {
   "cell_type": "code",
   "execution_count": null,
   "id": "443aedd2-24b5-4769-a528-60d14771666d",
   "metadata": {},
   "outputs": [
    {
     "name": "stdout",
     "output_type": "stream",
     "text": [
      "['DS', 'Sec A', 'meets', 'Tuesdays and Thursdays', 'to']\n",
      "[256, 11, 30, 1, 45]\n"
     ]
    }
   ],
   "source": [
    "test_list = ['DS', 256, 'Sec A', 'meets', 'Tuesdays and Thursdays', 11, 30, 'to', 1, 45]\n",
    "\n",
    "def siftList(jumbleList):\n",
    "    \n",
    "    string_list = []\n",
    "    num_list = []\n",
    "    \n",
    "    for item in jumbleList:\n",
    "        if type(item) == str:\n",
    "            string_list.append(item)\n",
    "        elif type(item) == int or type(item) == float:\n",
    "            num_list.append(item)\n",
    "                        \n",
    "    return string_list, num_list\n",
    "\n",
    "strings, nums = siftList(test_list)\n",
    "\n",
    "print(strings)\n",
    "print(nums)\n",
    "\n"
   ]
  },
  {
   "cell_type": "markdown",
   "id": "9afd667b-311b-4b5e-b007-c9a6fb4dc1c6",
   "metadata": {},
   "source": [
    "#### Example Problem 6\n",
    "You run an artisan jewelry store on Etsy and you collect data from your customers purchases. A shopping cart is stored as a dictionary with the product name as the key and the value being another dictionary storing quantity and price with keys 'qty' and 'price' respectively. Write a loop that takes a shopping cart dictionary as input and returns the number of items in the cart and the total cost."
   ]
  },
  {
   "cell_type": "code",
   "execution_count": null,
   "id": "5e75beed-4dca-4a54-83b5-e872c9d1c1d8",
   "metadata": {},
   "outputs": [],
   "source": [
    "sample_cart1 = dict(bracelet = {'qty':2, 'price':15},\n",
    "                   necklace = {'qty':1, 'price':45},\n",
    "                   silver ring = {'qty':2, 'price':25},\n",
    "                   gold earrings = {'qty':4, 'price':12}\n",
    "                   )\n",
    "\n",
    "sample_cart2 = dict(gold ring = {'qty':1, 'price':35},\n",
    "                   silver ring = {'qty':2, 'price':25},\n",
    "                   giftcard = {'qty':1, 'price':100}\n",
    "                   )"
   ]
  },
  {
   "cell_type": "markdown",
   "id": "b5fe80c9-b0c5-422d-a42c-c3730693cde8",
   "metadata": {},
   "source": [
    "### Other loop keywords\n",
    "\n",
    "You may exit a loop or skip an iteration of a loop using the ```break``` and ```continue``` keywords, respectively.\n",
    "\n",
    " - break - exit the loop and proceed with code outside of the loop\n",
    " - continue - skip the remaining code in the current iteration and advance to the next iteration"
   ]
  },
  {
   "cell_type": "markdown",
   "id": "8734e2ab",
   "metadata": {},
   "source": [
    "Write a function ```just_numbers``` that takes as input a list returns a list with only the numerical items from the original list.\n",
    "\n",
    "Write a function ```just_upto_numbers``` that takes as input a list returns a list with only the numerical items from the original list up to the first non-number entry."
   ]
  },
  {
   "cell_type": "code",
   "execution_count": null,
   "id": "19364773",
   "metadata": {},
   "outputs": [],
   "source": [
    "def just_numbers(my_list):\n",
    "    new_list = []\n",
    "    for item in my_list:\n",
    "        if type(item)==int or type(item)==float:\n",
    "            new_list.append(item)\n",
    "    return new_list\n",
    "\n",
    "def just_numbers2(my_list):\n",
    "    new_list = []\n",
    "    for item in my_list:\n",
    "        if (not type(item)==int) and (not type(item)==float):\n",
    "            continue\n",
    "        new_list.append(item)\n",
    "        \n",
    "    return new_list\n",
    "\n",
    "def just_upto_numbers(my_list):\n",
    "    new_list = []\n",
    "    for item in my_list:\n",
    "        if type(item)==int or type(item)==float:\n",
    "            new_list.append(item)\n",
    "        else:\n",
    "            break\n",
    "    return new_list\n",
    "        "
   ]
  },
  {
   "cell_type": "code",
   "execution_count": null,
   "id": "4d202d3e",
   "metadata": {},
   "outputs": [
    {
     "name": "stdout",
     "output_type": "stream",
     "text": [
      "[67, 99, 99.9, 1, 5, 9, 100.1]\n",
      "[67, 99, 99.9, 1, 5, 9, 100.1]\n",
      "[67, 99, 99.9]\n"
     ]
    }
   ],
   "source": [
    "test_list = [67, 99, 99.9, 'duck', 1, 5, 'table', '7', 9, 100.1]\n",
    "\n",
    "list_a = just_numbers(test_list)\n",
    "list_b = just_numbers2(test_list)\n",
    "\n",
    "list_c = just_upto_numbers(test_list)\n",
    "\n",
    "print(list_a)\n",
    "print(list_b)\n",
    "\n",
    "print(list_c)"
   ]
  },
  {
   "cell_type": "markdown",
   "id": "20a0be66-b490-48e3-92a1-85878350c8bf",
   "metadata": {},
   "source": [
    "#### Example Problem 7\n",
    "We've used the .index() function to find the location of an item in a list. The problem with .index() is that it raises an error if the item isn't in the list. Let's write our own version. The function should iterate through a list, checking each entry for a match. If a match is found, the function returns the location of the first match. Otherwise, the function prints 'no match found'."
   ]
  },
  {
   "cell_type": "code",
   "execution_count": null,
   "id": "de325c95-ef98-42c6-abd2-0e9598ec7fc5",
   "metadata": {},
   "outputs": [],
   "source": [
    "def find_idx(my_list, target):\n",
    "    k = 0\n",
    "    for item in my_list:\n",
    "        if item == target:\n",
    "            return k\n",
    "        else:\n",
    "            k+=1\n",
    "    print('Item not found')\n",
    "    return None"
   ]
  },
  {
   "cell_type": "code",
   "execution_count": null,
   "id": "5467cb01",
   "metadata": {},
   "outputs": [
    {
     "name": "stdout",
     "output_type": "stream",
     "text": [
      "Item not found\n"
     ]
    },
    {
     "data": {
      "text/plain": [
       "2"
      ]
     },
     "execution_count": 2,
     "metadata": {},
     "output_type": "execute_result"
    }
   ],
   "source": [
    "my_list = ['hello', 'there', 'DS', 256]\n",
    "\n",
    "find_idx(my_list, 'hi')\n",
    "find_idx(my_list, 'DS')"
   ]
  },
  {
   "cell_type": "markdown",
   "id": "329e40f2-39b7-491c-a264-5573735af06b",
   "metadata": {},
   "source": [
    "#### Example Problem 8\n",
    "Let's revisit Example Problem 3 above. This time, after a sentence is complete, we should skip any subsequent spaces before beginning a new sentence. Can we achieve this with a ```continue``` statement?"
   ]
  },
  {
   "cell_type": "code",
   "execution_count": null,
   "id": "91f26bfb",
   "metadata": {},
   "outputs": [],
   "source": []
  },
  {
   "cell_type": "code",
   "execution_count": null,
   "id": "ca023be4",
   "metadata": {},
   "outputs": [],
   "source": []
  }
 ],
 "metadata": {
  "kernelspec": {
   "display_name": "datascience",
   "language": "python",
   "name": "python3"
  },
  "language_info": {
   "codemirror_mode": {
    "name": "ipython",
    "version": 3
   },
   "file_extension": ".py",
   "mimetype": "text/x-python",
   "name": "python",
   "nbconvert_exporter": "python",
   "pygments_lexer": "ipython3",
   "version": "3.13.1"
  }
 },
 "nbformat": 4,
 "nbformat_minor": 5
}
