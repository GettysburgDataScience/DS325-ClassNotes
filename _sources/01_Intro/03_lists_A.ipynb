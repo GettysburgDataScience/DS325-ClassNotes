{
 "cells": [
  {
   "cell_type": "markdown",
   "id": "1a51b375",
   "metadata": {},
   "source": [
    "# Lists\n",
    "\n",
    "Today, we'll introduce *lists*, our first data structure!\n",
    "\n",
    "But first, let's recap:\n",
    "\n",
    "## Recap\n",
    "\n",
    "**Variables**\n",
    "\n",
    "You can think of a variable as a box in storage that contains a thing (or things). The name of the variable is a label on the box. When you use a variable in code, you get the value out of the box. \n",
    "\n",
    "A variable can hold almost anything in Python. But there are a few simple data types that will cover most of the data we work with:\n",
    " - Numeric - ints and floats\n",
    " - String - any textual data, denoted by quotes ('___' or \"___\"). Any character can be put into a string.\n",
    " - Boolean - True or False\n",
    "\n",
    "**Functions**\n",
    "\n",
    "Functions are our actors; they perform actions. \n",
    "\n",
    "Python is a stickler for grammar, so be careful to follow the syntax for a function EXACTLY! \n",
    "(this applies to all structures in Python)\n",
    "<img src=\"../images/function_good_bad.png\" alt=\"Good and bad function examples\" width=\"50%\"/>\n"
   ]
  },
  {
   "cell_type": "markdown",
   "id": "0a0b6ac0-cbf3-4e85-bc69-6352da3f7253",
   "metadata": {},
   "source": [
    "## Lists\n",
    "\n",
    "(Read [WTOP Ch 6](https://jakevdp.github.io/WhirlwindTourOfPython/06-built-in-data-structures.html))\n",
    "\n",
    "A *list* is an ordered grouping of data. So if a variable is a box, a list is a box of boxes!\n",
    "\n",
    " - enclosed in brackets with items separated by commas [A, B, C, D]\n",
    " - can contain any object type and types don't need to be consistent within the list"
   ]
  },
  {
   "cell_type": "code",
   "execution_count": 1,
   "id": "82be8d3e-ebd2-49a4-9b49-5c02c02f2120",
   "metadata": {},
   "outputs": [
    {
     "name": "stdout",
     "output_type": "stream",
     "text": [
      "[1, 2, 'hello', 3.5, False]\n"
     ]
    }
   ],
   "source": [
    "A = [1,2, 'hello', 3.5, False]\n",
    "\n",
    "print(A)"
   ]
  },
  {
   "cell_type": "markdown",
   "id": "920fe9c2-e79e-4b09-bc57-770ac10b84f0",
   "metadata": {},
   "source": [
    "### Adding to lists\n",
    "\n",
    "You can add A SINGLE item to the end of a list with ```.append(item)```. However, this item could be a list. 'Append' updates the list in place.\n",
    "\n",
    "You can concatenate two lists with +."
   ]
  },
  {
   "cell_type": "code",
   "execution_count": 2,
   "id": "a7fd31d4-857f-4bc2-86bc-4d364052c5af",
   "metadata": {},
   "outputs": [
    {
     "name": "stdout",
     "output_type": "stream",
     "text": [
      "[1, 2, 'hello', 3.5, False, 'celery']\n"
     ]
    }
   ],
   "source": [
    "A.append('celery')\n",
    "print(A)"
   ]
  },
  {
   "cell_type": "code",
   "execution_count": 3,
   "id": "877b4110-2695-4f63-aa90-2637f1b5e57f",
   "metadata": {},
   "outputs": [
    {
     "name": "stdout",
     "output_type": "stream",
     "text": [
      "[1, 2, 'hello', 3.5, False, 'celery', 'DS', 256]\n"
     ]
    }
   ],
   "source": [
    "B = ['DS', 256]\n",
    "print(A+B)"
   ]
  },
  {
   "cell_type": "code",
   "execution_count": 4,
   "id": "21aba5c5",
   "metadata": {},
   "outputs": [
    {
     "name": "stdout",
     "output_type": "stream",
     "text": [
      "[1, 2, 'hello', 3.5, False, 'celery']\n"
     ]
    }
   ],
   "source": [
    "print(A)"
   ]
  },
  {
   "cell_type": "code",
   "execution_count": 5,
   "id": "3da110c4-25a3-47fb-b2e4-6ad843a5650c",
   "metadata": {},
   "outputs": [
    {
     "name": "stdout",
     "output_type": "stream",
     "text": [
      "[1, 2, 'hello', 3.5, False, 'celery', ['DS', 256]]\n"
     ]
    }
   ],
   "source": [
    "A.append(B)\n",
    "print(A)"
   ]
  },
  {
   "cell_type": "markdown",
   "id": "7e066354-5ec0-4db7-85a1-e41100a4ead7",
   "metadata": {},
   "source": [
    "### Length of lists\n",
    "\n",
    "You can get the length of a list with the function ```len(list)```"
   ]
  },
  {
   "cell_type": "code",
   "execution_count": 6,
   "id": "4ea7c52a-5ca1-46a2-b664-ae86d3fe8606",
   "metadata": {},
   "outputs": [
    {
     "data": {
      "text/plain": [
       "7"
      ]
     },
     "execution_count": 6,
     "metadata": {},
     "output_type": "execute_result"
    }
   ],
   "source": [
    "len(A)"
   ]
  },
  {
   "cell_type": "markdown",
   "id": "fcf007d9-7d24-4600-aab5-010b27ff3790",
   "metadata": {},
   "source": [
    "### Indexing of lists\n",
    "\n",
    "The locations in a list are indexed by number, starting at 0. That is, a list starts with a zero-th entry.\n",
    "\n",
    "Alternatively, you can index lists from the end backwards starting with -1 (the last item in a list).\n",
    "\n",
    "<img src=\"../images/indices.png\" alt=\"List indices\" width=\"50%\"/>\n"
   ]
  },
  {
   "cell_type": "code",
   "execution_count": 14,
   "id": "e5bbeb10",
   "metadata": {},
   "outputs": [
    {
     "name": "stdout",
     "output_type": "stream",
     "text": [
      "gamma\n"
     ]
    }
   ],
   "source": [
    "new_list = ['alpha', 'beta', 'gamma', 'delta', 'epsilon', 'zeta', 'theta']\n",
    "print(new_list[-5])"
   ]
  },
  {
   "cell_type": "code",
   "execution_count": 15,
   "id": "bec15a51",
   "metadata": {},
   "outputs": [
    {
     "name": "stdout",
     "output_type": "stream",
     "text": [
      "['alpha', 'beta', 'gamma', 'D', 'epsilon', 'zeta', 'theta']\n"
     ]
    }
   ],
   "source": [
    "new_list[3] = 'D'\n",
    "print(new_list)"
   ]
  },
  {
   "cell_type": "markdown",
   "id": "70269d2c",
   "metadata": {},
   "source": [
    "\n",
    "You extract a value from a list using brackets. For example, ```new_list[5]``` would return the 6th entry of the list.\n",
    "\n",
    "And you can use indexing to assign new values to items in the list."
   ]
  },
  {
   "cell_type": "code",
   "execution_count": null,
   "id": "ff841caa",
   "metadata": {},
   "outputs": [],
   "source": [
    "print(new_list[5])\n",
    "print(new_list[-2])"
   ]
  },
  {
   "cell_type": "markdown",
   "id": "34d0a707-71d7-4b06-a67e-4c19d75e5fce",
   "metadata": {},
   "source": [
    "### Slicing\n",
    "\n",
    "A slice is an extraction of a sub-list from a list.\n",
    "\n",
    "You slice a list as:\n",
    "\n",
    "```\n",
    "new_list[startIdx:stopIdx:stepSize]\n",
    "```\n",
    "Notes:\n",
    "\n",
    " - the list will go up to but not include the stopIdx.\n",
    " - any of the parameters can be skipped.\n",
    "\n",
    "*Try these!*\n",
    "First, guess what these slices will do. Then type them into your notes to check:\n",
    " - ```new_list[0:5:2]```\n",
    " - ```new_list[0:5]```\n",
    " - ```new_list[4::]```\n",
    " - ```new_list[:3]```\n",
    " - ```new_list[-3:]```\n"
   ]
  },
  {
   "cell_type": "code",
   "execution_count": 16,
   "id": "5f42ec4e",
   "metadata": {},
   "outputs": [
    {
     "name": "stdout",
     "output_type": "stream",
     "text": [
      "['alpha', 'beta', 'gamma', 'D', 'epsilon', 'zeta', 'theta']\n"
     ]
    }
   ],
   "source": [
    "print(new_list)"
   ]
  },
  {
   "cell_type": "code",
   "execution_count": 21,
   "id": "c1387724",
   "metadata": {},
   "outputs": [
    {
     "data": {
      "text/plain": [
       "['alpha', 'beta', 'gamma']"
      ]
     },
     "execution_count": 21,
     "metadata": {},
     "output_type": "execute_result"
    }
   ],
   "source": [
    "new_list[:3]\n"
   ]
  },
  {
   "cell_type": "code",
   "execution_count": 22,
   "id": "7bb0cab5",
   "metadata": {},
   "outputs": [
    {
     "data": {
      "text/plain": [
       "['epsilon', 'zeta', 'theta']"
      ]
     },
     "execution_count": 22,
     "metadata": {},
     "output_type": "execute_result"
    }
   ],
   "source": [
    "new_list[-3:]"
   ]
  },
  {
   "cell_type": "code",
   "execution_count": 28,
   "id": "ab8f7a59",
   "metadata": {},
   "outputs": [
    {
     "data": {
      "text/plain": [
       "['theta', 'zeta', 'epsilon', 'D', 'gamma', 'beta', 'alpha']"
      ]
     },
     "execution_count": 28,
     "metadata": {},
     "output_type": "execute_result"
    }
   ],
   "source": [
    "['theta', 'zeta', 'epsilon', 'D', 'gamma', 'beta', 'alpha']\n",
    "\n",
    "# To reverse a list, we start at the end and take steps of -1\n",
    "new_list[-1::-1]\n"
   ]
  },
  {
   "cell_type": "markdown",
   "id": "0d758100-8160-4908-b32c-ba5675022b9d",
   "metadata": {},
   "source": [
    "#### Exercises\n",
    "\n",
    "Write a slice to select the colored blocks. There's more than one way to solve each of these problems."
   ]
  },
  {
   "cell_type": "markdown",
   "id": "b32908b0-f12d-4b06-a2c8-87219c318600",
   "metadata": {},
   "source": [
    "**1.**\n",
    "```{image} ../images/q1.png\n",
    ":alt: fishy\n",
    ":class: bg-primary mb-1\n",
    ":width: 200px\n",
    ":align: center\n",
    "```"
   ]
  },
  {
   "cell_type": "code",
   "execution_count": 29,
   "id": "f5ff7a5d",
   "metadata": {},
   "outputs": [
    {
     "data": {
      "text/plain": [
       "['beta', 'gamma', 'D', 'epsilon']"
      ]
     },
     "execution_count": 29,
     "metadata": {},
     "output_type": "execute_result"
    }
   ],
   "source": [
    "new_list[1:5]"
   ]
  },
  {
   "cell_type": "markdown",
   "id": "862a8667",
   "metadata": {},
   "source": [
    "**2.**\n",
    "\n",
    "<img src=\"../images/q2.png\" alt=\"List indices\" width=\"50%\"/>"
   ]
  },
  {
   "cell_type": "code",
   "execution_count": 31,
   "id": "5470efa8",
   "metadata": {},
   "outputs": [
    {
     "data": {
      "text/plain": [
       "'D'"
      ]
     },
     "execution_count": 31,
     "metadata": {},
     "output_type": "execute_result"
    }
   ],
   "source": [
    "new_list[3]"
   ]
  },
  {
   "cell_type": "markdown",
   "id": "1c5a3891",
   "metadata": {},
   "source": [
    "**3.**\n",
    "\n",
    "<img src=\"../images/q3.png\" alt=\"List indices\" width=\"50%\"/>"
   ]
  },
  {
   "cell_type": "code",
   "execution_count": null,
   "id": "e7d7fc12",
   "metadata": {},
   "outputs": [
    {
     "data": {
      "text/plain": [
       "['beta', 'D', 'zeta']"
      ]
     },
     "execution_count": 33,
     "metadata": {},
     "output_type": "execute_result"
    }
   ],
   "source": [
    "new_list[1::2]"
   ]
  },
  {
   "cell_type": "markdown",
   "id": "5580fa6d",
   "metadata": {},
   "source": [
    "**4.**\n",
    "\n",
    "<img src=\"../images/q4.png\" alt=\"List indices\" width=\"50%\"/>"
   ]
  },
  {
   "cell_type": "code",
   "execution_count": 37,
   "id": "573fd27d",
   "metadata": {},
   "outputs": [
    {
     "data": {
      "text/plain": [
       "['zeta', 'theta']"
      ]
     },
     "execution_count": 37,
     "metadata": {},
     "output_type": "execute_result"
    }
   ],
   "source": [
    "['zeta', 'theta']\n",
    "new_list[-2:]"
   ]
  },
  {
   "cell_type": "markdown",
   "id": "7e619cf2",
   "metadata": {},
   "source": [
    "**5.**\n",
    "\n",
    "<img src=\"../images/q5.png\" alt=\"List indices\" width=\"50%\"/>"
   ]
  },
  {
   "cell_type": "code",
   "execution_count": 40,
   "id": "c68451e1",
   "metadata": {},
   "outputs": [
    {
     "data": {
      "text/plain": [
       "['D', 'epsilon', 'zeta', 'theta']"
      ]
     },
     "execution_count": 40,
     "metadata": {},
     "output_type": "execute_result"
    }
   ],
   "source": [
    "['D', 'epsilon', 'zeta', 'theta']\n",
    "new_list[-4:]"
   ]
  },
  {
   "cell_type": "markdown",
   "id": "9c4fe90a",
   "metadata": {},
   "source": [
    "**6.**\n",
    "\n",
    "<img src=\"../images/q6.png\" alt=\"List indices\" width=\"50%\"/>"
   ]
  },
  {
   "cell_type": "code",
   "execution_count": null,
   "id": "e42be1e4",
   "metadata": {},
   "outputs": [
    {
     "data": {
      "text/plain": [
       "['alpha', 'beta', 'gamma', 'D']"
      ]
     },
     "execution_count": 43,
     "metadata": {},
     "output_type": "execute_result"
    }
   ],
   "source": [
    "['alpha', 'beta', 'gamma', 'D']\n",
    "new_list[:4]"
   ]
  },
  {
   "cell_type": "markdown",
   "id": "ccb08874-9c9b-4ec8-8193-abc4b4f4186e",
   "metadata": {},
   "source": [
    "### Finding an element in a list\n",
    "\n",
    "If a list contains an element, you can find where that element is using ```.index(searchItem, startIdx, endIdx)```.\n",
    "```index``` will only return the first instance it finds in the specified range."
   ]
  },
  {
   "cell_type": "code",
   "execution_count": 44,
   "id": "0c2a7bce-1fe8-4c87-a9e0-3ff760aaea49",
   "metadata": {},
   "outputs": [],
   "source": [
    "my_favorite_pets = ['Ramona RIP', 'Boyd', 'MJ', 'Raylan', 'Puff', 'MJ']"
   ]
  },
  {
   "cell_type": "code",
   "execution_count": 46,
   "id": "f5485ddb",
   "metadata": {},
   "outputs": [
    {
     "data": {
      "text/plain": [
       "5"
      ]
     },
     "execution_count": 46,
     "metadata": {},
     "output_type": "execute_result"
    }
   ],
   "source": [
    "my_favorite_pets.index('MJ', 3)"
   ]
  },
  {
   "cell_type": "markdown",
   "id": "2c325d4a-8d16-464a-a2d6-781f95b7210d",
   "metadata": {},
   "source": [
    "## Tuples\n",
    "\n",
    "Tuples are just like lists EXCEPT:\n",
    " - They are immutable, meaning once they are created you can not change them.\n",
    " - They are identified by parantheses () instead of brackets [].\n",
    "\n",
    "When functions return multiple values, those values are stored as a tuple by default."
   ]
  },
  {
   "cell_type": "code",
   "execution_count": 47,
   "id": "8bf10b0a-dd9d-4b66-bc4e-df1c7d6e7882",
   "metadata": {},
   "outputs": [
    {
     "name": "stdout",
     "output_type": "stream",
     "text": [
      "('hello', 2, 1)\n"
     ]
    }
   ],
   "source": [
    "my_tuple = (1,2,'hello')\n",
    "my_eplut = my_tuple[-1::-1]\n",
    "print(my_eplut)"
   ]
  },
  {
   "cell_type": "code",
   "execution_count": 48,
   "id": "e4faef6e",
   "metadata": {},
   "outputs": [
    {
     "ename": "AttributeError",
     "evalue": "'tuple' object has no attribute 'append'",
     "output_type": "error",
     "traceback": [
      "\u001b[0;31m---------------------------------------------------------------------------\u001b[0m",
      "\u001b[0;31mAttributeError\u001b[0m                            Traceback (most recent call last)",
      "Cell \u001b[0;32mIn[48], line 1\u001b[0m\n\u001b[0;32m----> 1\u001b[0m \u001b[43mmy_tuple\u001b[49m\u001b[38;5;241;43m.\u001b[39;49m\u001b[43mappend\u001b[49m(\u001b[38;5;124m'\u001b[39m\u001b[38;5;124mgoodbye\u001b[39m\u001b[38;5;124m'\u001b[39m)\n",
      "\u001b[0;31mAttributeError\u001b[0m: 'tuple' object has no attribute 'append'"
     ]
    }
   ],
   "source": [
    "my_tuple.append('goodbye')"
   ]
  }
 ],
 "metadata": {
  "kernelspec": {
   "display_name": "datascience",
   "language": "python",
   "name": "python3"
  },
  "language_info": {
   "codemirror_mode": {
    "name": "ipython",
    "version": 3
   },
   "file_extension": ".py",
   "mimetype": "text/x-python",
   "name": "python",
   "nbconvert_exporter": "python",
   "pygments_lexer": "ipython3",
   "version": "3.13.1"
  }
 },
 "nbformat": 4,
 "nbformat_minor": 5
}
