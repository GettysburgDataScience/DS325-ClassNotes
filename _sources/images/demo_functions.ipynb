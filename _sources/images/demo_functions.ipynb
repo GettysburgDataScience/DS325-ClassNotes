{
 "cells": [
  {
   "cell_type": "code",
   "execution_count": null,
   "id": "06323e54",
   "metadata": {},
   "outputs": [],
   "source": []
  },
  {
   "cell_type": "code",
   "execution_count": null,
   "id": "431b12a7",
   "metadata": {},
   "outputs": [],
   "source": [
    "def find_midpoint(point_a, point_b):\n",
    "    midpoint = (point_a + point_b)/2\n",
    "    return midpoint"
   ]
  },
  {
   "cell_type": "code",
   "execution_count": null,
   "id": "58923261",
   "metadata": {},
   "outputs": [],
   "source": [
    "def find midpoint (point_a, point_b)\n",
    "   midpoint = (point_A + point_B)/2\n",
    "    return midpoint"
   ]
  }
 ],
 "metadata": {
  "language_info": {
   "name": "python"
  }
 },
 "nbformat": 4,
 "nbformat_minor": 5
}
