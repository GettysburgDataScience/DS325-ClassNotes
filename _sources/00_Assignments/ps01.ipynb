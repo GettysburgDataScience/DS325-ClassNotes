{
 "cells": [
  {
   "cell_type": "markdown",
   "metadata": {},
   "source": [
    "# PS01 - (Not so) Simple Linear Regression\n",
    "DS325, Gettysburg College\n",
    "Prof Eatai Roth\n",
    "\n",
    "Due Friday Sep 12, 2025 5:00p\n",
    "\n",
    "Total pts: 20\n",
    "\n",
    "## IMPORTANT INSTRUCTIONS:\n",
    "\n",
    " - When you submit your code, make sure that every cell runs without returning an error.\n",
    " - Once you have the results you need, edit out any extraneous code and outputs.\n",
    " - Do not rewrite code if it doesn't need to be rewritten. For example, in the sample analysis, I write all the import statements you should need. I also perform data cleaning and scaling. Do not redo those in your analysis."
   ]
  },
  {
   "cell_type": "markdown",
   "metadata": {},
   "source": [
    "### Problem 1\n",
    "\n",
    "We'll be looking at U.S. public health data at a county level. The data file we'll use comes from the County Health Rankings, a study by the Roberts Wood Johnson Foundation and the University of Wisconsin Population Health Institute. The data are extensive, but we'll be looking specifically at the relationship between the percentage of children eligible for subsidized/free school lunches and the prevalence of diabetes.\n",
    "\n",
    "This pdf explains all the data in this file (you may have interest for future use): [County Health Data Dictionary](https://github.com/GettysburgDataScience/datasets/blob/main/countyHealth_DataDictionary_2025.pdf)\n",
    "\n",
    "Below, I've loaded selected columns from the data set and renamed them for your convenience. See below for parts a-d."
   ]
  },
  {
   "cell_type": "code",
   "execution_count": 1,
   "metadata": {},
   "outputs": [],
   "source": [
    "import pandas as pd\n",
    "import numpy as np\n",
    "import matplotlib.pyplot as plt"
   ]
  },
  {
   "cell_type": "code",
   "execution_count": 2,
   "metadata": {},
   "outputs": [
    {
     "name": "stdout",
     "output_type": "stream",
     "text": [
      "<class 'pandas.core.frame.DataFrame'>\n",
      "RangeIndex: 3203 entries, 0 to 3202\n",
      "Data columns (total 5 columns):\n",
      " #   Column    Non-Null Count  Dtype  \n",
      "---  ------    --------------  -----  \n",
      " 0   state     3203 non-null   object \n",
      " 1   county    3203 non-null   object \n",
      " 2   year      3203 non-null   int64  \n",
      " 3   diabetes  3195 non-null   float64\n",
      " 4   lunch     2955 non-null   float64\n",
      "dtypes: float64(2), int64(1), object(2)\n",
      "memory usage: 125.2+ KB\n"
     ]
    }
   ],
   "source": [
    "health_df = pd.read_csv('https://raw.githubusercontent.com/GettysburgDataScience/datasets/refs/heads/main/countyHealth_2025.csv',\n",
    "                        skiprows=[0,2],\n",
    "                        header = 0,\n",
    "                        usecols = ['state', 'county','year', 'v065_rawvalue','v060_rawvalue']\n",
    ")\n",
    "\n",
    "health_df.rename(columns = {'v065_rawvalue':'lunch',\n",
    "                  'v060_rawvalue':'diabetes'},\n",
    "                 inplace = True)\n",
    "\n",
    "health_df.info()                    "
   ]
  },
  {
   "cell_type": "markdown",
   "metadata": {},
   "source": [
    "### a. Data inspection and cleaning\n",
    " - Drop any rows with missing data in either the diabetes or lunch columns. Use ```dropna``` with the argument ```subset``` (check the documentation for ```dropna``` for more help).\n",
    "\n",
    " *For plots, be sure to have axis labels and titles where appropriate.*\n",
    " - Plot separate histograms for the 'lunch' and 'diabetes' data. Use 100 bins.\n",
    " - Plot a scatter plot of 'lunch' vs 'diabetes'. There's a lot of data, so use a small point size (s=5) and transparency (alpha = 0.3)\n",
    "\n",
    " *Are there any other data you think should be removed from the dataset before fitting a model?*\n",
    "\n",
    " - Remove data you feel might be problematic; do you have a good justification for removing these data?"
   ]
  },
  {
   "cell_type": "code",
   "execution_count": 3,
   "metadata": {},
   "outputs": [
    {
     "data": {
      "text/plain": [
       "'your code here. Add code cells as needed.'"
      ]
     },
     "execution_count": 3,
     "metadata": {},
     "output_type": "execute_result"
    }
   ],
   "source": [
    "'''your code here. Add code cells as needed.'''"
   ]
  },
  {
   "cell_type": "markdown",
   "metadata": {},
   "source": [
    "### b. Modeling\n",
    "\n",
    "- Fit a linear regression to the remaining data following the steps from class: \n",
    "    - select the feature and target data\n",
    "    - train-test split\n",
    "    - fit the model\n",
    "    - predict the target value for the test set\n",
    "    - calculate $R^2$ and MSE based on the test set\n",
    "- Plot the data with a trend line super-imposed. Add the $R^2$ and MSE values to the figure as text.\n",
    "- Plot a histogram of the residuals."
   ]
  },
  {
   "cell_type": "code",
   "execution_count": 4,
   "metadata": {},
   "outputs": [
    {
     "data": {
      "text/plain": [
       "'your code here. Add code cells as needed.'"
      ]
     },
     "execution_count": 4,
     "metadata": {},
     "output_type": "execute_result"
    }
   ],
   "source": [
    "'''your code here. Add code cells as needed.'''"
   ]
  },
  {
   "cell_type": "markdown",
   "metadata": {},
   "source": [
    "### c. Questions\n",
    " - If you removed any additional data, how do you justify your decision?\n",
    "    - *your responses here*\n",
    "\n",
    "\n",
    " - Does this trend suggest that school lunches are unhealthy and prime a population for diabetes? Why or why not.\n",
    "     - *your responses here*\n"
   ]
  },
  {
   "cell_type": "markdown",
   "metadata": {},
   "source": [
    "## Problem 2\n",
    "\n",
    "The Standard & Poor 500 (S&P 500) is a stock market index that uses the performance of 500 of the biggest publicly traded companies to summarize the overall performance of the market. In this problem, we'll look at records of the S&P 500 from the past 50+ years. We will use an exponential regression to model the trend of the S&P 500 and predict future values of the index.\n",
    "\n",
    "In the first section, I do some prep work for you, since working with dates in pandas can be a bit of a pain; though you should inspect this code for your own learning. Your tasks begin at the section labeled \"YOUR TASKS BEGIN HERE\"."
   ]
  },
  {
   "cell_type": "markdown",
   "metadata": {},
   "source": [
    "### Importing and inspecting the data"
   ]
  },
  {
   "cell_type": "code",
   "execution_count": 5,
   "metadata": {},
   "outputs": [],
   "source": [
    "import datetime as dt"
   ]
  },
  {
   "cell_type": "code",
   "execution_count": 6,
   "metadata": {},
   "outputs": [
    {
     "data": {
      "application/vnd.microsoft.datawrangler.viewer.v0+json": {
       "columns": [
        {
         "name": "index",
         "rawType": "int64",
         "type": "integer"
        },
        {
         "name": "Date",
         "rawType": "datetime64[ns]",
         "type": "datetime"
        },
        {
         "name": "Price",
         "rawType": "float64",
         "type": "float"
        }
       ],
       "ref": "177723d6-038f-43a0-a653-5822c6a0f4b9",
       "rows": [
        [
         "0",
         "2025-08-31 00:00:00",
         "6437.47"
        ],
        [
         "1",
         "2025-08-24 00:00:00",
         "6460.26"
        ],
        [
         "2",
         "2025-08-17 00:00:00",
         "6466.91"
        ],
        [
         "3",
         "2025-08-10 00:00:00",
         "6449.8"
        ],
        [
         "4",
         "2025-08-03 00:00:00",
         "6389.45"
        ]
       ],
       "shape": {
        "columns": 2,
        "rows": 5
       }
      },
      "text/html": [
       "<div>\n",
       "<style scoped>\n",
       "    .dataframe tbody tr th:only-of-type {\n",
       "        vertical-align: middle;\n",
       "    }\n",
       "\n",
       "    .dataframe tbody tr th {\n",
       "        vertical-align: top;\n",
       "    }\n",
       "\n",
       "    .dataframe thead th {\n",
       "        text-align: right;\n",
       "    }\n",
       "</style>\n",
       "<table border=\"1\" class=\"dataframe\">\n",
       "  <thead>\n",
       "    <tr style=\"text-align: right;\">\n",
       "      <th></th>\n",
       "      <th>Date</th>\n",
       "      <th>Price</th>\n",
       "    </tr>\n",
       "  </thead>\n",
       "  <tbody>\n",
       "    <tr>\n",
       "      <th>0</th>\n",
       "      <td>2025-08-31</td>\n",
       "      <td>6437.47</td>\n",
       "    </tr>\n",
       "    <tr>\n",
       "      <th>1</th>\n",
       "      <td>2025-08-24</td>\n",
       "      <td>6460.26</td>\n",
       "    </tr>\n",
       "    <tr>\n",
       "      <th>2</th>\n",
       "      <td>2025-08-17</td>\n",
       "      <td>6466.91</td>\n",
       "    </tr>\n",
       "    <tr>\n",
       "      <th>3</th>\n",
       "      <td>2025-08-10</td>\n",
       "      <td>6449.80</td>\n",
       "    </tr>\n",
       "    <tr>\n",
       "      <th>4</th>\n",
       "      <td>2025-08-03</td>\n",
       "      <td>6389.45</td>\n",
       "    </tr>\n",
       "  </tbody>\n",
       "</table>\n",
       "</div>"
      ],
      "text/plain": [
       "        Date    Price\n",
       "0 2025-08-31  6437.47\n",
       "1 2025-08-24  6460.26\n",
       "2 2025-08-17  6466.91\n",
       "3 2025-08-10  6449.80\n",
       "4 2025-08-03  6389.45"
      ]
     },
     "metadata": {},
     "output_type": "display_data"
    },
    {
     "data": {
      "application/vnd.microsoft.datawrangler.viewer.v0+json": {
       "columns": [
        {
         "name": "index",
         "rawType": "int64",
         "type": "integer"
        },
        {
         "name": "Date",
         "rawType": "datetime64[ns]",
         "type": "datetime"
        },
        {
         "name": "Price",
         "rawType": "float64",
         "type": "float"
        }
       ],
       "ref": "b2f02c7a-52f0-4bf1-8d4c-8495642e2cee",
       "rows": [
        [
         "2900",
         "1970-02-01 00:00:00",
         "86.3"
        ],
        [
         "2901",
         "1970-01-25 00:00:00",
         "85.0"
        ],
        [
         "2902",
         "1970-01-18 00:00:00",
         "89.1"
        ],
        [
         "2903",
         "1970-01-11 00:00:00",
         "90.9"
        ],
        [
         "2904",
         "1970-01-04 00:00:00",
         "92.4"
        ]
       ],
       "shape": {
        "columns": 2,
        "rows": 5
       }
      },
      "text/html": [
       "<div>\n",
       "<style scoped>\n",
       "    .dataframe tbody tr th:only-of-type {\n",
       "        vertical-align: middle;\n",
       "    }\n",
       "\n",
       "    .dataframe tbody tr th {\n",
       "        vertical-align: top;\n",
       "    }\n",
       "\n",
       "    .dataframe thead th {\n",
       "        text-align: right;\n",
       "    }\n",
       "</style>\n",
       "<table border=\"1\" class=\"dataframe\">\n",
       "  <thead>\n",
       "    <tr style=\"text-align: right;\">\n",
       "      <th></th>\n",
       "      <th>Date</th>\n",
       "      <th>Price</th>\n",
       "    </tr>\n",
       "  </thead>\n",
       "  <tbody>\n",
       "    <tr>\n",
       "      <th>2900</th>\n",
       "      <td>1970-02-01</td>\n",
       "      <td>86.3</td>\n",
       "    </tr>\n",
       "    <tr>\n",
       "      <th>2901</th>\n",
       "      <td>1970-01-25</td>\n",
       "      <td>85.0</td>\n",
       "    </tr>\n",
       "    <tr>\n",
       "      <th>2902</th>\n",
       "      <td>1970-01-18</td>\n",
       "      <td>89.1</td>\n",
       "    </tr>\n",
       "    <tr>\n",
       "      <th>2903</th>\n",
       "      <td>1970-01-11</td>\n",
       "      <td>90.9</td>\n",
       "    </tr>\n",
       "    <tr>\n",
       "      <th>2904</th>\n",
       "      <td>1970-01-04</td>\n",
       "      <td>92.4</td>\n",
       "    </tr>\n",
       "  </tbody>\n",
       "</table>\n",
       "</div>"
      ],
      "text/plain": [
       "           Date  Price\n",
       "2900 1970-02-01   86.3\n",
       "2901 1970-01-25   85.0\n",
       "2902 1970-01-18   89.1\n",
       "2903 1970-01-11   90.9\n",
       "2904 1970-01-04   92.4"
      ]
     },
     "metadata": {},
     "output_type": "display_data"
    }
   ],
   "source": [
    "sp500_df = pd.read_csv('https://raw.githubusercontent.com/GettysburgDataScience/datasets/refs/heads/main/sp500_1950_2025_weekly.csv', \n",
    "                    parse_dates = ['Date'], thousands = ',', usecols = ['Date', 'Price'])\n",
    "\n",
    "display(sp500_df.head())\n",
    "display(sp500_df.tail())"
   ]
  },
  {
   "cell_type": "markdown",
   "metadata": {},
   "source": [
    "### Converting dates into integer day counts\n",
    "\n",
    "For the regression, we'd like to represent dates as something more user-friendly than a timestamp, preferably a float. The next block of code will convert each date into a fractional year. For example, July 2 is the 183rd day of the year (the middle of the year) and its year fraction would be 0.5; the date July 2, 2025 would be converted to 2025.5.\n",
    "\n",
    "From a timestamp, we can extract the day, month, year, day of the year by appending '''.dt.day''', '''.dt.month''', '''.dt.year''', or '''.dt.dayofyear''' to the timestamp variable.[ Here's a good summary of date/time functions in Pandas](https://www.geeksforgeeks.org/pandas/date-and-time-operations-in-pandas-series/)"
   ]
  },
  {
   "cell_type": "code",
   "execution_count": 7,
   "metadata": {},
   "outputs": [
    {
     "data": {
      "application/vnd.microsoft.datawrangler.viewer.v0+json": {
       "columns": [
        {
         "name": "index",
         "rawType": "int64",
         "type": "integer"
        },
        {
         "name": "Date",
         "rawType": "datetime64[ns]",
         "type": "datetime"
        },
        {
         "name": "DateNum",
         "rawType": "float64",
         "type": "float"
        }
       ],
       "ref": "c15fbc3b-ef90-4d42-901b-3b5b0bc25400",
       "rows": [
        [
         "0",
         "2025-08-31 00:00:00",
         "2025.6657534246576"
        ],
        [
         "1",
         "2025-08-24 00:00:00",
         "2025.6465753424657"
        ],
        [
         "2",
         "2025-08-17 00:00:00",
         "2025.627397260274"
        ],
        [
         "3",
         "2025-08-10 00:00:00",
         "2025.6082191780822"
        ],
        [
         "4",
         "2025-08-03 00:00:00",
         "2025.5890410958905"
        ],
        [
         "5",
         "2025-07-27 00:00:00",
         "2025.5698630136985"
        ],
        [
         "6",
         "2025-07-20 00:00:00",
         "2025.5506849315068"
        ],
        [
         "7",
         "2025-07-13 00:00:00",
         "2025.531506849315"
        ],
        [
         "8",
         "2025-07-06 00:00:00",
         "2025.5123287671233"
        ],
        [
         "9",
         "2025-06-29 00:00:00",
         "2025.4931506849316"
        ]
       ],
       "shape": {
        "columns": 2,
        "rows": 10
       }
      },
      "text/html": [
       "<div>\n",
       "<style scoped>\n",
       "    .dataframe tbody tr th:only-of-type {\n",
       "        vertical-align: middle;\n",
       "    }\n",
       "\n",
       "    .dataframe tbody tr th {\n",
       "        vertical-align: top;\n",
       "    }\n",
       "\n",
       "    .dataframe thead th {\n",
       "        text-align: right;\n",
       "    }\n",
       "</style>\n",
       "<table border=\"1\" class=\"dataframe\">\n",
       "  <thead>\n",
       "    <tr style=\"text-align: right;\">\n",
       "      <th></th>\n",
       "      <th>Date</th>\n",
       "      <th>DateNum</th>\n",
       "    </tr>\n",
       "  </thead>\n",
       "  <tbody>\n",
       "    <tr>\n",
       "      <th>0</th>\n",
       "      <td>2025-08-31</td>\n",
       "      <td>2025.665753</td>\n",
       "    </tr>\n",
       "    <tr>\n",
       "      <th>1</th>\n",
       "      <td>2025-08-24</td>\n",
       "      <td>2025.646575</td>\n",
       "    </tr>\n",
       "    <tr>\n",
       "      <th>2</th>\n",
       "      <td>2025-08-17</td>\n",
       "      <td>2025.627397</td>\n",
       "    </tr>\n",
       "    <tr>\n",
       "      <th>3</th>\n",
       "      <td>2025-08-10</td>\n",
       "      <td>2025.608219</td>\n",
       "    </tr>\n",
       "    <tr>\n",
       "      <th>4</th>\n",
       "      <td>2025-08-03</td>\n",
       "      <td>2025.589041</td>\n",
       "    </tr>\n",
       "    <tr>\n",
       "      <th>5</th>\n",
       "      <td>2025-07-27</td>\n",
       "      <td>2025.569863</td>\n",
       "    </tr>\n",
       "    <tr>\n",
       "      <th>6</th>\n",
       "      <td>2025-07-20</td>\n",
       "      <td>2025.550685</td>\n",
       "    </tr>\n",
       "    <tr>\n",
       "      <th>7</th>\n",
       "      <td>2025-07-13</td>\n",
       "      <td>2025.531507</td>\n",
       "    </tr>\n",
       "    <tr>\n",
       "      <th>8</th>\n",
       "      <td>2025-07-06</td>\n",
       "      <td>2025.512329</td>\n",
       "    </tr>\n",
       "    <tr>\n",
       "      <th>9</th>\n",
       "      <td>2025-06-29</td>\n",
       "      <td>2025.493151</td>\n",
       "    </tr>\n",
       "  </tbody>\n",
       "</table>\n",
       "</div>"
      ],
      "text/plain": [
       "        Date      DateNum\n",
       "0 2025-08-31  2025.665753\n",
       "1 2025-08-24  2025.646575\n",
       "2 2025-08-17  2025.627397\n",
       "3 2025-08-10  2025.608219\n",
       "4 2025-08-03  2025.589041\n",
       "5 2025-07-27  2025.569863\n",
       "6 2025-07-20  2025.550685\n",
       "7 2025-07-13  2025.531507\n",
       "8 2025-07-06  2025.512329\n",
       "9 2025-06-29  2025.493151"
      ]
     },
     "execution_count": 7,
     "metadata": {},
     "output_type": "execute_result"
    }
   ],
   "source": [
    "sp500_df['DateNum'] = sp500_df['Date'].dt.year + sp500_df['Date'].dt.dayofyear/365. # ignoring leap years, whatever\n",
    "sp500_df[['Date', 'DateNum']].head(10)"
   ]
  },
  {
   "cell_type": "markdown",
   "metadata": {},
   "source": [
    "### Visualizing\n",
    "\n",
    "We can still plot using timestamp data, and this makes the resulting graph more readable. So later, we'll want to keep a copy of dates as 'DateNum' (integers) for modeling and another copy as 'Date' (timestamps) for plotting."
   ]
  },
  {
   "cell_type": "code",
   "execution_count": 8,
   "metadata": {},
   "outputs": [
    {
     "data": {
      "image/png": "[encoded data removed]",
      "text/plain": [
       "<Figure size 640x480 with 1 Axes>"
      ]
     },
     "metadata": {},
     "output_type": "display_data"
    }
   ],
   "source": [
    "plt.plot(sp500_df['DateNum'], sp500_df['Price'])\n",
    "plt.xlabel('Year')\n",
    "plt.ylabel('Price')\n",
    "plt.title('S&P 500 index vs time')\n",
    "plt.show()"
   ]
  },
  {
   "cell_type": "markdown",
   "metadata": {},
   "source": [
    "# YOUR TASKS BEGIN HERE\n",
    "\n",
    "You will use the Price (Adj Closing value) as the target (y) and DateNum as the feature (x) to fit a linear regression. \n",
    "\n",
    "BUT THESE DATA SURE DON'T LOOK LINEAR!?\n",
    "\n",
    "No, they aren't. The market grows exponentially. So in order to fit a linear regression, we will first transform the target data using a log. We'll then fit the regression on the tranformed data and subsequently re-exponentiate the outputs.\n",
    "\n",
    "$$\n",
    "\\hat{y} = e^{\\theta_1 \\cdot x + \\theta_0}\\\\\n",
    "ln(\\hat{y}) = \\theta_1 \\cdot x + \\theta_0\n",
    "$$\n",
    "\n",
    "## a. \n",
    " - Fit an exponential model to the entire data by transforming the target using ```np.log```. \n",
    " - Plot the date vs log(y) and verify the data look mostly linear.\n",
    " - Fit a linear regression to the log-transformed data.\n",
    " - Once you have a linear regression fit, you can make predictions of the actual price by exponentiating the output from the linear regression: ```np.exp(ln_y_pred)```\n",
    " - Plot the data and the model-predicted trend.\n",
    " - Use the model to predict the value of the S&P 500 on Jan 1 of 2025, 2030, and 2070 (about the time you all might be retiring)."
   ]
  },
  {
   "cell_type": "code",
   "execution_count": 9,
   "metadata": {},
   "outputs": [
    {
     "data": {
      "text/plain": [
       "'your code here. Add code cells as needed.'"
      ]
     },
     "execution_count": 9,
     "metadata": {},
     "output_type": "execute_result"
    }
   ],
   "source": [
    "'''your code here. Add code cells as needed.'''"
   ]
  },
  {
   "cell_type": "markdown",
   "metadata": {},
   "source": [
    "#"
   ]
  },
  {
   "cell_type": "markdown",
   "metadata": {},
   "source": [
    "Input your S&P 500 predictions for:\n",
    "\n",
    " - 2025: *your value*\n",
    " - 2030: *your value*\n",
    " - 2070: *your value*"
   ]
  },
  {
   "cell_type": "markdown",
   "metadata": {},
   "source": [
    "## b. \n",
    " - Filter the data to only dates before 1995.\n",
    " - Fit an exponential model to this data set.\n",
    " - Use this model to predict the S&P 500 for 1995-2015; use 10 increments per year (e.g. 2015.1, 2015.2, etc.).\n",
    " - Plot the data, and the model-predicted trend."
   ]
  },
  {
   "cell_type": "code",
   "execution_count": 10,
   "metadata": {},
   "outputs": [
    {
     "data": {
      "text/plain": [
       "'your code here. Add code cells as needed.'"
      ]
     },
     "execution_count": 10,
     "metadata": {},
     "output_type": "execute_result"
    }
   ],
   "source": [
    "'''your code here. Add code cells as needed.'''"
   ]
  },
  {
   "cell_type": "markdown",
   "metadata": {},
   "source": [
    "### c.\n",
    "Answer the following questions (you may want to write some more code to get these answers).\n",
    " - You'll notice two humps in the data between 1995 and 2010. They represent the dot-com and housing bubbles that burst in 2000 and 2008 respectively. For each bubble, at its peak, by how much did the index exceed the pre-1995 projections.\n",
    "    - 2000: *your answer*\n",
    "    - 2008: *your answer*\n",
    "\n",
    " - After the bursts, did the S&P 500 return to the trend established before the bubbles?\n",
    "    - *your answer*"
   ]
  }
 ],
 "metadata": {
  "kernelspec": {
   "display_name": "datascience",
   "language": "python",
   "name": "python3"
  },
  "language_info": {
   "codemirror_mode": {
    "name": "ipython",
    "version": 3
   },
   "file_extension": ".py",
   "mimetype": "text/x-python",
   "name": "python",
   "nbconvert_exporter": "python",
   "pygments_lexer": "ipython3",
   "version": "3.13.1"
  },
  "orig_nbformat": 4
 },
 "nbformat": 4,
 "nbformat_minor": 2
}
