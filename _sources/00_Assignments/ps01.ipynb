{
 "cells": [
  {
   "cell_type": "markdown",
   "metadata": {},
   "source": [
    "# PS01\n",
    "\n",
    "DS256, Gettysburg College\n",
    "\n",
    "Prof Eatai Roth\n",
    "\n",
    "Due: Sep 12, 2025 5p\n",
    "\n",
    "### Instructions\n",
    " - Write your code in the cells labeled '''your code here'''.\n",
    "\n",
    " - The questions are in no particular order in terms of difficulty, so if you feel stuck, skip the question and come back to it.\n",
    "\n",
    " - You'll need to run the cell below to install the otter-grader package. You'll only need to do this once, but there's no harm in running the cell multiple times."
   ]
  },
  {
   "cell_type": "code",
   "execution_count": null,
   "metadata": {},
   "outputs": [],
   "source": [
    "%%capture\n",
    "!pip install otter-grader"
   ]
  },
  {
   "cell_type": "code",
   "execution_count": null,
   "metadata": {},
   "outputs": [],
   "source": [
    "# Initialize Otter\n",
    "import otter\n",
    "grader = otter.Notebook(\"ps01.ipynb\")"
   ]
  },
  {
   "cell_type": "markdown",
   "metadata": {
    "deletable": false,
    "editable": false,
    "vscode": {
     "languageId": "raw"
    }
   },
   "source": [
    "**1.** Write a function named ```hi_there``` that prints the phrase \"Hi there!\". This function takes no inputs and has no outputs."
   ]
  },
  {
   "cell_type": "code",
   "execution_count": null,
   "metadata": {
    "tags": [
     "otter_answer_cell"
    ]
   },
   "outputs": [],
   "source": [
    "'''your code here'''\n"
   ]
  },
  {
   "cell_type": "code",
   "execution_count": null,
   "metadata": {
    "deletable": false,
    "editable": false
   },
   "outputs": [],
   "source": [
    "# If you see the friendly message below this cell, you've done it correctly.\n",
    "hi_there()"
   ]
  },
  {
   "cell_type": "markdown",
   "metadata": {
    "deletable": false,
    "editable": false
   },
   "source": [
    "**2.** Write a function called ```last_name_first```. The function should take two inputs named 'first_name', and 'last_name' and return a string that is 'last_name, first_name'. If either first or last name is missing, substitute a question mark (?) for the missing name."
   ]
  },
  {
   "cell_type": "code",
   "execution_count": null,
   "metadata": {
    "tags": [
     "otter_answer_cell"
    ]
   },
   "outputs": [],
   "source": [
    "'''your code here'''"
   ]
  },
  {
   "cell_type": "code",
   "execution_count": null,
   "metadata": {
    "deletable": false,
    "editable": false
   },
   "outputs": [],
   "source": [
    "grader.check(\"q2\")"
   ]
  },
  {
   "cell_type": "markdown",
   "metadata": {
    "deletable": false,
    "editable": false
   },
   "source": [
    "**3.** Write the function ```echo``` that takes as inputs 'shout' (a string) and 'repeats' (an integer). The function should return a string that repeats 'shout' the specified number of times. Between each repeat, there should be as many spaces as there are repeats; that is the more repeats, the more spaced out the words will be. There should be no trailing spaces; the output should end with the last instance of the shout word. If repeats is 0 or negative, the function should still return the original shout word.\n",
    "\n",
    "The function will not print the output, just return the string value."
   ]
  },
  {
   "cell_type": "code",
   "execution_count": null,
   "metadata": {
    "tags": [
     "otter_answer_cell"
    ]
   },
   "outputs": [],
   "source": [
    "'''your code here'''"
   ]
  },
  {
   "cell_type": "code",
   "execution_count": null,
   "metadata": {
    "tags": [
     "otter_answer_cell"
    ]
   },
   "outputs": [],
   "source": [
    "echo('bye', -1)"
   ]
  },
  {
   "cell_type": "code",
   "execution_count": null,
   "metadata": {
    "deletable": false,
    "editable": false
   },
   "outputs": [],
   "source": [
    "grader.check(\"q3\")"
   ]
  },
  {
   "cell_type": "markdown",
   "metadata": {
    "deletable": false,
    "editable": false
   },
   "source": [
    "**4.** Write the function ```banana``` that takes as an argument 'nanum' and returns the word ```banana``` with the number of na's specified. If the function is called with no input, return the word 'banana' spelled as normal.\n",
    "\n",
    "For example, ```banana(1)``` returns 'bana'."
   ]
  },
  {
   "cell_type": "code",
   "execution_count": null,
   "metadata": {
    "tags": [
     "otter_answer_cell"
    ]
   },
   "outputs": [],
   "source": [
    "'''your code here'''"
   ]
  },
  {
   "cell_type": "code",
   "execution_count": null,
   "metadata": {
    "deletable": false,
    "editable": false
   },
   "outputs": [],
   "source": [
    "grader.check(\"q4\")"
   ]
  },
  {
   "cell_type": "markdown",
   "metadata": {
    "deletable": false,
    "editable": false
   },
   "source": [
    "**5.** Write the function ```four_letter_word``` that takes as an input 'word'. If the word is four letters long, return True, otherwise False. The function len() returns the length of a string (e.g. len('hello') --> 5)."
   ]
  },
  {
   "cell_type": "code",
   "execution_count": null,
   "metadata": {
    "tags": [
     "otter_answer_cell"
    ]
   },
   "outputs": [],
   "source": [
    "'''your code here'''"
   ]
  },
  {
   "cell_type": "code",
   "execution_count": null,
   "metadata": {
    "deletable": false,
    "editable": false
   },
   "outputs": [],
   "source": [
    "grader.check(\"q5\")"
   ]
  },
  {
   "cell_type": "markdown",
   "metadata": {
    "deletable": false,
    "editable": false
   },
   "source": [
    "**6.** Write the function ```pos_neg``` that takes as an argument a number and returns the string 'positive' if the number is positive, 'negative' if the number is negative, and 'zero' if the number is exactly zero. \n",
    "\n",
    "*Hint:* When used in an equation along with numbers or strings, booleans are interpreted as the integers 1 (True) and 0 (False).\n",
    "\n",
    "For those who have programmed before, DO NOT USE CONDITIONAL ('if' or 'match-case') STATEMENTS."
   ]
  },
  {
   "cell_type": "code",
   "execution_count": null,
   "metadata": {
    "tags": [
     "otter_answer_cell"
    ]
   },
   "outputs": [],
   "source": [
    "'''your code here'''\n"
   ]
  },
  {
   "cell_type": "code",
   "execution_count": null,
   "metadata": {
    "deletable": false,
    "editable": false
   },
   "outputs": [],
   "source": [
    "grader.check(\"q6\")"
   ]
  },
  {
   "cell_type": "markdown",
   "metadata": {
    "deletable": false,
    "editable": false
   },
   "source": [
    "**7.** Write the function ```greater``` that takes as input two numbers and returns the greater of the two. If the two numbers are equal, just return that number."
   ]
  },
  {
   "cell_type": "code",
   "execution_count": null,
   "metadata": {
    "tags": [
     "otter_answer_cell"
    ]
   },
   "outputs": [],
   "source": [
    "'''your code here'''"
   ]
  },
  {
   "cell_type": "code",
   "execution_count": null,
   "metadata": {
    "deletable": false,
    "editable": false
   },
   "outputs": [],
   "source": [
    "grader.check(\"q7\")"
   ]
  },
  {
   "cell_type": "markdown",
   "metadata": {
    "deletable": false,
    "editable": false
   },
   "source": [
    "**8.** Write the function ```check_square``` that takes two numbers as inputs. If the second number is the first number squared, return True, otherwise False."
   ]
  },
  {
   "cell_type": "code",
   "execution_count": null,
   "metadata": {
    "tags": [
     "otter_answer_cell"
    ]
   },
   "outputs": [],
   "source": [
    "'''your code here'''"
   ]
  },
  {
   "cell_type": "code",
   "execution_count": null,
   "metadata": {
    "deletable": false,
    "editable": false
   },
   "outputs": [],
   "source": [
    "grader.check(\"q8\")"
   ]
  },
  {
   "cell_type": "markdown",
   "metadata": {
    "deletable": false,
    "editable": false
   },
   "source": [
    "**9.** Write the function ```ten_tenths``` that takes a number as an input and returns two outputs, 1/10 of the number and 10 times the number."
   ]
  },
  {
   "cell_type": "code",
   "execution_count": null,
   "metadata": {
    "tags": [
     "otter_answer_cell"
    ]
   },
   "outputs": [],
   "source": [
    "'''your code here'''"
   ]
  },
  {
   "cell_type": "code",
   "execution_count": null,
   "metadata": {
    "deletable": false,
    "editable": false
   },
   "outputs": [],
   "source": [
    "grader.check(\"q9\")"
   ]
  },
  {
   "cell_type": "markdown",
   "metadata": {
    "deletable": false,
    "editable": false
   },
   "source": [
    "**10.** Write the function ```make_negative``` that takes a number as an input and returns the number as negative. If the number is already negative, just leave it as is.\n",
    "\n",
    "Again, for those who have learned about conditional statements, try this question without."
   ]
  },
  {
   "cell_type": "code",
   "execution_count": null,
   "metadata": {
    "tags": [
     "otter_answer_cell"
    ]
   },
   "outputs": [],
   "source": [
    "'''your code here'''"
   ]
  },
  {
   "cell_type": "code",
   "execution_count": null,
   "metadata": {
    "deletable": false,
    "editable": false
   },
   "outputs": [],
   "source": [
    "grader.check(\"q10\")"
   ]
  },
  {
   "cell_type": "markdown",
   "metadata": {},
   "source": [
    " "
   ]
  }
 ],
 "metadata": {
  "kernelspec": {
   "display_name": "datascience",
   "language": "python",
   "name": "python3"
  },
  "language_info": {
   "codemirror_mode": {
    "name": "ipython",
    "version": 3
   },
   "file_extension": ".py",
   "mimetype": "text/x-python",
   "name": "python",
   "nbconvert_exporter": "python",
   "pygments_lexer": "ipython3",
   "version": "3.13.1"
  },
  "otter": {
   "OK_FORMAT": true,
   "assignment_name": "ps01",
   "tests": {
    "q10": {
     "name": "q10",
     "points": null,
     "suites": [
      {
       "cases": [
        {
         "code": ">>> assert make_negative(5) == -5\n>>> assert make_negative(-3) == -3\n>>> assert make_negative(0) == 0\n>>> assert make_negative(100) == -100\n>>> assert make_negative(-0.5) == -0.5\n",
         "hidden": false,
         "locked": false
        }
       ],
       "scored": true,
       "setup": "",
       "teardown": "",
       "type": "doctest"
      }
     ]
    },
    "q2": {
     "name": "q2",
     "points": null,
     "suites": [
      {
       "cases": [
        {
         "code": ">>> assert last_name_first('Eatai', 'Roth') == 'Roth, Eatai'\n>>> assert last_name_first('Eatai') == '?, Eatai'\n>>> assert last_name_first(last_name='Roth') == 'Roth, ?'\n>>> assert last_name_first() == '?, ?'\n>>> assert last_name_first('', '') == ', '\n",
         "hidden": false,
         "locked": false
        }
       ],
       "scored": true,
       "setup": "",
       "teardown": "",
       "type": "doctest"
      }
     ]
    },
    "q3": {
     "name": "q3",
     "points": null,
     "suites": [
      {
       "cases": [
        {
         "code": ">>> assert echo('hello', 4) == 'hello    hello    hello    hello'\n>>> assert echo('bye', 0) == 'bye'\n>>> assert echo('bye', -2) == 'bye'\n",
         "hidden": false,
         "locked": false
        }
       ],
       "scored": true,
       "setup": "",
       "teardown": "",
       "type": "doctest"
      }
     ]
    },
    "q4": {
     "name": "q4",
     "points": null,
     "suites": [
      {
       "cases": [
        {
         "code": ">>> assert banana(0) == 'ba'\n>>> assert banana(1) == 'bana'\n>>> assert banana(-2) == 'ba'\n>>> assert banana(3) == 'bananana'\n>>> assert banana(5) == 'bananananana'\n",
         "hidden": false,
         "locked": false
        }
       ],
       "scored": true,
       "setup": "",
       "teardown": "",
       "type": "doctest"
      }
     ]
    },
    "q5": {
     "name": "q5",
     "points": null,
     "suites": [
      {
       "cases": [
        {
         "code": ">>> assert four_letter_word('test') == True\n>>> assert four_letter_word('word') == True\n>>> assert four_letter_word('hi') == False\n>>> assert four_letter_word('hello') == False\n>>> assert four_letter_word('') == False\n",
         "hidden": false,
         "locked": false
        }
       ],
       "scored": true,
       "setup": "",
       "teardown": "",
       "type": "doctest"
      }
     ]
    },
    "q6": {
     "name": "q6",
     "points": null,
     "suites": [
      {
       "cases": [
        {
         "code": ">>> assert pos_neg(5) == 'positive'\n>>> assert pos_neg(-3) == 'negative'\n>>> assert pos_neg(0) == 'zero'\n>>> assert pos_neg(100) == 'positive'\n>>> assert pos_neg(-0.1) == 'negative'\n",
         "hidden": false,
         "locked": false
        }
       ],
       "scored": true,
       "setup": "",
       "teardown": "",
       "type": "doctest"
      }
     ]
    },
    "q7": {
     "name": "q7",
     "points": null,
     "suites": [
      {
       "cases": [
        {
         "code": ">>> assert greater(5, 3) == 5\n>>> assert greater(2, 8) == 8\n>>> assert greater(-1, -5) == -1\n>>> assert greater(7, 7) == 7\n>>> assert greater(0, -10) == 0\n",
         "hidden": false,
         "locked": false
        }
       ],
       "scored": true,
       "setup": "",
       "teardown": "",
       "type": "doctest"
      }
     ]
    },
    "q8": {
     "name": "q8",
     "points": null,
     "suites": [
      {
       "cases": [
        {
         "code": ">>> assert check_square(3, 9) == True\n>>> assert check_square(4, 16) == True\n>>> assert check_square(5, 25) == True\n>>> assert check_square(2, 5) == False\n>>> assert check_square(-3, 9) == True\n>>> assert check_square(0, 0) == True\n>>> assert check_square(1, 1) == True\n",
         "hidden": false,
         "locked": false
        }
       ],
       "scored": true,
       "setup": "",
       "teardown": "",
       "type": "doctest"
      }
     ]
    },
    "q9": {
     "name": "q9",
     "points": null,
     "suites": [
      {
       "cases": [
        {
         "code": ">>> assert ten_tenths(10) == (1.0, 100)\n>>> assert ten_tenths(0) == (0.0, 0)\n>>> assert ten_tenths(-5) == (-0.5, -50)\n>>> assert ten_tenths(100) == (10.0, 1000)\n>>> assert ten_tenths(1.5) == (0.15, 15.0)\n",
         "hidden": false,
         "locked": false
        }
       ],
       "scored": true,
       "setup": "",
       "teardown": "",
       "type": "doctest"
      }
     ]
    }
   }
  },
  "varInspector": {
   "cols": {
    "lenName": 16,
    "lenType": 16,
    "lenVar": 40
   },
   "kernels_config": {
    "python": {
     "delete_cmd_postfix": "",
     "delete_cmd_prefix": "del ",
     "library": "var_list.py",
     "varRefreshCmd": "print(var_dic_list())"
    },
    "r": {
     "delete_cmd_postfix": ") ",
     "delete_cmd_prefix": "rm(",
     "library": "var_list.r",
     "varRefreshCmd": "cat(var_dic_list()) "
    }
   },
   "types_to_exclude": [
    "module",
    "function",
    "builtin_function_or_method",
    "instance",
    "_Feature"
   ],
   "window_display": false
  }
 },
 "nbformat": 4,
 "nbformat_minor": 4
}
