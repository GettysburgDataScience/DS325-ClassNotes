{
 "cells": [
  {
   "cell_type": "markdown",
   "metadata": {},
   "source": [
    "# PS02\n",
    "DS256, Gettysburg College\n",
    "\n",
    "Prof Eatai Roth\n",
    "\n",
    "Due: Sep 19, 2025 5p\n",
    "\n",
    "\n",
    "**Your Name**: \n",
    "\n",
    "**Collaborators**:\n",
    "\n",
    "By submitting this work, you attest that: \n",
    " - it reflects your own effort and understanding of the material\n",
    " - you did not ask for help from students outside the course, other than PLAs\n",
    " - you did not use a generative AI to produce any code used below.\n",
    "\n",
    " \n",
    "\n",
    "The questions are in no particular order in terms of difficulty, so if you feel stuck, skip the question and come back to it.\n",
    "\n",
    "You'll need to run the cell below to install the otter-grader package. You'll only need to do this once, but there's no harm in running the cell multiple times."
   ]
  },
  {
   "cell_type": "code",
   "execution_count": 7,
   "metadata": {},
   "outputs": [],
   "source": [
    "# Initialize Otter\n",
    "import otter\n",
    "grader = otter.Notebook(\"ps02.ipynb\")"
   ]
  },
  {
   "cell_type": "markdown",
   "metadata": {
    "deletable": false,
    "editable": false,
    "vscode": {
     "languageId": "raw"
    }
   },
   "source": [
    "**1.** Write a function called ```only_lowercase``` that takes as input text (as a string) and returns the same text with all spaces and punctuation (just !, ?, ., ', , (that's a comma)) removed and all remaining letters set to lowercase.\n",
    "\n",
    "Here are two functions you'll find helpful:\n",
    "\n",
    " - ```.lower()``` converts all the alphabetic characters into lowercase.\n",
    " - ```.replace('a', 'b')``` replaces all occurences of character 'a' with 'b'. If the second character is an empty string '', replace will just remove the first character.\n",
    "\n",
    "Here are two other tools you may find helpful for this problem."
   ]
  },
  {
   "cell_type": "code",
   "execution_count": 8,
   "metadata": {
    "deletable": false,
    "editable": false
   },
   "outputs": [
    {
     "name": "stdout",
     "output_type": "stream",
     "text": [
      "banana for sale!\n",
      "BoNoNo for SALE!\n"
     ]
    }
   ],
   "source": [
    "a = 'BaNaNa for SALE!'\n",
    "print(a.lower())\n",
    "print(a.replace('a', 'o'))  # notice, the 'A' in 'SALE' was not replaced because 'A' doesn't match 'a'"
   ]
  },
  {
   "cell_type": "code",
   "execution_count": 9,
   "metadata": {
    "tags": [
     "otter_answer_cell"
    ]
   },
   "outputs": [
    {
     "ename": "IndentationError",
     "evalue": "expected an indented block after function definition on line 1 (3349200994.py, line 2)",
     "output_type": "error",
     "traceback": [
      "\u001b[0;36m  Cell \u001b[0;32mIn[9], line 2\u001b[0;36m\u001b[0m\n\u001b[0;31m    '''your code here'''\u001b[0m\n\u001b[0m    ^\u001b[0m\n\u001b[0;31mIndentationError\u001b[0m\u001b[0;31m:\u001b[0m expected an indented block after function definition on line 1\n"
     ]
    }
   ],
   "source": [
    "def only_lowercase(text):\n",
    "'''your code here'''\n",
    "\n",
    "# Is it doing what you expect it to do.\n",
    "print(only_lowercase(\"Prof Roth can't wait for Thanksgiving!\"))"
   ]
  },
  {
   "cell_type": "code",
   "execution_count": null,
   "metadata": {
    "deletable": false,
    "editable": false
   },
   "outputs": [],
   "source": [
    "grader.check(\"q1\")"
   ]
  },
  {
   "cell_type": "markdown",
   "metadata": {
    "deletable": false,
    "editable": false
   },
   "source": [
    "**2.** **1.** \n",
    "\n",
    "A palindrome is a word or phrase that reads the same forwards and backwards. Write a function named ```check_palindrome``` that takes as input a string and returns a boolean value as to whether the string is a palindrome. Palindrome's generally ignore punctuation and spaces. Some examples:\n",
    "\n",
    " - 'kayak'\n",
    " - 'No lemons! No melon!'\n",
    " - 'Go hang a salami, I'm a lasagna hog.'\n",
    "\n",
    "For this problem, you'll be combining knowledge of lists and strings. A string can be treated as a list of characters and indexed/sliced just like a list. For example:\n",
    "```\n",
    "'hello'[:3] == 'hel'\n",
    "'banana'[::2] == 'bnn'\n",
    "```\n",
    "First apply ```only_lowercase``` (the function you wrote above) to remove all spaces and punctuation from the text. Then check if the remaining characters read the same backwards as forwards."
   ]
  },
  {
   "cell_type": "code",
   "execution_count": null,
   "metadata": {
    "tags": [
     "otter_answer_cell"
    ]
   },
   "outputs": [],
   "source": [
    "def check_palindrome(text):\n",
    "'''your code here'''"
   ]
  },
  {
   "cell_type": "code",
   "execution_count": null,
   "metadata": {
    "deletable": false,
    "editable": false
   },
   "outputs": [],
   "source": [
    "grader.check(\"q2\")"
   ]
  },
  {
   "cell_type": "markdown",
   "metadata": {
    "deletable": false,
    "editable": false
   },
   "source": [
    "**3.** Write a function ```transfer_funds``` that takes three inputs:\n",
    " - ```sender``` a list of numbers\n",
    " - ```recipient``` a list of numbers\n",
    " - ```amount``` a number representing the amount to transfer\n",
    "\n",
    " The sender and recipient lists represent account balances after a transaction. The last value in the list is the current amount in their account. The function should return the two lists:\n",
    "  - if the sender has enough in their account, transfer the money and add an entry to the end of each list with the new balance.\n",
    "  - if after the transaction, the sender has less than 50 remaining as their balance, print 'Low funds.'\n",
    "  - if the sender does not have enough in their account, print 'Transaction declined: insufficient funds.' and return the lists unchanged."
   ]
  },
  {
   "cell_type": "code",
   "execution_count": null,
   "metadata": {
    "tags": [
     "otter_answer_cell"
    ]
   },
   "outputs": [],
   "source": [
    "'''your code here'''"
   ]
  },
  {
   "cell_type": "code",
   "execution_count": null,
   "metadata": {
    "tags": [
     "otter_answer_cell"
    ]
   },
   "outputs": [],
   "source": [
    "# If you get long trailing decimals, that's okay.\n",
    "\n",
    "Prof = [100.60, 80.60]\n",
    "bookie = [50.10, 60.25]\n",
    "\n",
    "Prof_new, bookie_new = transfer_funds(Prof, bookie, 25.21)\n",
    "print(\"Sender history:\", Prof_new)\n",
    "print(\"Recipient history:\", bookie_new)"
   ]
  },
  {
   "cell_type": "code",
   "execution_count": null,
   "metadata": {
    "deletable": false,
    "editable": false
   },
   "outputs": [],
   "source": [
    "grader.check(\"q3\")"
   ]
  },
  {
   "cell_type": "markdown",
   "metadata": {
    "deletable": false,
    "editable": false
   },
   "source": [
    "**4.** Write a function ```unzip_list``` that takes as an input a list and returns two lists, one containing only the even-positioned entries and the other containing all the odd-positioned entries. For example:\n",
    "\n",
    "```\n",
    "my_list = ['A', 'B', 'C', 'D', 'E']\n",
    "unzip_list(my_list)\n",
    "```\n",
    "\n",
    "should return\n",
    "\n",
    "```\n",
    "['A', 'C', 'E'], ['B', 'D']\n",
    "```"
   ]
  },
  {
   "cell_type": "code",
   "execution_count": null,
   "metadata": {
    "tags": [
     "otter_answer_cell"
    ]
   },
   "outputs": [],
   "source": [
    "'''your code here'''"
   ]
  },
  {
   "cell_type": "code",
   "execution_count": null,
   "metadata": {
    "deletable": false,
    "editable": false
   },
   "outputs": [],
   "source": [
    "grader.check(\"q4\")"
   ]
  },
  {
   "cell_type": "markdown",
   "metadata": {
    "deletable": false,
    "editable": false
   },
   "source": [
    "**5.** Write the function ```middle``` that takes as input a list. If the length of the list is odd, return the middle value in the list. Otherwise, return the first value (0-position) of the list.\n",
    "\n",
    "*Tip*: A list will not accept a float as an index. To change a float to an int, use ```int(num)```. This will also truncate any fraction, rounding down to the nearest integer."
   ]
  },
  {
   "cell_type": "code",
   "execution_count": null,
   "metadata": {
    "deletable": false,
    "editable": false
   },
   "outputs": [],
   "source": [
    "int(4.75)"
   ]
  },
  {
   "cell_type": "code",
   "execution_count": null,
   "metadata": {
    "tags": [
     "otter_answer_cell"
    ]
   },
   "outputs": [],
   "source": [
    "'''your code here'''"
   ]
  },
  {
   "cell_type": "code",
   "execution_count": null,
   "metadata": {
    "deletable": false,
    "editable": false
   },
   "outputs": [],
   "source": [
    "grader.check(\"q5\")"
   ]
  },
  {
   "cell_type": "markdown",
   "metadata": {
    "deletable": false,
    "editable": false
   },
   "source": [
    "**6.** Write the function ```in_range``` that takes as input arguments a list (```rng```) and another number (```num```). The list contains two numbers defining a range (e.g. [0, 10]).\n",
    " - if the number is below the range, return -2\n",
    " - if the number is equal to the lower boundary value, return -1\n",
    " - if the number is in the range, return 0\n",
    " - if the number is equal to the higher boundary value, return 1\n",
    " - if the number is above the range, return 2\n",
    "\n",
    "Check to make sure the numbers in the list are in order, and if not, reverse their order. If the list has the same two numbers (no range) and the other number is also equal to that number, return 0."
   ]
  },
  {
   "cell_type": "code",
   "execution_count": null,
   "metadata": {
    "tags": [
     "otter_answer_cell"
    ]
   },
   "outputs": [],
   "source": [
    "'''your code here'''\n"
   ]
  },
  {
   "cell_type": "code",
   "execution_count": null,
   "metadata": {
    "deletable": false,
    "editable": false
   },
   "outputs": [],
   "source": [
    "grader.check(\"q6\")"
   ]
  },
  {
   "cell_type": "markdown",
   "metadata": {
    "deletable": false,
    "editable": false
   },
   "source": [
    "**7.** Write the function ```half_and_half``` that takes as its input a list. If the list has an even number of items, check whether the first half of the list is the same as the second half and return True if it is. If the halves don't match or the list is odd-length, return False."
   ]
  },
  {
   "cell_type": "code",
   "execution_count": null,
   "metadata": {
    "tags": [
     "otter_answer_cell"
    ]
   },
   "outputs": [],
   "source": [
    "'''your code here'''"
   ]
  },
  {
   "cell_type": "code",
   "execution_count": null,
   "metadata": {
    "deletable": false,
    "editable": false
   },
   "outputs": [],
   "source": [
    "grader.check(\"q7\")"
   ]
  },
  {
   "cell_type": "markdown",
   "metadata": {
    "deletable": false,
    "editable": false
   },
   "source": [
    "**8.** Write the function ```donate``` that takes as arguments two lists of strings (```donor```, ```recipient```) and another string (```item```).\n",
    " - if the item is not in the ```donor``` list, print 'Item not available` and return both lists unchanged\n",
    " - if the the recipient already has that item, print 'No thank you.' and return both lists unchanged\n",
    " - if the ```donor``` has the item and the ```recipient``` does not, move the item from the donor to the recipient, print 'Thank you. You are most welcome.' and return the updated lists.\n",
    "\n",
    " *Hint*: ```.remove(item)``` removes an item from a list by name (as opposed to ```.pop()``` which removes an item by index). The item must be in the list, or else you will get an error."
   ]
  },
  {
   "cell_type": "code",
   "execution_count": null,
   "metadata": {
    "tags": [
     "otter_answer_cell"
    ]
   },
   "outputs": [],
   "source": [
    "'''your code here'''"
   ]
  },
  {
   "cell_type": "code",
   "execution_count": null,
   "metadata": {
    "deletable": false,
    "editable": false
   },
   "outputs": [],
   "source": [
    "grader.check(\"q8\")"
   ]
  },
  {
   "cell_type": "markdown",
   "metadata": {
    "deletable": false,
    "editable": false
   },
   "source": [
    "## Submission\n",
    "\n",
    "Make sure you have run all cells in your notebook in order before running the cell below. The cell below should commit and push your work to github.\n",
    "\n",
    "**Check github that your work was received.**"
   ]
  },
  {
   "cell_type": "code",
   "execution_count": null,
   "metadata": {
    "deletable": false,
    "editable": false
   },
   "outputs": [],
   "source": [
    "!git add *\n",
    "!git commit -m 'ps02 submitted'\n",
    "!git push"
   ]
  },
  {
   "cell_type": "markdown",
   "metadata": {},
   "source": [
    " "
   ]
  }
 ],
 "metadata": {
  "kernelspec": {
   "display_name": "datascience",
   "language": "python",
   "name": "python3"
  },
  "language_info": {
   "codemirror_mode": {
    "name": "ipython",
    "version": 3
   },
   "file_extension": ".py",
   "mimetype": "text/x-python",
   "name": "python",
   "nbconvert_exporter": "python",
   "pygments_lexer": "ipython3",
   "version": "3.13.1"
  },
  "otter": {
   "OK_FORMAT": true,
   "assignment_name": "ps02",
   "tests": {
    "q1": {
     "name": "q1",
     "points": null,
     "suites": [
      {
       "cases": [
        {
         "code": ">>> assert only_lowercase('Hello, World!') == 'helloworld'\n>>> assert only_lowercase(\"What's up?\") == 'whatsup'\n>>> assert only_lowercase('Python. Is, Fun!') == 'pythonisfun'\n>>> assert only_lowercase('No spaces!') == 'nospaces'\n",
         "hidden": false,
         "locked": false
        }
       ],
       "scored": true,
       "setup": "",
       "teardown": "",
       "type": "doctest"
      }
     ]
    },
    "q2": {
     "name": "q2",
     "points": null,
     "suites": [
      {
       "cases": [
        {
         "code": ">>> assert check_palindrome('kayak') == True\n>>> assert check_palindrome('No lemons! No melon!') == True\n>>> assert check_palindrome(\"Go hang a salami, I'm a lasagna hog.\") == True\n>>> assert check_palindrome('Python') == False\n>>> assert check_palindrome('A man, a plan, a canal, Panama!') == True\n",
         "hidden": false,
         "locked": false
        }
       ],
       "scored": true,
       "setup": "",
       "teardown": "",
       "type": "doctest"
      }
     ]
    },
    "q3": {
     "name": "q3",
     "points": null,
     "suites": [
      {
       "cases": [
        {
         "code": ">>> import math\n>>> def lists_close(l1, l2):\n'''your code here'''     if len(l1) != len(l2):\n'''your code here'''         return False\n'''your code here'''     return all((math.isclose(x, y, abs_tol=0.01) for x, y in zip(l1, l2)))\n>>> sender1 = [200.75]\n>>> recipient1 = [50.25]\n>>> s1, r1 = transfer_funds(sender1, recipient1, 100.5)\n>>> assert lists_close(s1, [200.75, 100.25])\n>>> assert lists_close(r1, [50.25, 150.75])\n>>> sender2 = [30.1]\n>>> recipient2 = [70.9]\n>>> s2, r2 = transfer_funds(sender2, recipient2, 50.55)\n>>> assert lists_close(s2, [30.1])\n>>> assert lists_close(r2, [70.9])\n>>> sender3 = [60.99]\n>>> recipient3 = [20.01]\n>>> s3, r3 = transfer_funds(sender3, recipient3, 15.75)\n>>> assert lists_close(s3, [60.99, 45.24])\n>>> assert lists_close(r3, [20.01, 35.76])\n>>> sender4 = [25.5]\n>>> recipient4 = [10.1]\n>>> s4, r4 = transfer_funds(sender4, recipient4, 25.5)\n>>> assert lists_close(s4, [25.5, 0.0])\n>>> assert lists_close(r4, [10.1, 35.6])\n>>> sender5 = [100.0, 80.5, 55.25]\n>>> recipient5 = [50.5, 60.75, 85.8]\n>>> s5, r5 = transfer_funds(sender5, recipient5, 30.15)\n>>> assert lists_close(s5, [100.0, 80.5, 55.25, 25.1])\n>>> assert lists_close(r5, [50.5, 60.75, 85.8, 115.95])\nTransaction declined: insufficient funds.\nLow funds.\nLow funds.\nLow funds.\n",
         "hidden": false,
         "locked": false
        }
       ],
       "scored": true,
       "setup": "",
       "teardown": "",
       "type": "doctest"
      }
     ]
    },
    "q4": {
     "name": "q4",
     "points": null,
     "suites": [
      {
       "cases": [
        {
         "code": ">>> assert unzip_list(['A', 'B', 'C', 'D', 'E']) == (['A', 'C', 'E'], ['B', 'D'])\n>>> assert unzip_list([1, 2, 3, 4, 5, 6]) == ([1, 3, 5], [2, 4, 6])\n>>> assert unzip_list([]) == ([], [])\n>>> assert unzip_list(['x']) == (['x'], [])\n>>> assert unzip_list([True, False, True]) == ([True, True], [False])\n",
         "hidden": false,
         "locked": false
        }
       ],
       "scored": true,
       "setup": "",
       "teardown": "",
       "type": "doctest"
      }
     ]
    },
    "q5": {
     "name": "q5",
     "points": null,
     "suites": [
      {
       "cases": [
        {
         "code": ">>> assert middle([1, 2, 3]) == 2\n>>> assert middle([10, 20, 30, 40, 50, 60, 70]) == 40\n>>> assert middle([5, 6, 7, 8]) == 5\n>>> assert middle(['a', 'b', 'c']) == 'b'\n>>> assert middle([100]) == 100\n",
         "hidden": false,
         "locked": false
        }
       ],
       "scored": true,
       "setup": "",
       "teardown": "",
       "type": "doctest"
      }
     ]
    },
    "q6": {
     "name": "q6",
     "points": null,
     "suites": [
      {
       "cases": [
        {
         "code": ">>> assert in_range([0, 10], -5) == -2\n>>> assert in_range([0, 10], 0) == -1\n>>> assert in_range([0, 10], 5) == 0\n>>> assert in_range([0, 10], 10) == 1\n>>> assert in_range([0, 10], 15) == 2\n>>> assert in_range([10, 0], -1) == -2\n>>> assert in_range([10, 0], 0) == -1\n>>> assert in_range([10, 0], 5) == 0\n>>> assert in_range([10, 0], 10) == 1\n>>> assert in_range([10, 0], 11) == 2\n>>> assert in_range([5, 5], 5) == 0\n>>> assert in_range([5, 5], 4) == -2\n>>> assert in_range([5, 5], 6) == 2\n",
         "hidden": false,
         "locked": false
        }
       ],
       "scored": true,
       "setup": "",
       "teardown": "",
       "type": "doctest"
      }
     ]
    },
    "q7": {
     "name": "q7",
     "points": null,
     "suites": [
      {
       "cases": [
        {
         "code": ">>> assert half_and_half([1, 2, 1, 2]) == True\n>>> assert half_and_half([1, 2, 3, 4]) == False\n>>> assert half_and_half(['a', 'b', 'a', 'b']) == True\n>>> assert half_and_half(['a', 'b', 'c']) == False\n>>> assert half_and_half([]) == True\n>>> assert half_and_half([0, 0]) == True\n>>> assert half_and_half([1, 2, 3, 1]) == False\n",
         "hidden": false,
         "locked": false
        }
       ],
       "scored": true,
       "setup": "",
       "teardown": "",
       "type": "doctest"
      }
     ]
    },
    "q8": {
     "name": "q8",
     "points": null,
     "suites": [
      {
       "cases": [
        {
         "code": ">>> donor = ['book', 'pen', 'notebook']\n>>> recipient = ['pencil', 'eraser']\n>>> d1, r1 = donate(donor.copy(), recipient.copy(), 'book')\n>>> assert d1 == ['pen', 'notebook']\n>>> assert r1 == ['pencil', 'eraser', 'book']\n>>> d2, r2 = donate(donor.copy(), recipient.copy(), 'scissors')\n>>> assert d2 == donor\n>>> assert r2 == recipient\n>>> d3, r3 = donate(donor.copy(), recipient.copy() + ['pen'], 'pen')\n>>> assert d3 == donor\n>>> assert r3 == recipient + ['pen']\n>>> d4, r4 = donate(['apple'], [], 'apple')\n>>> assert d4 == []\n>>> assert r4 == ['apple']\n>>> d5, r5 = donate([], [], 'apple')\n>>> assert d5 == []\n>>> assert r5 == []\nItem not available\nNo thank you.\nItem not available\n",
         "hidden": false,
         "locked": false
        }
       ],
       "scored": true,
       "setup": "",
       "teardown": "",
       "type": "doctest"
      }
     ]
    }
   }
  },
  "varInspector": {
   "cols": {
    "lenName": 16,
    "lenType": 16,
    "lenVar": 40
   },
   "kernels_config": {
    "python": {
     "delete_cmd_postfix": "",
     "delete_cmd_prefix": "del ",
     "library": "var_list.py",
     "varRefreshCmd": "print(var_dic_list())"
    },
    "r": {
     "delete_cmd_postfix": ") ",
     "delete_cmd_prefix": "rm(",
     "library": "var_list.r",
     "varRefreshCmd": "cat(var_dic_list()) "
    }
   },
   "types_to_exclude": [
    "module",
    "function",
    "builtin_function_or_method",
    "instance",
    "_Feature"
   ],
   "window_display": false
  }
 },
 "nbformat": 4,
 "nbformat_minor": 4
}
