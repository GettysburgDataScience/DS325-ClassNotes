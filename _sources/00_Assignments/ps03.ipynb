{
 "cells": [
  {
   "cell_type": "markdown",
   "metadata": {},
   "source": [
    "# PS03 (v0.1)\n",
    "\n",
    "DS256, Gettysburg College\n",
    "\n",
    "Prof Eatai Roth\n",
    "\n",
    "Due: Sep 26, 2025 5p\n",
    "\n",
    "\n",
    "The questions are in no particular order in terms of difficulty, so if you feel stuck, skip the question and come back to it.\n",
    "\n",
    "You'll need to run the cell below to install the otter-grader package. You'll only need to do this once, but there's no harm in running the cell multiple times."
   ]
  },
  {
   "cell_type": "markdown",
   "metadata": {},
   "source": [
    "**Your Name**: ...\n",
    "\n",
    "**Collaborators**: ...\n",
    "\n",
    "By submitting this work, you attest that: \n",
    " - it reflects your own effort and understanding of the material\n",
    " - you did not ask for help from students outside the course, other than PLAs\n",
    " - you did not use a generative AI to produce any code used below."
   ]
  },
  {
   "cell_type": "code",
   "execution_count": null,
   "metadata": {},
   "outputs": [],
   "source": [
    "# Initialize Otter\n",
    "import otter\n",
    "grader = otter.Notebook(\"ps03.ipynb\")"
   ]
  },
  {
   "cell_type": "markdown",
   "metadata": {
    "deletable": false,
    "editable": false,
    "vscode": {
     "languageId": "raw"
    }
   },
   "source": [
    "**1.** Write a function ```factorize()``` that takes as input an integer and returns as output a list of factors of that number. If the number is prime, also print \"That's prime.\"\n",
    "\n",
    "The function ```range(start, stop, step)``` creates a sequence of numbers as a list."
   ]
  },
  {
   "cell_type": "code",
   "execution_count": null,
   "metadata": {
    "tags": [
     "otter_answer_cell"
    ]
   },
   "outputs": [],
   "source": [
    "def factorize(num):\n",
    "...\n"
   ]
  },
  {
   "cell_type": "code",
   "execution_count": null,
   "metadata": {},
   "outputs": [],
   "source": [
    "# Is it doing what you expect it to do.\n",
    "print(factorize(1)) # should be [1]\n",
    "print(factorize(57)) # should be [1, 3, 19, 57]\n",
    "print(factorize(59)) # should print \"That's prime.\" and return [1, 59]"
   ]
  },
  {
   "cell_type": "code",
   "execution_count": null,
   "metadata": {
    "deletable": false,
    "editable": false
   },
   "outputs": [],
   "source": [
    "grader.check(\"q1\")"
   ]
  },
  {
   "cell_type": "markdown",
   "metadata": {
    "deletable": false,
    "editable": false
   },
   "source": [
    "**2.**\n",
    "\n",
    "Write the function ```check_cyclic_equality()``` that takes two lists and checks if there is a rotation that makes them same.\n",
    "\n",
    "A single rotation/cycling is defined as taking the zero-th element of the list and moving it to the end. For example, [‘dog’, 7, ‘chicken’, ‘rabbit’, 9] cycled by 2 would be [‘chicken’, ‘rabbit’, 9, ‘dog’, 7].\n",
    "\n",
    "If the lists are cyclically equal, return the smallest number the second list has to be cycled to equal the first list. If not, return False."
   ]
  },
  {
   "cell_type": "code",
   "execution_count": null,
   "metadata": {
    "tags": [
     "otter_answer_cell"
    ]
   },
   "outputs": [],
   "source": [
    "def check_cyclic_equality(lista, listb):\n",
    "...\n"
   ]
  },
  {
   "cell_type": "code",
   "execution_count": null,
   "metadata": {
    "tags": [
     "otter_answer_cell"
    ]
   },
   "outputs": [],
   "source": [
    "# Lists are cyclically equal with 2 rotations\n",
    "assert check_cyclic_equality([1, 2, 3], [3, 1, 2]) == 1\n",
    "\n",
    "# Lists are not cyclically equal\n",
    "assert check_cyclic_equality([1, 2, 3], [4, 5, 6]) == False"
   ]
  },
  {
   "cell_type": "code",
   "execution_count": null,
   "metadata": {
    "deletable": false,
    "editable": false
   },
   "outputs": [],
   "source": [
    "grader.check(\"q2\")"
   ]
  },
  {
   "cell_type": "markdown",
   "metadata": {
    "deletable": false,
    "editable": false
   },
   "source": [
    "**3.** Write the function ```extract_vowels()``` that takes in a string of text and returns how many of each vowel (a,e,i,o,u) and the total number of vowels in the string.\n",
    "\n",
    "*Hints*: \n",
    "- You can consider a string a list of characters and loop over the characters.\n",
    "- 'A' and 'a' are different characters. It might be helpful (but not necessary) to convert all letters to lowercase first using ```.lower()``` (demo below)."
   ]
  },
  {
   "cell_type": "code",
   "execution_count": null,
   "metadata": {
    "deletable": false,
    "editable": false
   },
   "outputs": [],
   "source": [
    "hi = 'Hello!'\n",
    "for letter in hi:\n",
    "    print(letter)\n",
    "    \n",
    "'Gettysburg College'.lower()"
   ]
  },
  {
   "cell_type": "code",
   "execution_count": null,
   "metadata": {
    "tags": [
     "otter_answer_cell"
    ]
   },
   "outputs": [],
   "source": [
    "...\n",
    "\n",
    "# Assert is a kind of test statement. If the statement is True (correct), assert does nothing.\n",
    "assert extract_vowels(\"Gettysburg College\") == [0, 3, 0, 1, 1, 5]\n"
   ]
  },
  {
   "cell_type": "code",
   "execution_count": null,
   "metadata": {
    "deletable": false,
    "editable": false
   },
   "outputs": [],
   "source": [
    "grader.check(\"q3\")"
   ]
  },
  {
   "cell_type": "markdown",
   "metadata": {
    "deletable": false,
    "editable": false
   },
   "source": [
    "**4.** \n",
    "\n",
    "Write a function, ```find_filetype()``` which will take as input a list of filenames and a file extension starting with a '.' (e.g. '.pdf', '.xlsx', '.ipynb') and return the sublist of only those files with the specified filetype."
   ]
  },
  {
   "cell_type": "code",
   "execution_count": null,
   "metadata": {
    "tags": [
     "otter_answer_cell"
    ]
   },
   "outputs": [],
   "source": [
    "...\n",
    "\n",
    "file_list = ['hi.pdf', 'hello.doc', 'ps01.ipynb', 'goodbye.pdf', 'test.ipynb']\n",
    "\n",
    "find_filetype(file_list, '.ipynb')"
   ]
  },
  {
   "cell_type": "code",
   "execution_count": null,
   "metadata": {
    "deletable": false,
    "editable": false
   },
   "outputs": [],
   "source": [
    "grader.check(\"q4\")"
   ]
  },
  {
   "cell_type": "markdown",
   "metadata": {
    "deletable": false,
    "editable": false
   },
   "source": [
    "**5.** Write the function ```remove_duplicates()``` that takes as an input a list and removes any duplicates from the list, returning a list of only unique values in the order they appear in the original list.\n",
    "\n",
    "*Hint*: As you build your list of unique values, you'll be checking whether new values are already in that list."
   ]
  },
  {
   "cell_type": "code",
   "execution_count": null,
   "metadata": {
    "tags": [
     "otter_answer_cell"
    ]
   },
   "outputs": [],
   "source": [
    "...\n",
    "\n",
    "assert remove_duplicates([9, 1, 1, 'Emergency']) == [9, 1, 'Emergency']\n",
    "assert remove_duplicates('Hello there!') == ['H', 'e', 'l', 'o', ' ', 't', 'h', 'r', '!']"
   ]
  },
  {
   "cell_type": "code",
   "execution_count": null,
   "metadata": {
    "deletable": false,
    "editable": false
   },
   "outputs": [],
   "source": [
    "grader.check(\"q5\")"
   ]
  },
  {
   "cell_type": "markdown",
   "metadata": {
    "deletable": false,
    "editable": false
   },
   "source": [
    "**6. (Optional challenge)** Write the function 'convert_to_numeric()' that takes as input a list of prices. Some prices are listed as numbers, others as strings. Strings may appear with or without a decimal (but guaranteed that only one decimal per string) and possibly with a '$' or 'USD'). Return a list of prices as floats. If there is a non-numeric entry (e.g. 'Out of Stock'), skip it.\n",
    "\n",
    "*Hint*: \n",
    "- In class we checked the type of a variable as ```type(var)==int```. The function ```isinstance(var, [types])``` can check whether a variable is of several types.\n",
    "\n",
    "```isinstance(12.43, [int, float])``` --> True"
   ]
  },
  {
   "cell_type": "code",
   "execution_count": null,
   "metadata": {
    "tags": [
     "otter_answer_cell"
    ]
   },
   "outputs": [],
   "source": [
    "...\n"
   ]
  },
  {
   "cell_type": "code",
   "execution_count": null,
   "metadata": {
    "tags": [
     "otter_answer_cell"
    ]
   },
   "outputs": [],
   "source": [
    "# Some tests\n",
    "assert convert_to_numeric([12, '15.50', '$20', '30 USD', 'Out of Stock']) == [12.0, 15.5, 20.0, 30.0]\n",
    "assert convert_to_numeric(['5', 7.25, '$8.00', 'Not available']) == [5.0, 7.25, 8.0]\n"
   ]
  },
  {
   "cell_type": "code",
   "execution_count": null,
   "metadata": {
    "deletable": false,
    "editable": false
   },
   "outputs": [],
   "source": [
    "grader.check(\"q6\")"
   ]
  },
  {
   "cell_type": "markdown",
   "metadata": {},
   "source": [
    "### Submission\n",
    "\n",
    "When you are ready to submit, uncomment (cmd+/ or ctrl+/) and run the cell below."
   ]
  },
  {
   "cell_type": "code",
   "execution_count": null,
   "metadata": {},
   "outputs": [],
   "source": [
    "# !git add *\n",
    "# !git commit -m 'ps03 submitted'\n",
    "# !git push -f"
   ]
  },
  {
   "cell_type": "markdown",
   "metadata": {},
   "source": [
    " "
   ]
  }
 ],
 "metadata": {
  "kernelspec": {
   "display_name": "datascience",
   "language": "python",
   "name": "python3"
  },
  "language_info": {
   "codemirror_mode": {
    "name": "ipython",
    "version": 3
   },
   "file_extension": ".py",
   "mimetype": "text/x-python",
   "name": "python",
   "nbconvert_exporter": "python",
   "pygments_lexer": "ipython3",
   "version": "3.13.1"
  },
  "otter": {
   "OK_FORMAT": true,
   "assignment_name": "ps03",
   "tests": {
    "q1": {
     "name": "q1",
     "points": null,
     "suites": [
      {
       "cases": [
        {
         "code": ">>> assert factorize(57) == [1, 3, 19, 57]\n>>> assert factorize(59) == [1, 59]\n>>> assert factorize(1) == [1], \"Your function doesn't handle the 1 case correctly.\"\n>>> assert factorize(-7) is None, 'Remember to check the number is positive.'\nThat's prime.\nPlease use a positive integer.\n",
         "hidden": false,
         "locked": false
        }
       ],
       "scored": true,
       "setup": "",
       "teardown": "",
       "type": "doctest"
      }
     ]
    },
    "q2": {
     "name": "q2",
     "points": null,
     "suites": [
      {
       "cases": [
        {
         "code": ">>> assert check_cyclic_equality([1, 2, 3], [1, 2, 3]) == 0\n>>> assert check_cyclic_equality([1, 2, 3], [2, 3, 1]) == 2\n>>> assert check_cyclic_equality([1, 2, 3], [1, 2]) == False\n>>> assert check_cyclic_equality([], []) == 0\n>>> assert check_cyclic_equality(['a', 'b', 'a'], ['b', 'a', 'a']) == 2\n>>> assert check_cyclic_equality(['dog', 'cat', 'bird'], ['cat', 'bird', 'dog']) == 2\n",
         "hidden": false,
         "locked": false
        }
       ],
       "scored": true,
       "setup": "",
       "teardown": "",
       "type": "doctest"
      }
     ]
    },
    "q3": {
     "name": "q3",
     "points": null,
     "suites": [
      {
       "cases": [
        {
         "code": ">>> assert extract_vowels('aeiou') == [1, 1, 1, 1, 1, 5]\n>>> assert extract_vowels('AEIOU') == [1, 1, 1, 1, 1, 5]\n>>> assert extract_vowels('AaBbCcDdEeFfGgHhIiJjKkLlMmNnOoPpQqRrSsTtUuVvWwXxYyZz') == [2, 2, 2, 2, 2, 10]\n>>> assert extract_vowels('bcdfg') == [0, 0, 0, 0, 0, 0]\n>>> assert extract_vowels('Gettysburg College') == [1, 2, 1, 2, 1, 7]\n>>> assert extract_vowels('') == [0, 0, 0, 0, 0, 0]\n>>> assert extract_vowels('123!@#aei') == [1, 1, 1, 0, 0, 3]\n",
         "hidden": false,
         "locked": false
        }
       ],
       "scored": true,
       "setup": "",
       "teardown": "",
       "type": "doctest"
      }
     ]
    },
    "q4": {
     "name": "q4",
     "points": null,
     "suites": [
      {
       "cases": [
        {
         "code": ">>> file_list = ['hi.pdf', 'hello.doc', 'ps01.ipynb', 'goodbye.pdf', 'test.ipynb']\n>>> assert find_filetype(file_list, '.pdf') == ['hi.pdf', 'goodbye.pdf']\n>>> assert find_filetype(file_list, '.ipynb') == ['ps01.ipynb', 'test.ipynb']\n>>> assert find_filetype(file_list, '.doc') == ['hello.doc']\n>>> assert find_filetype(file_list, '.xlsx') == []\n>>> assert find_filetype([], '.pdf') == []\n",
         "hidden": false,
         "locked": false
        }
       ],
       "scored": true,
       "setup": "",
       "teardown": "",
       "type": "doctest"
      }
     ]
    },
    "q5": {
     "name": "q5",
     "points": null,
     "suites": [
      {
       "cases": [
        {
         "code": ">>> assert remove_duplicates([1, 2, 2, 3, 1, 4]) == [1, 2, 3, 4]\n>>> assert remove_duplicates([5, 6, 7]) == [5, 6, 7]\n>>> assert remove_duplicates([9, 9, 9, 9]) == [9]\n>>> assert remove_duplicates([]) == []\n>>> assert remove_duplicates(['a', 'b', 'a', 'c', 'b']) == ['a', 'b', 'c']\n>>> assert remove_duplicates('A man, a plan, a canal, Panama.') == ['A', ' ', 'm', 'a', 'n', ',', 'p', 'l', 'c', 'P', '.']\n",
         "hidden": false,
         "locked": false
        }
       ],
       "scored": true,
       "setup": "",
       "teardown": "",
       "type": "doctest"
      }
     ]
    },
    "q6": {
     "name": "q6",
     "points": null,
     "suites": [
      {
       "cases": [
        {
         "code": ">>> assert convert_to_numeric([10, '20', 30.5, '$40', '50 USD']) == [10.0, 20.0, 30.5, 40.0, 50.0]\n>>> assert convert_to_numeric([1, 2.5, 3]) == [1.0, 2.5, 3.0]\n>>> assert convert_to_numeric(['$5', '6 USD', '$7.50']) == [5.0, 6.0, 7.5]\n>>> assert convert_to_numeric(['Out of Stock', 'N/A', 'Unavailable']) == []\n>>> assert convert_to_numeric([100, '200', 'Not available', '$300', '400 USD', 'error']) == [100.0, 200.0, 300.0, 400.0]\n>>> assert convert_to_numeric([]) == []\n>>> assert convert_to_numeric(['1.99', '$2.50', '3.00 USD']) == [1.99, 2.5, 3.0]\n",
         "hidden": false,
         "locked": false
        }
       ],
       "scored": true,
       "setup": "",
       "teardown": "",
       "type": "doctest"
      }
     ]
    }
   }
  },
  "varInspector": {
   "cols": {
    "lenName": 16,
    "lenType": 16,
    "lenVar": 40
   },
   "kernels_config": {
    "python": {
     "delete_cmd_postfix": "",
     "delete_cmd_prefix": "del ",
     "library": "var_list.py",
     "varRefreshCmd": "print(var_dic_list())"
    },
    "r": {
     "delete_cmd_postfix": ") ",
     "delete_cmd_prefix": "rm(",
     "library": "var_list.r",
     "varRefreshCmd": "cat(var_dic_list()) "
    }
   },
   "types_to_exclude": [
    "module",
    "function",
    "builtin_function_or_method",
    "instance",
    "_Feature"
   ],
   "window_display": false
  }
 },
 "nbformat": 4,
 "nbformat_minor": 4
}
