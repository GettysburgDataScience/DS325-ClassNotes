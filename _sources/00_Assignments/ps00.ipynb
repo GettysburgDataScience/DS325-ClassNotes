{
 "cells": [
  {
   "cell_type": "markdown",
   "id": "97603862",
   "metadata": {},
   "source": [
    "# PS00\n",
    "Prof Eatai Roth  \n",
    "DS325 F2025  \n",
    "Gettysburg College"
   ]
  },
  {
   "cell_type": "markdown",
   "id": "e4f9d954",
   "metadata": {},
   "source": [
    "## Before downloading this Problem Set file\n",
    "\n",
    "Let's set up a Git repository folder on your local computer. This folder will hold all of your assignments and projects for this class and will be linked to a repository that lives on Github.\n",
    "\n",
    "[Github Assignments invitation](https://classroom.github.com/a/L7dbS-Hr)"
   ]
  },
  {
   "cell_type": "markdown",
   "id": "ef54cf31",
   "metadata": {},
   "source": [
    "## Jupyter notebook review\n",
    "\n",
    "Notebooks comprise two kinds of cells:\n",
    " - *Markdown* - text annotation (like this cell).\n",
    " - *Code* - cells that will run code.\n",
    "\n",
    "Some useful keyboard shortcuts:\n",
    "\n",
    " - *SHIFT+RETURN (SHIFT+ENTER on PC)* - runs a cell and moves focus to the next cell\n",
    " - *Esc -> A* - adds a cell above the current cell (-> means followed by)\n",
    " - *Esc -> B* - adds a cell below the current cell\n",
    " - *Esc -> M* - converts a cell to Markdown\n",
    " - *Esc -> Y* - converts a cell to Code\n",
    "\n",
    "### Kernels\n",
    "\n",
    "When you first run a cell of code, VS Code will prompt you to select a kernel. You can think of a kernel as a computational session and VS Code wants to know which version of Python you'd like to use to execute your code. It will present a list of installed Python distributions; you should select the one that has 'Anaconda' in the path.\n",
    "\n",
    "The kernel also keeps track of all the variables you've created in the session. If you want to run your code from a clean slate, you can restart the kernel to clear all variables.\n",
    "\n",
    "### Assignment grading\n",
    "\n",
    "I'll be using a package called Otter Grader to help automate the grading and feedback you get on assignments. We'll see how Otter grader works below, but first, we must install the package."
   ]
  },
  {
   "cell_type": "code",
   "execution_count": 1,
   "id": "8fac6323",
   "metadata": {},
   "outputs": [],
   "source": [
    "%%capture\n",
    "\n",
    "!pip install otter-grader"
   ]
  },
  {
   "cell_type": "code",
   "execution_count": 2,
   "id": "5c73a970",
   "metadata": {},
   "outputs": [],
   "source": [
    "import otter\n",
    "import matplotlib.pyplot as plt\n",
    "\n",
    "grader = otter.Notebook()"
   ]
  },
  {
   "cell_type": "markdown",
   "id": "5344a5cc",
   "metadata": {},
   "source": [
    "## Practice Problems\n",
    "\n",
    "**Problem 1**\n",
    "\n",
    "Write a function named ```hello_blank``` that takes as an input any string and returns a new string 'Hello [input string]!'"
   ]
  },
  {
   "cell_type": "code",
   "execution_count": 3,
   "id": "731b5119",
   "metadata": {
    "tags": [
     "otter_answer_cell"
    ]
   },
   "outputs": [
    {
     "data": {
      "text/plain": [
       "Ellipsis"
      ]
     },
     "execution_count": 3,
     "metadata": {},
     "output_type": "execute_result"
    }
   ],
   "source": [
    "..."
   ]
  },
  {
   "cell_type": "code",
   "execution_count": 4,
   "id": "88863ee2",
   "metadata": {
    "deletable": false,
    "editable": false
   },
   "outputs": [],
   "source": [
    "# grader.check(\"q1\")"
   ]
  },
  {
   "cell_type": "markdown",
   "id": "bd388987",
   "metadata": {},
   "source": [
    "**Problem 2** \n",
    "\n",
    "Create a DataFrame mirroring the table below and assign this to `icecream_df`. Then group by the `flavor` column and find the mean price for each flavor; assign this **series** to `price_by_flavor`.\n",
    "\n",
    "| flavor | scoops | price |\n",
    "|-----|-----|-----|\n",
    "| chocolate | 1 | 2 |\n",
    "| vanilla | 1 | 1.5 |\n",
    "| chocolate | 2 | 3 |\n",
    "| strawberry | 1 | 2 |\n",
    "| strawberry | 3 | 4 |\n",
    "| vanilla | 2 | 2 |\n",
    "| mint | 1 | 4 |\n",
    "| mint | 2 | 5 |\n",
    "| chocolate | 3 | 5 |"
   ]
  },
  {
   "cell_type": "code",
   "execution_count": 5,
   "id": "4a3a977d",
   "metadata": {
    "tags": [
     "otter_answer_cell"
    ]
   },
   "outputs": [
    {
     "data": {
      "text/plain": [
       "Ellipsis"
      ]
     },
     "execution_count": 5,
     "metadata": {},
     "output_type": "execute_result"
    }
   ],
   "source": [
    "icecream_df = ...\n",
    "price_by_flavor = ...\n",
    "price_by_flavor"
   ]
  },
  {
   "cell_type": "code",
   "execution_count": 6,
   "id": "0425a1ed",
   "metadata": {
    "deletable": false,
    "editable": false
   },
   "outputs": [],
   "source": [
    "# grader.check(\"q2a\")"
   ]
  },
  {
   "cell_type": "markdown",
   "id": "8dc5aafa",
   "metadata": {
    "deletable": false,
    "editable": false
   },
   "source": [
    "<!-- BEGIN QUESTION -->\n",
    "\n",
    "**2b**\n",
    "Create a barplot of `price_by_flavor`."
   ]
  },
  {
   "cell_type": "code",
   "execution_count": 7,
   "id": "16f9b4ba",
   "metadata": {
    "tags": [
     "otter_answer_cell"
    ]
   },
   "outputs": [],
   "source": [
    "...\n",
    "plt.show()"
   ]
  },
  {
   "cell_type": "markdown",
   "id": "037accd2",
   "metadata": {
    "deletable": false,
    "editable": false
   },
   "source": [
    "<!-- END QUESTION -->\n",
    "\n",
    "<!-- BEGIN QUESTION -->\n",
    "\n",
    "**2c**\n",
    "Per scoop, which flavor is most expensive?"
   ]
  },
  {
   "cell_type": "markdown",
   "id": "cb3e4811",
   "metadata": {
    "tags": [
     "otter_answer_cell"
    ]
   },
   "source": [
    "_Type your answer here, replacing this text._"
   ]
  },
  {
   "cell_type": "markdown",
   "id": "43817384",
   "metadata": {
    "deletable": false,
    "editable": false
   },
   "source": [
    "<!-- END QUESTION -->\n",
    "\n"
   ]
  }
 ],
 "metadata": {
  "kernelspec": {
   "display_name": "datascience",
   "language": "python",
   "name": "python3"
  },
  "language_info": {
   "codemirror_mode": {
    "name": "ipython",
    "version": 3
   },
   "file_extension": ".py",
   "mimetype": "text/x-python",
   "name": "python",
   "nbconvert_exporter": "python",
   "pygments_lexer": "ipython3",
   "version": "3.13.1"
  },
  "otter": {
   "OK_FORMAT": true,
   "assignment_name": "ps00",
   "tests": {
    "q1": {
     "name": "q1",
     "points": null,
     "suites": [
      {
       "cases": [
        {
         "code": ">>> hello_blank('Prof Roth') == 'Hello Prof Roth!'\nTrue",
         "hidden": false,
         "locked": false
        },
        {
         "code": ">>> hello_blank(hello_blank('to me')) == 'Hello Hello to me!!'\nTrue",
         "hidden": false,
         "locked": false
        }
       ],
       "scored": true,
       "setup": "",
       "teardown": "",
       "type": "doctest"
      }
     ]
    },
    "q2a": {
     "name": "q2a",
     "points": null,
     "suites": [
      {
       "cases": [
        {
         "code": ">>> assert len(price_by_flavor) == 4\n",
         "hidden": false,
         "locked": false
        },
        {
         "code": ">>> assert np.isclose(price_by_flavor['chocolate'], 1.666667)\n>>> assert np.isclose(price_by_flavor['mint'], 3.0)\n",
         "hidden": false,
         "locked": false
        }
       ],
       "scored": true,
       "setup": "",
       "teardown": "",
       "type": "doctest"
      }
     ]
    }
   }
  }
 },
 "nbformat": 4,
 "nbformat_minor": 5
}
