{
 "cells": [
  {
   "cell_type": "markdown",
   "id": "97603862",
   "metadata": {},
   "source": [
    "# PS00\n",
    "Prof Eatai Roth  \n",
    "DS256 F2025  \n",
    "Gettysburg College"
   ]
  },
  {
   "cell_type": "markdown",
   "id": "e4f9d954",
   "metadata": {},
   "source": [
    "## STOP! Don't download this file yet.\n",
    "\n",
    "Create a folder on your computer **BUT NOT IN THE DOWNLOADS FOLDER** named 'DS256' (I recommend not using spaces in folder names). In that folder, create another folder named 'Notes'.\n",
    "\n",
    "Let's set up a Git repository folder on your local computer. This folder will hold all of your assignments and projects for this class and will be linked to a repository that lives on Github.\n",
    "\n",
    "[Github Assignments invitation](https://classroom.github.com/a/EgYw5NXd)"
   ]
  },
  {
   "cell_type": "markdown",
   "id": "749df677",
   "metadata": {},
   "source": [
    "## Issues with Git\n",
    "\n",
    "You may encounter one of two common issues at this stage.\n",
    " - Git is not installed\n",
    " - You get an error to configure your user.name and user.email.\n",
    "\n",
    "### Installing Git\n",
    "\n",
    "**If you are on a Windows PC**, you can download the windows installer [here](https://git-scm.com/downloads/win).\n",
    "\n",
    "**If you are on Mac**, you will need to install Homebrew and then use that to get Git. To do that, run the two cells below in  (SHIFT+ENTER to  a cell).\n"
   ]
  },
  {
   "cell_type": "code",
   "execution_count": null,
   "id": "bd74ec04",
   "metadata": {
    "vscode": {
     "languageId": "shellscript"
    }
   },
   "outputs": [],
   "source": [
    "/bin/bash -c \"$(curl -fsSL https://raw.githubusercontent.com/Homebrew/install/HEAD/install.sh)\""
   ]
  },
  {
   "cell_type": "code",
   "execution_count": null,
   "id": "430e31ac",
   "metadata": {
    "vscode": {
     "languageId": "shellscript"
    }
   },
   "outputs": [],
   "source": [
    "brew install git"
   ]
  },
  {
   "cell_type": "markdown",
   "id": "e9633592",
   "metadata": {},
   "source": [
    "### User.name and user.email configuration\n",
    "\n",
    "In the cells below, enter your name and email in place of `<YOUR NAME>` and `<YOUR EMAIL>`. Then run the cells in sequence."
   ]
  },
  {
   "cell_type": "code",
   "execution_count": null,
   "id": "9e3ad2e0",
   "metadata": {
    "vscode": {
     "languageId": "shellscript"
    }
   },
   "outputs": [],
   "source": [
    "git config --global user.name \"<YOUR NAME>\""
   ]
  },
  {
   "cell_type": "code",
   "execution_count": null,
   "id": "b8eb8707",
   "metadata": {
    "vscode": {
     "languageId": "shellscript"
    }
   },
   "outputs": [
    {
     "name": "stdout",
     "output_type": "stream",
     "text": [
      "total 96\n",
      "drwxr-xr-x   3 eatai  staff     96 Aug 28 09:42 \u001b[34m.\u001b[m\u001b[m/\n",
      "drwxr-xr-x@ 13 eatai  staff    416 Aug 28 09:40 \u001b[34m..\u001b[m\u001b[m/\n",
      "-rw-r--r--   1 eatai  staff  45204 Aug 28 09:42 ps00.ipynb\n"
     ]
    }
   ],
   "source": [
    "git config --global user.email \"<YOUR EMAIL>\""
   ]
  },
  {
   "cell_type": "markdown",
   "id": "74516539",
   "metadata": {},
   "source": [
    "### Grading\n",
    "\n",
    "I'll be using a package called Otter Grader to automate some of the grading and feedback on assignments. We'll see Otter Grader in action in the next problem set, but for now, we'll just install the package."
   ]
  },
  {
   "cell_type": "code",
   "execution_count": null,
   "id": "63b29902",
   "metadata": {
    "vscode": {
     "languageId": "shellscript"
    }
   },
   "outputs": [],
   "source": [
    "pip install otter-grader"
   ]
  },
  {
   "cell_type": "markdown",
   "id": "ef54cf31",
   "metadata": {},
   "source": [
    "## Jupyter Notebook Intro\n",
    "\n",
    "Jupyter (stands for Julia-Python-R) Notebooks are coding environments that let you write, annotate, and run code a chunk at a time. These chunks are contained in *cells*.\n",
    "\n",
    "### Cells\n",
    "The notebooks we'll use in this class comprise two kinds of cells:\n",
    " - *Markdown* - text annotation (like this cell).\n",
    " - *Code* - cells that will run code (Python).\n",
    "\n",
    "The cell type is noted in the lower right corner (and you can change the cell type from there).\n",
    "\n",
    "### Kernels\n",
    "\n",
    "Before running code, you'll have to select a Kernel (\"Select Kernel\" upper right corner of the coding window); if you forget, VS Code will prompt you to select a kernel when it gets to the first code cell.\n",
    "\n",
    "You can think of a kernel as a computational session and VS Code wants to know which version of Python you'd like to use to execute your code. It will present a list of installed Python distributions; you should select the one that has 'Anaconda' in the path.\n",
    "\n",
    "The kernel also keeps track of all the variables you've created in the session. If you want to run your code from a clean slate, you can restart the kernel to clear all variables.\n",
    "\n",
    "### Keyboard Shortcuts\n",
    "Some useful keyboard shortcuts:\n",
    "\n",
    " - *SHIFT+RETURN (SHIFT+ENTER on PC)* - runs a cell and moves focus to the next cell\n",
    " - *Esc -> A* - adds a cell above the current cell (-> means followed by)\n",
    " - *Esc -> B* - adds a cell below the current cell\n",
    " - *Esc -> M* - converts a cell to Markdown\n",
    " - *Esc -> Y* - converts a cell to Code"
   ]
  },
  {
   "cell_type": "markdown",
   "id": "5344a5cc",
   "metadata": {},
   "source": [
    "## Let's play around in the notebook!\n"
   ]
  },
  {
   "cell_type": "code",
   "execution_count": null,
   "id": "45e656d6",
   "metadata": {},
   "outputs": [],
   "source": []
  }
 ],
 "metadata": {
  "kernelspec": {
   "display_name": "datascience",
   "language": "python",
   "name": "python3"
  },
  "language_info": {
   "codemirror_mode": {
    "name": "ipython",
    "version": 3
   },
   "file_extension": ".py",
   "mimetype": "text/x-python",
   "name": "python",
   "nbconvert_exporter": "python",
   "pygments_lexer": "ipython3",
   "version": "3.13.1"
  }
 },
 "nbformat": 4,
 "nbformat_minor": 5
}
