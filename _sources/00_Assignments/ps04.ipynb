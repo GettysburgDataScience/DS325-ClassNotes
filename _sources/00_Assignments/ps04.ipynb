{
 "cells": [
  {
   "cell_type": "markdown",
   "metadata": {},
   "source": [
    "# PS04\n",
    "\n",
    "DS256, Gettysburg College\n",
    "\n",
    "Prof Eatai Roth\n",
    "\n",
    "Due: Oct 3, 2025 5p (soft deadline...you may hand in up until the following Monday.)\n",
    "\n",
    "### ANNOUNCEMENT - Otter grader\n",
    "The grader.checks on this assignment have been tested. But, if you find a mistake, please report it on the ProblemSet forum on Moodle.\n",
    "\n",
    "The questions are in no particular order in terms of difficulty, so if you feel stuck, skip the question and come back to it.\n",
    "\n",
    "### ANNOUNCEMENT - Challenge problems\n",
    "The last two problems, 5 and 6, are optional; significantly more challenging, but doable with what we've learned. You may do either of those problems instead of 1-4. They do not have a grader.check, so you'll have to write some tests to demonstrate they work as described."
   ]
  },
  {
   "cell_type": "markdown",
   "metadata": {},
   "source": [
    "**Your Name**: ...\n",
    "\n",
    "**Collaborators**: ...\n",
    "\n",
    "By submitting this work, you attest that: \n",
    " - it reflects your own effort and understanding of the material\n",
    " - you did not ask for help from students outside the course, other than PLAs\n",
    " - you did not use a generative AI to produce any code used below."
   ]
  },
  {
   "cell_type": "code",
   "execution_count": null,
   "metadata": {},
   "outputs": [],
   "source": [
    "# Initialize Otter\n",
    "import otter\n",
    "grader = otter.Notebook(\"ps04.ipynb\")"
   ]
  },
  {
   "cell_type": "markdown",
   "metadata": {
    "deletable": false,
    "editable": false,
    "vscode": {
     "languageId": "raw"
    }
   },
   "source": [
    "**1.** Write the function ```sum_until()``` that takes as inputs a list of numbers and a target. The function should sum the numbers in order until the target value is met, then return the list of numbers used and the sum. If you get through the whole list and the target is not met, return the list and the sum of the entire list.\n",
    "\n",
    "*Hint*: Use ```break``` to exit a loop once the target is met.\n",
    "\n",
    "Example:\n",
    "\n",
    "```sum_until([3, -1, 7, 4, 9], 10)``` --> [3, -1, 7, 4], 13"
   ]
  },
  {
   "cell_type": "code",
   "execution_count": null,
   "metadata": {
    "tags": [
     "otter_answer_cell"
    ]
   },
   "outputs": [],
   "source": [
    "def sum_until(num_list, target):\n",
    "'your code here'\n"
   ]
  },
  {
   "cell_type": "code",
   "execution_count": null,
   "metadata": {},
   "outputs": [],
   "source": [
    "\n",
    "# Is it doing what you expect it to do.\n",
    "print(sum_until([1,3,5,7,9,11], 20)) # should be ([1, 3, 5, 7, 9], 25)\n",
    "print(sum_until([1,-1, 1, -1, 1, -1], 1)) # should be ([1], 1)\n",
    "print(sum_until([1,-1, 1, -1], 2)) # should be ([1, -1, 1, -1], 0)\n"
   ]
  },
  {
   "cell_type": "code",
   "execution_count": null,
   "metadata": {
    "deletable": false,
    "editable": false
   },
   "outputs": [],
   "source": [
    "grader.check(\"q1\")"
   ]
  },
  {
   "cell_type": "markdown",
   "metadata": {
    "deletable": false,
    "editable": false
   },
   "source": [
    "**2.** Write the function ```max_compare()``` that takes as input two lists of numbers. The output should be a list with the greater of the two values from the input lists. If the two lists are not the same size, the output list should be the length of the shorter list and all unmatched data is discarded.\n",
    "\n",
    "For example:\n",
    "```\n",
    "A = [1.1, 2.2, 3.3]\n",
    "B = [0, 4, 2, 6, 8, 10]\n",
    "```\n",
    "\n",
    "```max_compare(A, B)```\n",
    "\n",
    "shoudl return:\n",
    "\n",
    "```\n",
    "[1.1, 4, 3.3]\n",
    "```"
   ]
  },
  {
   "cell_type": "code",
   "execution_count": null,
   "metadata": {
    "tags": [
     "otter_answer_cell"
    ]
   },
   "outputs": [],
   "source": [
    "def max_compare(listA, listB):\n",
    "'your code here'\n"
   ]
  },
  {
   "cell_type": "code",
   "execution_count": null,
   "metadata": {
    "deletable": false,
    "editable": false
   },
   "outputs": [],
   "source": [
    "grader.check(\"q2\")"
   ]
  },
  {
   "cell_type": "markdown",
   "metadata": {
    "deletable": false,
    "editable": false
   },
   "source": [
    "**3.** Write the function ```check_zipcodes()``` that takes as input a list of strings. The function should return a string of only valid zipcodes with the invalide entries replaced with 'NA' and a second list with the indices of the errors.\n",
    "\n",
    "*Hints*: \n",
    "- You may consider any string of just 5 digits a valid zipcode.\n",
    "- ```isinstance(var, type)``` returns true if var is of the type.\n",
    "- ```isdigit()``` returns true if every character in a string is a digit \n",
    "- Use ```enumerate``` to get where the list of errors are."
   ]
  },
  {
   "cell_type": "code",
   "execution_count": null,
   "metadata": {
    "tags": [
     "otter_answer_cell"
    ]
   },
   "outputs": [],
   "source": [
    "'your code here'\n"
   ]
  },
  {
   "cell_type": "code",
   "execution_count": null,
   "metadata": {},
   "outputs": [],
   "source": [
    "\n",
    "zip_list = ['19003', '17325', 'MXW-1178', '00000', 901210, '61301-1842']\n",
    "check_zipcodes(zip_list)"
   ]
  },
  {
   "cell_type": "code",
   "execution_count": null,
   "metadata": {
    "deletable": false,
    "editable": false
   },
   "outputs": [],
   "source": [
    "grader.check(\"q3\")"
   ]
  },
  {
   "cell_type": "markdown",
   "metadata": {
    "deletable": false,
    "editable": false
   },
   "source": [
    "**4.** Write the function ```groupby_artist()``` that takes as input an artist list and a track list. In the lists, there may be multiple tracks by an artist. The function should output an artist_list with only unique entries and a track_list in which each entry is a list of songs (a list containing lists) by the corresponding artist.\n",
    "\n",
    "For example:\n",
    "\n",
    "```\n",
    "artists = ['Wye Oak', 'Tame Impala', 'Yeah Yeah Yeahs', 'Wye Oak', 'Polyphia', 'Yeah Yeah Yeahs', 'Yeah Yeah Yeahs']\n",
    "tracks = ['Civilian', 'Let It Happen', 'Maps', 'Holy Holy', 'G.O.A.T.', 'Gold Lion', 'Heads Will Roll']\n",
    "\n",
    "groupby_artist(artists, tracks)\n",
    "```\n",
    "\n",
    "should return:\n",
    "\n",
    "```\n",
    "(['Wye Oak', 'Tame Impala', 'Yeah Yeah Yeahs', 'Polyphia'],\n",
    " [['Civilian', 'Holy Holy'],\n",
    "  ['Let It Happen'],\n",
    "  ['Maps', 'Gold Lion', 'Heads Will Roll'],\n",
    "  ['G.O.A.T.']])\n",
    "\n",
    "  ```\n"
   ]
  },
  {
   "cell_type": "code",
   "execution_count": null,
   "metadata": {
    "tags": [
     "otter_answer_cell"
    ]
   },
   "outputs": [],
   "source": [
    "def groupby_artist(artist_list, track_list):\n",
    "'your code here'\n",
    "\n"
   ]
  },
  {
   "cell_type": "code",
   "execution_count": null,
   "metadata": {},
   "outputs": [],
   "source": [
    "artists = ['Wye Oak', 'Tame Impala', 'Yeah Yeah Yeahs', 'Wye Oak', 'Polyphia', 'Yeah Yeah Yeahs', 'Yeah Yeah Yeahs']\n",
    "tracks = ['Civilian', 'Let It Happen', 'Maps', 'Holy Holy', 'G.O.A.T.', 'Gold Lion', 'Heads Will Roll']\n",
    "\n",
    "groupby_artist(artists, tracks)"
   ]
  },
  {
   "cell_type": "code",
   "execution_count": null,
   "metadata": {
    "deletable": false,
    "editable": false
   },
   "outputs": [],
   "source": [
    "grader.check(\"q4\")"
   ]
  },
  {
   "cell_type": "markdown",
   "metadata": {
    "deletable": false,
    "editable": false
   },
   "source": [
    "**5. (Optional challenge...you can do this problem instead of all the others)**\n",
    "\n",
    "Write the two functions ```snippet()``` and ```unsnippet()```. \n",
    "\n",
    "```snippet()``` takes as input a string of text and splits it into words. The function returns a list of unique words and a corresponding list of lists with the indices each word is found out. A word is unique if any character is different (e.g. 'the' and 'The' are unique, 'end' and 'end?' are unique)\n",
    "\n",
    "```unsnippet()``` takes as input a list of unique words and a list-of-lists of the indices of the words and reconstructs the original string.\n",
    "\n",
    "Do not use the ```.join()``` string method."
   ]
  },
  {
   "cell_type": "code",
   "execution_count": null,
   "metadata": {
    "tags": [
     "otter_answer_cell"
    ]
   },
   "outputs": [],
   "source": [
    "...\n",
    "\n",
    "my_string = \"I'm a mother pheasant plucker. I pluck mother pheasants. I'm the most pleasant mother pheasant plucker ever to pluck a pheasant.\"\n",
    "uniques, idxs = snippet(my_string)\n",
    "unsnippet(uniques, idxs)"
   ]
  },
  {
   "cell_type": "markdown",
   "metadata": {
    "deletable": false,
    "editable": false
   },
   "source": [
    "**6. (Optional challenge...you can do this problem instead of all the others)** Write the function ```spell_out_number()``` that will write out any whole number between 1 - 1,000,000,000 (1 billion) as a string.\n",
    "\n",
    "In a cell below your function code, give several examples of your function working.\n",
    "\n",
    "Example:\n",
    "\n",
    "```spell_out_number(117)``` --> \"one hundred seventeen\"\n",
    "\n",
    "```spell_out_number(2,879,012)``` --> \"two million, eight hundred seventy-nine thousand, twelve\" "
   ]
  },
  {
   "cell_type": "markdown",
   "metadata": {},
   "source": [
    "### Submission\n",
    "\n",
    "When you are ready to submit, uncomment (cmd+/ or ctrl+/) and run the cell below."
   ]
  },
  {
   "cell_type": "code",
   "execution_count": null,
   "metadata": {},
   "outputs": [],
   "source": [
    "# !git add *\n",
    "# !git commit -m 'ps04 submitted'\n",
    "# !git push -f"
   ]
  },
  {
   "cell_type": "markdown",
   "metadata": {},
   "source": [
    " "
   ]
  }
 ],
 "metadata": {
  "kernelspec": {
   "display_name": "datascience",
   "language": "python",
   "name": "python3"
  },
  "language_info": {
   "codemirror_mode": {
    "name": "ipython",
    "version": 3
   },
   "file_extension": ".py",
   "mimetype": "text/x-python",
   "name": "python",
   "nbconvert_exporter": "python",
   "pygments_lexer": "ipython3",
   "version": "3.13.1"
  },
  "otter": {
   "OK_FORMAT": true,
   "assignment_name": "ps03",
   "tests": {
    "q1": {
     "name": "q1",
     "points": null,
     "suites": [
      {
       "cases": [
        {
         "code": ">>> assert sum_until([2, 3, 5], 10) == ([2, 3, 5], 10)\n",
         "hidden": false,
         "locked": false
        },
        {
         "code": ">>> assert sum_until([1, 2, 3], 10) == ([1, 2, 3], 6)\n",
         "hidden": false,
         "locked": false
        },
        {
         "code": ">>> assert sum_until([4, 4, 4], 8) == ([4, 4], 8)\n",
         "hidden": false,
         "locked": false
        },
        {
         "code": ">>> assert sum_until([5, -2, 4, 6], 7) == ([5, -2, 4], 7)\n",
         "hidden": false,
         "locked": false
        },
        {
         "code": ">>> assert sum_until([], 5) == ([], 0)\n",
         "hidden": false,
         "locked": false
        }
       ],
       "scored": true,
       "setup": "",
       "teardown": "",
       "type": "doctest"
      }
     ]
    },
    "q2": {
     "name": "q2",
     "points": null,
     "suites": [
      {
       "cases": [
        {
         "code": ">>> assert max_compare([1, 5, 3], [2, 4, 6]) == [2, 5, 6]\n",
         "hidden": false,
         "locked": false
        },
        {
         "code": ">>> assert max_compare([7, 2], [3, 8, 5]) == [7, 8]\n",
         "hidden": false,
         "locked": false
        },
        {
         "code": ">>> assert max_compare([1, 9, 4], [2, 3]) == [2, 9]\n",
         "hidden": false,
         "locked": false
        },
        {
         "code": ">>> assert max_compare([-1, -5, 0], [-2, -3, 1]) == [-1, -3, 1]\n",
         "hidden": false,
         "locked": false
        },
        {
         "code": ">>> assert max_compare([4, 4, 4], [4, 4, 4]) == [4, 4, 4]\n",
         "hidden": false,
         "locked": false
        }
       ],
       "scored": true,
       "setup": "",
       "teardown": "",
       "type": "doctest"
      }
     ]
    },
    "q3": {
     "name": "q3",
     "points": null,
     "suites": [
      {
       "cases": [
        {
         "code": ">>> assert check_zipcodes(['12345', '67890', '54321'])[0] == ['12345', '67890', '54321']\n>>> assert check_zipcodes(['12345', '67890', '54321'])[1] == []\n",
         "hidden": false,
         "locked": false
        },
        {
         "code": ">>> assert check_zipcodes(['12345', 'abcde', '67890'])[0] == ['12345', 'NA', '67890']\n>>> assert check_zipcodes(['12345', 'abcde', '67890'])[1] == [1]\n",
         "hidden": false,
         "locked": false
        },
        {
         "code": ">>> assert check_zipcodes(['1234', '123456', '00000'])[0] == ['NA', 'NA', '00000']\n>>> assert check_zipcodes(['1234', '123456', '00000'])[1] == [0, 1]\n",
         "hidden": false,
         "locked": false
        },
        {
         "code": ">>> assert check_zipcodes(['12345', 67890, '54321'])[0] == ['12345', 'NA', '54321']\n>>> assert check_zipcodes(['12345', 67890, '54321'])[1] == [1]\n",
         "hidden": false,
         "locked": false
        },
        {
         "code": ">>> assert check_zipcodes([]) == ([], [])\n",
         "hidden": false,
         "locked": false
        }
       ],
       "scored": true,
       "setup": "",
       "teardown": "",
       "type": "doctest"
      }
     ]
    },
    "q4": {
     "name": "q4",
     "points": null,
     "suites": [
      {
       "cases": [
        {
         "code": ">>> artists1 = ['A', 'B', 'A', 'C', 'B']\n>>> tracks1 = ['t1', 't2', 't3', 't4', 't5']\n>>> assert groupby_artist(artists1, tracks1) == (['A', 'B', 'C'], [['t1', 't3'], ['t2', 't5'], ['t4']])\n",
         "hidden": false,
         "locked": false
        },
        {
         "code": ">>> artists2 = ['X', 'Y', 'Z']\n>>> tracks2 = ['tx', 'ty', 'tz']\n>>> assert groupby_artist(artists2, tracks2) == (['X', 'Y', 'Z'], [['tx'], ['ty'], ['tz']])\n",
         "hidden": false,
         "locked": false
        },
        {
         "code": ">>> artists3 = ['A', 'A', 'A']\n>>> tracks3 = ['t1', 't2', 't3']\n>>> assert groupby_artist(artists3, tracks3) == (['A'], [['t1', 't2', 't3']])\n",
         "hidden": false,
         "locked": false
        },
        {
         "code": ">>> assert groupby_artist([], []) == ([], [])\n",
         "hidden": false,
         "locked": false
        },
        {
         "code": ">>> artists4 = ['A$', 'B#', 'A$', 'C@']\n>>> tracks4 = ['song1', 'song2', 'song3', 'song4']\n>>> assert groupby_artist(artists4, tracks4) == (['A$', 'B#', 'C@'], [['song1', 'song3'], ['song2'], ['song4']])\n",
         "hidden": false,
         "locked": false
        }
       ],
       "scored": true,
       "setup": "",
       "teardown": "",
       "type": "doctest"
      }
     ]
    }
   }
  },
  "varInspector": {
   "cols": {
    "lenName": 16,
    "lenType": 16,
    "lenVar": 40
   },
   "kernels_config": {
    "python": {
     "delete_cmd_postfix": "",
     "delete_cmd_prefix": "del ",
     "library": "var_list.py",
     "varRefreshCmd": "print(var_dic_list())"
    },
    "r": {
     "delete_cmd_postfix": ") ",
     "delete_cmd_prefix": "rm(",
     "library": "var_list.r",
     "varRefreshCmd": "cat(var_dic_list()) "
    }
   },
   "types_to_exclude": [
    "module",
    "function",
    "builtin_function_or_method",
    "instance",
    "_Feature"
   ],
   "window_display": false
  }
 },
 "nbformat": 4,
 "nbformat_minor": 4
}
