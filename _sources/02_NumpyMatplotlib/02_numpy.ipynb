{
 "cells": [
  {
   "cell_type": "markdown",
   "id": "2606cee9-e740-4214-b4e0-993518f1cba4",
   "metadata": {},
   "source": [
    "# Numpy\n",
    "\n",
    "Read more at [PDSH Ch 2](https://jakevdp.github.io/PythonDataScienceHandbook/02.00-introduction-to-numpy.html)\n",
    "\n",
    "Numpy introduces a new data type, the *array*. In many ways, the numpy array is like a list, and we'll see many similarities when it comes to indexing and slicing arrays. But there are some key differences that make arrays particularly useful for data analysis. First is a restriction to ensure homogeneity.\n",
    "\n",
    " - Numpy arrays may only contain numerical or text data or nested arrays (lists) of numerical or text data, and all data must be of the same type.\n",
    " - Mixed numerical data (ints and floats) are up-typed to the most permissible type unless data type is explicitly specified.\n",
    "\n",
    "#### Creating a Numpy array\n",
    "\n",
    "Let's create a generic Numpy array and some special arrays.\n",
    "\n",
    " - generic array\n",
    " - empty array\n",
    " - array of ones or zeros\n",
    " - array of all one value\n",
    " - array of regularly spaced values\n",
    " - array of random numbers"
   ]
  },
  {
   "cell_type": "code",
   "execution_count": 1,
   "id": "7d520808-e969-4c01-9389-4fee73c2f0d4",
   "metadata": {},
   "outputs": [],
   "source": [
    "import numpy as np"
   ]
  },
  {
   "cell_type": "code",
   "execution_count": 8,
   "id": "ad1d2e21-1be5-4927-bebe-0173bc8d4081",
   "metadata": {},
   "outputs": [
    {
     "data": {
      "text/plain": [
       "array([ 1. ,  2. , 10. ,  4.1, 11. ])"
      ]
     },
     "metadata": {},
     "output_type": "display_data"
    },
    {
     "data": {
      "text/plain": [
       "array([], dtype=float64)"
      ]
     },
     "metadata": {},
     "output_type": "display_data"
    },
    {
     "data": {
      "text/plain": [
       "array([0., 0., 0., 0., 0., 0., 0.])"
      ]
     },
     "metadata": {},
     "output_type": "display_data"
    },
    {
     "data": {
      "text/plain": [
       "array([0., 0., 0., 0., 0.])"
      ]
     },
     "metadata": {},
     "output_type": "display_data"
    },
    {
     "data": {
      "text/plain": [
       "array([1., 1., 1., 1., 1., 1., 1., 1.])"
      ]
     },
     "metadata": {},
     "output_type": "display_data"
    },
    {
     "data": {
      "text/plain": [
       "array([1., 1., 1., 1., 1.])"
      ]
     },
     "metadata": {},
     "output_type": "display_data"
    },
    {
     "data": {
      "text/plain": [
       "array([3, 3, 3, 3, 3, 3, 3, 3, 3, 3, 3, 3, 3, 3, 3, 3, 3, 3, 3, 3])"
      ]
     },
     "metadata": {},
     "output_type": "display_data"
    },
    {
     "data": {
      "text/plain": [
       "array([  0.,   5.,  10.,  15.,  20.,  25.,  30.,  35.,  40.,  45.,  50.,\n",
       "        55.,  60.,  65.,  70.,  75.,  80.,  85.,  90.,  95., 100.])"
      ]
     },
     "metadata": {},
     "output_type": "display_data"
    },
    {
     "data": {
      "text/plain": [
       "array([8, 0, 6, 6, 5, 9, 5, 8, 1, 1, 8, 7, 0, 5, 8, 6, 5, 4, 8, 0])"
      ]
     },
     "metadata": {},
     "output_type": "display_data"
    }
   ],
   "source": [
    "A = np.array([1, 2, 10, 4.1, 11])\n",
    "B = np.array([])\n",
    "C = np.zeros(7)\n",
    "C2 = np.zeros_like(A)\n",
    "D = np.ones(8)\n",
    "D2 = np.ones_like(A)\n",
    "E = np.full(20, 3)  # size of array, then fill value. same as np.ones(20)*3\n",
    "F = np.arange(0, 100.1, 5)\n",
    "G = np.random.randint(0, 10, 20)\n",
    "\n",
    "display(A)\n",
    "display(B)\n",
    "display(C)\n",
    "display(C2)\n",
    "display(D)\n",
    "display(D2)\n",
    "display(E)\n",
    "display(F)\n",
    "display(G)"
   ]
  },
  {
   "cell_type": "markdown",
   "id": "cc9930e6-4c91-4822-873b-e75f9e4dfe49",
   "metadata": {},
   "source": [
    "## Multi-dimensional arrays \n",
    "\n",
    "Similar to how lists can contain lists, arrays can have multiple dimensions.\n",
    "\n",
    "Consider the matrix $X$:\n",
    "\n",
    "$$ X =\n",
    "\\begin{bmatrix}\n",
    "x_{0,0} & x_{0,1} & x_{0,2} & x_{0,3}\\\\\n",
    "x_{1,0} & x_{1,1} & x_{1,2} & x_{1,3}\\\\\n",
    "x_{2,0} & x_{2,1} & x_{2,2} & x_{2,3}\\\\\n",
    "\\end{bmatrix}\n",
    "$$\n",
    "\n",
    "The dimensions of a matrix are $num\\_rows \\times num\\_columns$, for the matrix above $3 \\times 4$. The location of an element in the matrix is $(row\\_index, column\\_index)$.\n",
    "\n",
    "For a 2-dimensional numpy array, we can treat the matrix as a list containing an individual list for each row.\n",
    "\n",
    "$$ X =\n",
    "\\begin{bmatrix}\n",
    "\\begin{bmatrix}x_{0,0} & x_{0,1} & x_{0,2} & x_{0,3}\\end{bmatrix}\\\\\n",
    "\\begin{bmatrix}x_{1,0} & x_{1,1} & x_{1,2} & x_{1,3}\\end{bmatrix}\\\\\n",
    "\\begin{bmatrix}x_{2,0} & x_{2,1} & x_{2,2} & x_{2,3}\\end{bmatrix}\\\\\n",
    "\\end{bmatrix}\n",
    "$$\n",
    "\n",
    " - To get the dimensions of an array, we can query the array property ```.shape```.\n",
    " - To index an element in an array, X[row_idx, col_idx] (and for higher dimensional arrays, just keep adding idx)\n",
    " - All the same slicing that is performed on lists can be performed on arrays, but now in any direction!\n",
    "\n"
   ]
  },
  {
   "cell_type": "code",
   "execution_count": 28,
   "id": "42c5004c-046f-4561-97a2-11175e4ad7f6",
   "metadata": {},
   "outputs": [
    {
     "data": {
      "text/plain": [
       "array([[ 52,  93,  15,  72,  61],\n",
       "       [ 21,  83,  87,  75,  75],\n",
       "       [ 88, 100,  24,   3,  22],\n",
       "       [ 53,   2,  88,  30,  38]])"
      ]
     },
     "execution_count": 28,
     "metadata": {},
     "output_type": "execute_result"
    }
   ],
   "source": [
    "'''create an 4 x 5 array of random integers'''\n",
    "np.random.seed(42)\n",
    "X = np.random.randint(1, 101, [4,5])\n",
    "X"
   ]
  },
  {
   "cell_type": "code",
   "execution_count": 26,
   "id": "390d87b6-5e6e-493b-96d9-afc9816047ea",
   "metadata": {},
   "outputs": [
    {
     "data": {
      "text/plain": [
       "(4, 5)"
      ]
     },
     "execution_count": 26,
     "metadata": {},
     "output_type": "execute_result"
    }
   ],
   "source": [
    "'''get the shape of the array'''\n",
    "X.shape"
   ]
  },
  {
   "cell_type": "code",
   "execution_count": 29,
   "id": "a42d249b-269d-4ef4-acbe-4005eeb63eae",
   "metadata": {},
   "outputs": [
    {
     "data": {
      "text/plain": [
       "np.int64(100)"
      ]
     },
     "execution_count": 29,
     "metadata": {},
     "output_type": "execute_result"
    }
   ],
   "source": [
    "'''extract entries of an array'''\n",
    "X[2,1]"
   ]
  },
  {
   "cell_type": "code",
   "execution_count": null,
   "id": "4ccd3926-5296-4192-a3e4-19fc78c8fad6",
   "metadata": {},
   "outputs": [
    {
     "data": {
      "text/plain": [
       "array([[ 52,  93,  15,  72,  61],\n",
       "       [ 21,  83,  87,  75,  75],\n",
       "       [ 88, 100,  24,   3,  22],\n",
       "       [ 53,   2,  88,  30,  38]])"
      ]
     },
     "metadata": {},
     "output_type": "display_data"
    },
    {
     "data": {
      "text/plain": [
       "array([52, 93, 15, 72, 61])"
      ]
     },
     "execution_count": 32,
     "metadata": {},
     "output_type": "execute_result"
    }
   ],
   "source": [
    "'''extract individual rows and columns'''\n",
    "display(X)\n",
    "first_row = X[0,:]\n",
    "first_col = X[:,0]\n"
   ]
  },
  {
   "cell_type": "code",
   "execution_count": 44,
   "id": "245872ea-ca73-44a3-9cbb-9eb170f0ed10",
   "metadata": {},
   "outputs": [
    {
     "data": {
      "text/plain": [
       "array([[ 52,  93,  15,  72,  61],\n",
       "       [ 21,  83,  87,  75,  75],\n",
       "       [ 88, 100,  24,   3,  22],\n",
       "       [ 53,   2,  88,  30,  38]])"
      ]
     },
     "metadata": {},
     "output_type": "display_data"
    },
    {
     "data": {
      "text/plain": [
       "array([[83, 75],\n",
       "       [ 2, 38]])"
      ]
     },
     "execution_count": 44,
     "metadata": {},
     "output_type": "execute_result"
    }
   ],
   "source": [
    "'''all the slicing like lists'''\n",
    "display(X)\n",
    "# every other column\n",
    "X[:,::2]\n",
    "\n",
    "# every other column starting at the one-th column\n",
    "X[:,1::2]\n",
    "\n",
    "# the last three rows of the last two columns\n",
    "X[-3:,-2:]\n",
    "\n",
    "# the 1-th and 3-th rows of the 1-th and 4-th columns\n",
    "X[1::2,1::3]"
   ]
  },
  {
   "cell_type": "markdown",
   "id": "8da00cf8-f90b-4bb4-970f-9a4dc9bc674f",
   "metadata": {},
   "source": [
    "## Masking\n",
    "\n",
    "A mask is a matrix of boolean values. You can either 1) use a mask as an index to an array or 2) multiply an array by a mask. \n",
    "\n",
    " - As an index, the result will be a 1-D array of the values wherever the mask was True.\n",
    " - Multiplying by the mask, the result is an array of the same shapes with 0 everywhere the mask is False and the original value where the mask is True."
   ]
  },
  {
   "cell_type": "code",
   "execution_count": 45,
   "id": "81854ae7-348a-4145-a877-0f3de21f4bfa",
   "metadata": {},
   "outputs": [
    {
     "data": {
      "text/plain": [
       "array([[4, 7, 8, 2, 2, 9, 9, 3, 6, 3],\n",
       "       [3, 1, 7, 6, 0, 0, 6, 6, 0, 4],\n",
       "       [8, 8, 3, 7, 9, 3, 3, 7, 3, 7],\n",
       "       [2, 1, 3, 6, 9, 0, 0, 4, 9, 2],\n",
       "       [5, 7, 1, 1, 4, 1, 1, 8, 4, 8],\n",
       "       [3, 5, 8, 0, 9, 7, 7, 9, 6, 9],\n",
       "       [1, 5, 0, 3, 0, 0, 9, 0, 3, 4],\n",
       "       [8, 5, 9, 5, 8, 3, 2, 5, 5, 3],\n",
       "       [8, 7, 0, 1, 2, 7, 6, 2, 4, 5],\n",
       "       [9, 2, 1, 1, 2, 2, 6, 6, 7, 6]])"
      ]
     },
     "metadata": {},
     "output_type": "display_data"
    }
   ],
   "source": [
    "np.random.seed(33)\n",
    "Y = np.random.randint(0, 10, (10,10))\n",
    "display(Y)"
   ]
  },
  {
   "cell_type": "code",
   "execution_count": 48,
   "id": "7bdc8e99-24f8-4ffc-ba37-8beaec742a5e",
   "metadata": {},
   "outputs": [
    {
     "data": {
      "text/plain": [
       "array([[0, 1, 1, 0, 0, 1, 1, 0, 1, 0],\n",
       "       [0, 0, 1, 1, 0, 0, 1, 1, 0, 0],\n",
       "       [1, 1, 0, 1, 1, 0, 0, 1, 0, 1],\n",
       "       [0, 0, 0, 1, 1, 0, 0, 0, 1, 0],\n",
       "       [1, 1, 0, 0, 0, 0, 0, 1, 0, 1],\n",
       "       [0, 1, 1, 0, 1, 1, 1, 1, 1, 1],\n",
       "       [0, 1, 0, 0, 0, 0, 1, 0, 0, 0],\n",
       "       [1, 1, 1, 1, 1, 0, 0, 1, 1, 0],\n",
       "       [1, 1, 0, 0, 0, 1, 1, 0, 0, 1],\n",
       "       [1, 0, 0, 0, 0, 0, 1, 1, 1, 1]])"
      ]
     },
     "execution_count": 48,
     "metadata": {},
     "output_type": "execute_result"
    }
   ],
   "source": [
    "Ymask = Y>=5\n",
    "Ymask*1"
   ]
  },
  {
   "cell_type": "code",
   "execution_count": 58,
   "id": "e046e89f-3c9b-47e6-80ce-5ba7a184c48b",
   "metadata": {},
   "outputs": [
    {
     "data": {
      "text/plain": [
       "array([[0, 0, 0, 0, 0, 9, 9, 3, 6, 3],\n",
       "       [3, 0, 0, 6, 0, 0, 6, 6, 0, 0],\n",
       "       [0, 0, 3, 0, 9, 3, 3, 0, 3, 0],\n",
       "       [0, 0, 3, 6, 9, 0, 0, 0, 9, 0],\n",
       "       [0, 0, 0, 0, 0, 0, 0, 0, 0, 0],\n",
       "       [3, 0, 0, 0, 9, 0, 0, 9, 6, 9],\n",
       "       [0, 0, 0, 3, 0, 0, 9, 0, 3, 0],\n",
       "       [0, 0, 9, 0, 0, 3, 0, 0, 0, 3],\n",
       "       [0, 0, 0, 0, 0, 0, 6, 0, 0, 0],\n",
       "       [9, 0, 0, 0, 0, 0, 6, 6, 0, 6]])"
      ]
     },
     "metadata": {},
     "output_type": "display_data"
    }
   ],
   "source": [
    "Y_maskindex = Y*(Y%3==0)\n",
    "display(Y_maskindex)\n",
    "\n",
    "# Y * Ymask"
   ]
  },
  {
   "cell_type": "markdown",
   "id": "2d8aac7c-e47d-4ccb-b544-3d1cc2d3f210",
   "metadata": {},
   "source": [
    "#### Challenge question\n",
    "Create a 10x10 array of numbers between -50 and 150. Then create a new array in which any number below 0 is replaced with 1 and any number greater than 100 is replaced with 100."
   ]
  },
  {
   "cell_type": "code",
   "execution_count": null,
   "id": "771269f1",
   "metadata": {},
   "outputs": [],
   "source": [
    "np.random.seed(6)\n",
    "A = np.random.randint(-50,151, [10,10])\n",
    "B = (A<1)*1 + (A>100) * 100 + ((1<A) & (A<100)) * A\n",
    "\n",
    "B"
   ]
  },
  {
   "cell_type": "markdown",
   "id": "a382067a",
   "metadata": {},
   "source": [
    "Create an 7 x 10 array of random integers. Extract an array of the first 3 elements of every other row."
   ]
  },
  {
   "cell_type": "code",
   "execution_count": 68,
   "id": "dfe679ca-e64f-4ccd-9bb7-8e9d3d664c6c",
   "metadata": {},
   "outputs": [
    {
     "data": {
      "text/plain": [
       "array([[38, 13, 73, 10, 76,  6, 80, 65, 17,  2],\n",
       "       [77, 72,  7, 26, 51, 21, 19, 85, 12, 29],\n",
       "       [30, 15, 51, 69, 88, 88, 95, 97, 87, 14],\n",
       "       [10,  8, 64, 62, 23, 58,  2,  1, 61, 82],\n",
       "       [ 9, 89, 14, 48, 73, 31, 72,  4, 71, 22],\n",
       "       [50, 58,  4, 69, 25, 44, 77, 27, 53, 81],\n",
       "       [42, 83, 16, 65, 69, 26, 99, 88,  8, 27]])"
      ]
     },
     "metadata": {},
     "output_type": "display_data"
    },
    {
     "data": {
      "text/plain": [
       "array([[38, 13, 73],\n",
       "       [30, 15, 51],\n",
       "       [ 9, 89, 14],\n",
       "       [42, 83, 16]])"
      ]
     },
     "execution_count": 68,
     "metadata": {},
     "output_type": "execute_result"
    }
   ],
   "source": [
    "np.random.seed(1)\n",
    "C = np.random.randint(1,101, [7,10])\n",
    "display(C)\n",
    "C[::2,:3]"
   ]
  },
  {
   "cell_type": "markdown",
   "id": "8481a696-e788-4dbf-87fd-c703102c9cbf",
   "metadata": {},
   "source": [
    "## Views vs Copies\n",
    "\n",
    "When you slice an array, the resulting sub-array is a *view* into the main array. This is true even if you save the sub-array as a new variable. What does this mean?\n",
    "\n",
    "You are not allocating new memory to save this view, so any change made to the sub-array is made to the original array.\n",
    "\n",
    "If we want to slice a sub-array and have it exist as an array independent of the original array, we must ```.copy()```.\n",
    "\n",
    "While views might be confusing, they are incredibly useful for breaking up large data arrays to work with manageable chunks.\n",
    "\n",
    "### Demo Exercise\n",
    "\n",
    " - Let's create a 10 x 10 matrix of random numbers from 1-5, call it Z.\n",
    " - Then let's extract the upper-right quadrant as a view and the lower-right quadrant as a copy, Z_tr and Z_br respectively.\n",
    " - Now, let's fill Z_tr with ones and Z_br with twos.\n",
    "\n",
    "How do these changes affect the original array?"
   ]
  },
  {
   "cell_type": "code",
   "execution_count": 79,
   "id": "2c538bcb-85e9-42da-9237-8f75ee73bebf",
   "metadata": {},
   "outputs": [
    {
     "data": {
      "text/plain": [
       "array([[4, 5, 1, 2, 4, 1, 1, 2, 5, 5],\n",
       "       [2, 3, 5, 3, 5, 4, 5, 3, 5, 3],\n",
       "       [5, 2, 2, 1, 2, 2, 2, 2, 1, 5],\n",
       "       [2, 1, 1, 4, 3, 2, 1, 4, 2, 2],\n",
       "       [4, 5, 1, 2, 4, 5, 3, 5, 1, 4],\n",
       "       [2, 3, 1, 5, 2, 3, 3, 2, 1, 2],\n",
       "       [4, 5, 4, 2, 4, 1, 1, 3, 3, 2],\n",
       "       [4, 5, 3, 1, 1, 2, 2, 4, 1, 1],\n",
       "       [5, 3, 5, 4, 4, 1, 4, 5, 4, 5],\n",
       "       [5, 5, 2, 1, 5, 3, 1, 3, 5, 2]])"
      ]
     },
     "execution_count": 79,
     "metadata": {},
     "output_type": "execute_result"
    }
   ],
   "source": [
    "'''creating a big matrix (10x10)'''\n",
    "np.random.seed(1)\n",
    "Z = np.random.randint(1, 6, [10,10])\n",
    "Z"
   ]
  },
  {
   "cell_type": "code",
   "execution_count": 80,
   "id": "180edb3c-01a2-4974-b486-5adf2c73069c",
   "metadata": {},
   "outputs": [
    {
     "data": {
      "text/plain": [
       "array([[4, 5, 1, 2, 4, 1, 1, 2, 5, 5],\n",
       "       [2, 3, 5, 3, 5, 4, 5, 3, 5, 3],\n",
       "       [5, 2, 2, 1, 2, 2, 2, 2, 1, 5],\n",
       "       [2, 1, 1, 4, 3, 2, 1, 4, 2, 2],\n",
       "       [4, 5, 1, 2, 4, 5, 3, 5, 1, 4],\n",
       "       [2, 3, 1, 5, 2, 3, 3, 2, 1, 2],\n",
       "       [4, 5, 4, 2, 4, 1, 1, 3, 3, 2],\n",
       "       [4, 5, 3, 1, 1, 2, 2, 4, 1, 1],\n",
       "       [5, 3, 5, 4, 4, 1, 4, 5, 4, 5],\n",
       "       [5, 5, 2, 1, 5, 3, 1, 3, 5, 2]])"
      ]
     },
     "metadata": {},
     "output_type": "display_data"
    },
    {
     "data": {
      "text/plain": [
       "array([[1, 1, 2, 5, 5],\n",
       "       [4, 5, 3, 5, 3],\n",
       "       [2, 2, 2, 1, 5],\n",
       "       [2, 1, 4, 2, 2],\n",
       "       [5, 3, 5, 1, 4]])"
      ]
     },
     "metadata": {},
     "output_type": "display_data"
    },
    {
     "data": {
      "text/plain": [
       "array([[3, 3, 2, 1, 2],\n",
       "       [1, 1, 3, 3, 2],\n",
       "       [2, 2, 4, 1, 1],\n",
       "       [1, 4, 5, 4, 5],\n",
       "       [3, 1, 3, 5, 2]])"
      ]
     },
     "metadata": {},
     "output_type": "display_data"
    }
   ],
   "source": [
    "'''slice the top-right quadrant as a view'''\n",
    "Z_tr = Z[:5, 5:]\n",
    "\n",
    "'''slice the bottom-right quadrant as a copy'''\n",
    "Z_br = Z[5:, 5:].copy()\n",
    "\n",
    "display(Z)\n",
    "display(Z_tr)\n",
    "display(Z_br)"
   ]
  },
  {
   "cell_type": "code",
   "execution_count": 81,
   "id": "c30bd025-db96-4bd7-902d-f80848df90ba",
   "metadata": {},
   "outputs": [
    {
     "data": {
      "text/plain": [
       "array([[1, 1, 1, 1, 1],\n",
       "       [1, 1, 1, 1, 1],\n",
       "       [1, 1, 1, 1, 1],\n",
       "       [1, 1, 1, 1, 1],\n",
       "       [1, 1, 1, 1, 1]])"
      ]
     },
     "metadata": {},
     "output_type": "display_data"
    },
    {
     "data": {
      "text/plain": [
       "array([[2, 2, 2, 2, 2],\n",
       "       [2, 2, 2, 2, 2],\n",
       "       [2, 2, 2, 2, 2],\n",
       "       [2, 2, 2, 2, 2],\n",
       "       [2, 2, 2, 2, 2]])"
      ]
     },
     "metadata": {},
     "output_type": "display_data"
    }
   ],
   "source": [
    "Z_tr.fill(1)\n",
    "Z_br.fill(2)\n",
    "\n",
    "display(Z_tr)\n",
    "display(Z_br)"
   ]
  },
  {
   "cell_type": "code",
   "execution_count": 82,
   "id": "46915f49-610a-4145-b0cd-723823edb53a",
   "metadata": {},
   "outputs": [
    {
     "data": {
      "text/plain": [
       "array([[4, 5, 1, 2, 4, 1, 1, 1, 1, 1],\n",
       "       [2, 3, 5, 3, 5, 1, 1, 1, 1, 1],\n",
       "       [5, 2, 2, 1, 2, 1, 1, 1, 1, 1],\n",
       "       [2, 1, 1, 4, 3, 1, 1, 1, 1, 1],\n",
       "       [4, 5, 1, 2, 4, 1, 1, 1, 1, 1],\n",
       "       [2, 3, 1, 5, 2, 3, 3, 2, 1, 2],\n",
       "       [4, 5, 4, 2, 4, 1, 1, 3, 3, 2],\n",
       "       [4, 5, 3, 1, 1, 2, 2, 4, 1, 1],\n",
       "       [5, 3, 5, 4, 4, 1, 4, 5, 4, 5],\n",
       "       [5, 5, 2, 1, 5, 3, 1, 3, 5, 2]])"
      ]
     },
     "metadata": {},
     "output_type": "display_data"
    }
   ],
   "source": [
    "display(Z)"
   ]
  },
  {
   "cell_type": "code",
   "execution_count": 83,
   "id": "57dbb254-98da-4fed-acf7-2edc24b3ccdd",
   "metadata": {},
   "outputs": [
    {
     "data": {
      "text/plain": [
       "array([[4, 5, 1, 2, 4, 1, 1, 0, 1, 1],\n",
       "       [2, 3, 5, 3, 5, 1, 1, 0, 1, 1],\n",
       "       [5, 2, 2, 1, 2, 1, 1, 0, 1, 1],\n",
       "       [2, 1, 1, 4, 3, 1, 1, 0, 1, 1],\n",
       "       [4, 5, 1, 2, 4, 1, 1, 0, 1, 1],\n",
       "       [2, 3, 1, 5, 2, 3, 3, 0, 1, 2],\n",
       "       [4, 5, 4, 2, 4, 1, 1, 0, 3, 2],\n",
       "       [4, 5, 3, 1, 1, 2, 2, 0, 1, 1],\n",
       "       [5, 3, 5, 4, 4, 1, 4, 0, 4, 5],\n",
       "       [5, 5, 2, 1, 5, 3, 1, 0, 5, 2]])"
      ]
     },
     "execution_count": 83,
     "metadata": {},
     "output_type": "execute_result"
    }
   ],
   "source": [
    "Z[:,7] = 0\n",
    "Z"
   ]
  },
  {
   "cell_type": "code",
   "execution_count": 84,
   "id": "1e4ae5d4-8975-41db-955c-daf0fa2ea7b7",
   "metadata": {},
   "outputs": [
    {
     "data": {
      "text/plain": [
       "array([[1, 1, 0, 1, 1],\n",
       "       [1, 1, 0, 1, 1],\n",
       "       [1, 1, 0, 1, 1],\n",
       "       [1, 1, 0, 1, 1],\n",
       "       [1, 1, 0, 1, 1]])"
      ]
     },
     "metadata": {},
     "output_type": "display_data"
    },
    {
     "data": {
      "text/plain": [
       "array([[2, 2, 2, 2, 2],\n",
       "       [2, 2, 2, 2, 2],\n",
       "       [2, 2, 2, 2, 2],\n",
       "       [2, 2, 2, 2, 2],\n",
       "       [2, 2, 2, 2, 2]])"
      ]
     },
     "metadata": {},
     "output_type": "display_data"
    }
   ],
   "source": [
    "display(Z_tr) # remember this is a view\n",
    "display(Z_br) # and this is a copy"
   ]
  },
  {
   "cell_type": "code",
   "execution_count": null,
   "id": "1cf7db13-41f9-4e15-80da-31dfa44ed546",
   "metadata": {},
   "outputs": [],
   "source": [
    "Exam1 = Z[:,3]"
   ]
  },
  {
   "cell_type": "code",
   "execution_count": null,
   "id": "e5c129a3",
   "metadata": {},
   "outputs": [],
   "source": [
    "A = Z.copy()\n",
    "B = Z"
   ]
  },
  {
   "cell_type": "markdown",
   "id": "02f05bf6-f4d4-4cdb-aab2-c21eab1193db",
   "metadata": {},
   "source": [
    "## Math on arrays\n",
    "\n",
    "The nicest thing about numpy arrays is that they have been optimized for performing vectorized math operations. What does that mean? A math operation can be applied to every element of an array without a loop, and these vectorized operations are MUCH MUCH MUCH faster."
   ]
  },
  {
   "cell_type": "code",
   "execution_count": null,
   "id": "a3e2020d-2d70-428b-840c-98bce0d99afb",
   "metadata": {},
   "outputs": [],
   "source": [
    "A = np.random.randint(0,10, [10, 5])\n",
    "display(A)"
   ]
  },
  {
   "cell_type": "code",
   "execution_count": null,
   "id": "8d4bb56b-4d0b-485b-8680-938a6134c29f",
   "metadata": {},
   "outputs": [],
   "source": [
    "np.sin(A*np.pi/3)\n",
    "A**2"
   ]
  },
  {
   "cell_type": "markdown",
   "id": "65941339-d049-4840-b41c-084612f06530",
   "metadata": {},
   "source": [
    "And we can perform operations that aggregate results over a column or row (e.g. sum, mean, min, max)."
   ]
  },
  {
   "cell_type": "code",
   "execution_count": null,
   "id": "51b2c352-129c-433c-b3f4-b85e66787b22",
   "metadata": {},
   "outputs": [],
   "source": [
    "display(A.mean())   # mean of all the values in A\n",
    "display(A.mean(0)) # mean of every column\n",
    "display(A.mean(1)) # mean of every row"
   ]
  }
 ],
 "metadata": {
  "kernelspec": {
   "display_name": "datascience",
   "language": "python",
   "name": "python3"
  },
  "language_info": {
   "codemirror_mode": {
    "name": "ipython",
    "version": 3
   },
   "file_extension": ".py",
   "mimetype": "text/x-python",
   "name": "python",
   "nbconvert_exporter": "python",
   "pygments_lexer": "ipython3",
   "version": "3.13.1"
  }
 },
 "nbformat": 4,
 "nbformat_minor": 5
}
