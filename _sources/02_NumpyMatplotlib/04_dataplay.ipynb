{
 "cells": [
  {
   "cell_type": "markdown",
   "id": "d4b2250f",
   "metadata": {},
   "source": [
    "# Playing with Data!"
   ]
  },
  {
   "cell_type": "code",
   "execution_count": 10,
   "id": "96a09682",
   "metadata": {},
   "outputs": [],
   "source": [
    "import requests\n",
    "import csv\n"
   ]
  },
  {
   "cell_type": "markdown",
   "id": "f43dca4c",
   "metadata": {},
   "source": [
    "## Text data"
   ]
  },
  {
   "cell_type": "code",
   "execution_count": 11,
   "id": "75ec8ea9",
   "metadata": {},
   "outputs": [],
   "source": [
    "\n",
    "url = \"https://raw.githubusercontent.com/GettysburgDataScience/datasets/refs/heads/main/potter.txt\"\n",
    "response = requests.get(url)\n",
    "potter_text = response.text"
   ]
  },
  {
   "cell_type": "markdown",
   "id": "c30d5b74",
   "metadata": {},
   "source": [
    "## Election Data"
   ]
  },
  {
   "cell_type": "code",
   "execution_count": 12,
   "id": "4bc46580",
   "metadata": {},
   "outputs": [],
   "source": [
    "\n",
    "data_url = \"https://raw.githubusercontent.com/GettysburgDataScience/datasets/refs/heads/main/countypres_2000-2024.csv\"\n",
    "csv_response = requests.get(data_url)\n",
    "lines = csv_response.text.splitlines()\n",
    "\n",
    "reader = csv.DictReader(lines)\n",
    "elec_dict = {header: [] for header in reader.fieldnames}\n",
    "for row in reader:\n",
    "    for header in reader.fieldnames:\n",
    "        elec_dict[header].append(row[header])     "
   ]
  },
  {
   "cell_type": "code",
   "execution_count": 13,
   "id": "f76e08b8",
   "metadata": {},
   "outputs": [
    {
     "data": {
      "text/plain": [
       "dict_keys(['year', 'state', 'state_po', 'county_name', 'county_fips', 'office', 'candidate', 'party', 'candidatevotes', 'totalvotes', 'version', 'mode'])"
      ]
     },
     "execution_count": 13,
     "metadata": {},
     "output_type": "execute_result"
    }
   ],
   "source": [
    "elec_dict.keys()"
   ]
  },
  {
   "cell_type": "code",
   "execution_count": 14,
   "id": "781c5e38",
   "metadata": {},
   "outputs": [],
   "source": [
    "for key in elec_dict.keys():\n",
    "    try:\n",
    "        elec_dict[key] = [float(v) for v in elec_dict[key]]\n",
    "    except:\n",
    "        pass"
   ]
  }
 ],
 "metadata": {
  "kernelspec": {
   "display_name": "datascience",
   "language": "python",
   "name": "python3"
  },
  "language_info": {
   "codemirror_mode": {
    "name": "ipython",
    "version": 3
   },
   "file_extension": ".py",
   "mimetype": "text/x-python",
   "name": "python",
   "nbconvert_exporter": "python",
   "pygments_lexer": "ipython3",
   "version": "3.13.1"
  }
 },
 "nbformat": 4,
 "nbformat_minor": 5
}
