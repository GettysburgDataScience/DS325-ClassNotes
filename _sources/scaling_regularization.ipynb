{
 "cells": [
  {
   "cell_type": "markdown",
   "metadata": {},
   "source": [
    "# Data Scaling and Regularization\n",
    "\n",
    "\n",
    "# Scaling the data\n",
    "\n",
    "In developing a machine learning algorithm, we will often (always) need to pre-process our data to prepare it for model training. There are numerous *transformations* we may apply to the data, on of which is scaling.\n",
    "\n",
    "## Why is scaling important?\n",
    "\n"
   ]
  }
 ],
 "metadata": {
  "language_info": {
   "name": "python"
  }
 },
 "nbformat": 4,
 "nbformat_minor": 2
}
