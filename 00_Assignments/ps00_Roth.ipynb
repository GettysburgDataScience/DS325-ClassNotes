{
 "cells": [
  {
   "cell_type": "markdown",
   "id": "97603862",
   "metadata": {},
   "source": [
    "# PS00 (Solutions by Prof Roth)\n",
    "\n",
    "Prof Eatai Roth  \n",
    "DS325 F2025  \n",
    "Gettysburg College"
   ]
  },
  {
   "cell_type": "markdown",
   "id": "e4f9d954",
   "metadata": {},
   "source": [
    "## Before downloading this Problem Set file\n",
    "\n",
    "Let's set up a Git repository folder on your local computer. This folder will hold all of your assignments and projects for this class and will be linked to a repository that lives on Github.\n",
    "\n",
    "[Github Assignments invitation](https://classroom.github.com/a/L7dbS-Hr)"
   ]
  },
  {
   "cell_type": "markdown",
   "id": "ef54cf31",
   "metadata": {},
   "source": [
    "## Jupyter notebook review\n",
    "\n",
    "Notebooks comprise two kinds of cells:\n",
    " - *Markdown* - text annotation (like this cell).\n",
    " - *Code* - cells that will run code.\n",
    "\n",
    "Some useful keyboard shortcuts:\n",
    "\n",
    " - *SHIFT+RETURN (SHIFT+ENTER on PC)* - runs a cell and moves focus to the next cell\n",
    " - *Esc -> A* - adds a cell above the current cell (-> means followed by)\n",
    " - *Esc -> B* - adds a cell below the current cell\n",
    " - *Esc -> M* - converts a cell to Markdown\n",
    " - *Esc -> Y* - converts a cell to Code\n",
    "\n",
    "### Kernels\n",
    "\n",
    "When you first run a cell of code, VS Code will prompt you to select a kernel. You can think of a kernel as a computational session and VS Code wants to know which version of Python you'd like to use to execute your code. It will present a list of installed Python distributions; you should select the one that has 'Anaconda' in the path.\n",
    "\n",
    "The kernel also keeps track of all the variables you've created in the session. If you want to run your code from a clean slate, you can restart the kernel to clear all variables.\n",
    "\n",
    "### Assignment grading\n",
    "\n",
    "I'll be using a package called Otter Grader to help automate the grading and feedback you get on assignments. We'll see how Otter grader works below, but first, we must install the package."
   ]
  },
  {
   "cell_type": "code",
   "execution_count": 1,
   "id": "8fac6323",
   "metadata": {},
   "outputs": [
    {
     "name": "stdout",
     "output_type": "stream",
     "text": [
      "Requirement already satisfied: otter-grader in /Users/eatai/.pyenv/versions/3.9.21/lib/python3.9/site-packages (6.1.4)\n",
      "Requirement already satisfied: click<9.0.0,>=8.1.7 in /Users/eatai/.pyenv/versions/3.9.21/lib/python3.9/site-packages (from otter-grader) (8.1.8)\n",
      "Requirement already satisfied: dill>=0.3.0 in /Users/eatai/.pyenv/versions/3.9.21/lib/python3.9/site-packages (from otter-grader) (0.4.0)\n",
      "Requirement already satisfied: fica>=0.4.1 in /Users/eatai/.pyenv/versions/3.9.21/lib/python3.9/site-packages (from otter-grader) (0.4.1)\n",
      "Requirement already satisfied: ipylab<2.0.0,>=1.0.0 in /Users/eatai/.pyenv/versions/3.9.21/lib/python3.9/site-packages (from otter-grader) (1.1.0)\n",
      "Requirement already satisfied: ipython in /Users/eatai/.pyenv/versions/3.9.21/lib/python3.9/site-packages (from otter-grader) (8.18.1)\n",
      "Requirement already satisfied: ipywidgets<9.0.0,>=8.1.5 in /Users/eatai/.pyenv/versions/3.9.21/lib/python3.9/site-packages (from otter-grader) (8.1.7)\n",
      "Requirement already satisfied: jinja2<4.0,>=3.1 in /Users/eatai/.pyenv/versions/3.9.21/lib/python3.9/site-packages (from otter-grader) (3.1.6)\n",
      "Requirement already satisfied: jupytext<2.0.0,>=1.16.4 in /Users/eatai/.pyenv/versions/3.9.21/lib/python3.9/site-packages (from otter-grader) (1.17.2)\n",
      "Requirement already satisfied: nbconvert>=6.0.0 in /Users/eatai/.pyenv/versions/3.9.21/lib/python3.9/site-packages (from nbconvert[webpdf]>=6.0.0; sys_platform != \"emscripten\" and sys_platform != \"wasi\"->otter-grader) (7.16.6)\n",
      "Requirement already satisfied: nbformat>=5.0.0 in /Users/eatai/.pyenv/versions/3.9.21/lib/python3.9/site-packages (from otter-grader) (5.10.4)\n",
      "Requirement already satisfied: pandas>=2.0.0 in /Users/eatai/.pyenv/versions/3.9.21/lib/python3.9/site-packages (from otter-grader) (2.2.3)\n",
      "Requirement already satisfied: python-on-whales<1.0.0,>=0.72.0 in /Users/eatai/.pyenv/versions/3.9.21/lib/python3.9/site-packages (from otter-grader) (0.78.0)\n",
      "Requirement already satisfied: pyyaml<7,>=6 in /Users/eatai/.pyenv/versions/3.9.21/lib/python3.9/site-packages (from otter-grader) (6.0.2)\n",
      "Requirement already satisfied: requests<3.0,>=2.31 in /Users/eatai/.pyenv/versions/3.9.21/lib/python3.9/site-packages (from otter-grader) (2.32.3)\n",
      "Requirement already satisfied: wrapt<2.0.0,>=1.16.0 in /Users/eatai/.pyenv/versions/3.9.21/lib/python3.9/site-packages (from otter-grader) (1.17.3)\n",
      "Requirement already satisfied: comm>=0.1.3 in /Users/eatai/.pyenv/versions/3.9.21/lib/python3.9/site-packages (from ipywidgets<9.0.0,>=8.1.5->otter-grader) (0.2.2)\n",
      "Requirement already satisfied: traitlets>=4.3.1 in /Users/eatai/.pyenv/versions/3.9.21/lib/python3.9/site-packages (from ipywidgets<9.0.0,>=8.1.5->otter-grader) (5.14.3)\n",
      "Requirement already satisfied: widgetsnbextension~=4.0.14 in /Users/eatai/.pyenv/versions/3.9.21/lib/python3.9/site-packages (from ipywidgets<9.0.0,>=8.1.5->otter-grader) (4.0.14)\n",
      "Requirement already satisfied: jupyterlab_widgets~=3.0.15 in /Users/eatai/.pyenv/versions/3.9.21/lib/python3.9/site-packages (from ipywidgets<9.0.0,>=8.1.5->otter-grader) (3.0.15)\n",
      "Requirement already satisfied: MarkupSafe>=2.0 in /Users/eatai/.pyenv/versions/3.9.21/lib/python3.9/site-packages (from jinja2<4.0,>=3.1->otter-grader) (3.0.2)\n",
      "Requirement already satisfied: markdown-it-py>=1.0 in /Users/eatai/.pyenv/versions/3.9.21/lib/python3.9/site-packages (from jupytext<2.0.0,>=1.16.4->otter-grader) (3.0.0)\n",
      "Requirement already satisfied: mdit-py-plugins in /Users/eatai/.pyenv/versions/3.9.21/lib/python3.9/site-packages (from jupytext<2.0.0,>=1.16.4->otter-grader) (0.4.2)\n",
      "Requirement already satisfied: packaging in /Users/eatai/.pyenv/versions/3.9.21/lib/python3.9/site-packages (from jupytext<2.0.0,>=1.16.4->otter-grader) (24.2)\n",
      "Requirement already satisfied: tomli in /Users/eatai/.pyenv/versions/3.9.21/lib/python3.9/site-packages (from jupytext<2.0.0,>=1.16.4->otter-grader) (2.2.1)\n",
      "Requirement already satisfied: pydantic!=2.0.*,<3,>=2 in /Users/eatai/.pyenv/versions/3.9.21/lib/python3.9/site-packages (from python-on-whales<1.0.0,>=0.72.0->otter-grader) (2.11.7)\n",
      "Requirement already satisfied: typing-extensions in /Users/eatai/.pyenv/versions/3.9.21/lib/python3.9/site-packages (from python-on-whales<1.0.0,>=0.72.0->otter-grader) (4.12.2)\n",
      "Requirement already satisfied: annotated-types>=0.6.0 in /Users/eatai/.pyenv/versions/3.9.21/lib/python3.9/site-packages (from pydantic!=2.0.*,<3,>=2->python-on-whales<1.0.0,>=0.72.0->otter-grader) (0.7.0)\n",
      "Requirement already satisfied: pydantic-core==2.33.2 in /Users/eatai/.pyenv/versions/3.9.21/lib/python3.9/site-packages (from pydantic!=2.0.*,<3,>=2->python-on-whales<1.0.0,>=0.72.0->otter-grader) (2.33.2)\n",
      "Requirement already satisfied: typing-inspection>=0.4.0 in /Users/eatai/.pyenv/versions/3.9.21/lib/python3.9/site-packages (from pydantic!=2.0.*,<3,>=2->python-on-whales<1.0.0,>=0.72.0->otter-grader) (0.4.1)\n",
      "Requirement already satisfied: charset-normalizer<4,>=2 in /Users/eatai/.pyenv/versions/3.9.21/lib/python3.9/site-packages (from requests<3.0,>=2.31->otter-grader) (3.4.1)\n",
      "Requirement already satisfied: idna<4,>=2.5 in /Users/eatai/.pyenv/versions/3.9.21/lib/python3.9/site-packages (from requests<3.0,>=2.31->otter-grader) (3.10)\n",
      "Requirement already satisfied: urllib3<3,>=1.21.1 in /Users/eatai/.pyenv/versions/3.9.21/lib/python3.9/site-packages (from requests<3.0,>=2.31->otter-grader) (2.3.0)\n",
      "Requirement already satisfied: certifi>=2017.4.17 in /Users/eatai/.pyenv/versions/3.9.21/lib/python3.9/site-packages (from requests<3.0,>=2.31->otter-grader) (2025.1.31)\n",
      "Requirement already satisfied: docutils in /Users/eatai/.pyenv/versions/3.9.21/lib/python3.9/site-packages (from fica>=0.4.1->otter-grader) (0.21.2)\n",
      "Requirement already satisfied: sphinx in /Users/eatai/.pyenv/versions/3.9.21/lib/python3.9/site-packages (from fica>=0.4.1->otter-grader) (7.4.7)\n",
      "Requirement already satisfied: decorator in /Users/eatai/.pyenv/versions/3.9.21/lib/python3.9/site-packages (from ipython->otter-grader) (5.1.1)\n",
      "Requirement already satisfied: jedi>=0.16 in /Users/eatai/.pyenv/versions/3.9.21/lib/python3.9/site-packages (from ipython->otter-grader) (0.19.2)\n",
      "Requirement already satisfied: matplotlib-inline in /Users/eatai/.pyenv/versions/3.9.21/lib/python3.9/site-packages (from ipython->otter-grader) (0.1.7)\n",
      "Requirement already satisfied: prompt-toolkit<3.1.0,>=3.0.41 in /Users/eatai/.pyenv/versions/3.9.21/lib/python3.9/site-packages (from ipython->otter-grader) (3.0.50)\n",
      "Requirement already satisfied: pygments>=2.4.0 in /Users/eatai/.pyenv/versions/3.9.21/lib/python3.9/site-packages (from ipython->otter-grader) (2.19.1)\n",
      "Requirement already satisfied: stack-data in /Users/eatai/.pyenv/versions/3.9.21/lib/python3.9/site-packages (from ipython->otter-grader) (0.6.3)\n",
      "Requirement already satisfied: exceptiongroup in /Users/eatai/.pyenv/versions/3.9.21/lib/python3.9/site-packages (from ipython->otter-grader) (1.2.2)\n",
      "Requirement already satisfied: pexpect>4.3 in /Users/eatai/.pyenv/versions/3.9.21/lib/python3.9/site-packages (from ipython->otter-grader) (4.9.0)\n",
      "Requirement already satisfied: wcwidth in /Users/eatai/.pyenv/versions/3.9.21/lib/python3.9/site-packages (from prompt-toolkit<3.1.0,>=3.0.41->ipython->otter-grader) (0.2.13)\n",
      "Requirement already satisfied: parso<0.9.0,>=0.8.4 in /Users/eatai/.pyenv/versions/3.9.21/lib/python3.9/site-packages (from jedi>=0.16->ipython->otter-grader) (0.8.4)\n",
      "Requirement already satisfied: mdurl~=0.1 in /Users/eatai/.pyenv/versions/3.9.21/lib/python3.9/site-packages (from markdown-it-py>=1.0->jupytext<2.0.0,>=1.16.4->otter-grader) (0.1.2)\n",
      "Requirement already satisfied: beautifulsoup4 in /Users/eatai/.pyenv/versions/3.9.21/lib/python3.9/site-packages (from nbconvert>=6.0.0->nbconvert[webpdf]>=6.0.0; sys_platform != \"emscripten\" and sys_platform != \"wasi\"->otter-grader) (4.13.3)\n",
      "Requirement already satisfied: bleach!=5.0.0 in /Users/eatai/.pyenv/versions/3.9.21/lib/python3.9/site-packages (from bleach[css]!=5.0.0->nbconvert>=6.0.0->nbconvert[webpdf]>=6.0.0; sys_platform != \"emscripten\" and sys_platform != \"wasi\"->otter-grader) (6.2.0)\n",
      "Requirement already satisfied: defusedxml in /Users/eatai/.pyenv/versions/3.9.21/lib/python3.9/site-packages (from nbconvert>=6.0.0->nbconvert[webpdf]>=6.0.0; sys_platform != \"emscripten\" and sys_platform != \"wasi\"->otter-grader) (0.7.1)\n",
      "Requirement already satisfied: importlib-metadata>=3.6 in /Users/eatai/.pyenv/versions/3.9.21/lib/python3.9/site-packages (from nbconvert>=6.0.0->nbconvert[webpdf]>=6.0.0; sys_platform != \"emscripten\" and sys_platform != \"wasi\"->otter-grader) (8.6.1)\n",
      "Requirement already satisfied: jupyter-core>=4.7 in /Users/eatai/.pyenv/versions/3.9.21/lib/python3.9/site-packages (from nbconvert>=6.0.0->nbconvert[webpdf]>=6.0.0; sys_platform != \"emscripten\" and sys_platform != \"wasi\"->otter-grader) (5.7.2)\n",
      "Requirement already satisfied: jupyterlab-pygments in /Users/eatai/.pyenv/versions/3.9.21/lib/python3.9/site-packages (from nbconvert>=6.0.0->nbconvert[webpdf]>=6.0.0; sys_platform != \"emscripten\" and sys_platform != \"wasi\"->otter-grader) (0.3.0)\n",
      "Requirement already satisfied: mistune<4,>=2.0.3 in /Users/eatai/.pyenv/versions/3.9.21/lib/python3.9/site-packages (from nbconvert>=6.0.0->nbconvert[webpdf]>=6.0.0; sys_platform != \"emscripten\" and sys_platform != \"wasi\"->otter-grader) (3.1.3)\n",
      "Requirement already satisfied: nbclient>=0.5.0 in /Users/eatai/.pyenv/versions/3.9.21/lib/python3.9/site-packages (from nbconvert>=6.0.0->nbconvert[webpdf]>=6.0.0; sys_platform != \"emscripten\" and sys_platform != \"wasi\"->otter-grader) (0.10.2)\n",
      "Requirement already satisfied: pandocfilters>=1.4.1 in /Users/eatai/.pyenv/versions/3.9.21/lib/python3.9/site-packages (from nbconvert>=6.0.0->nbconvert[webpdf]>=6.0.0; sys_platform != \"emscripten\" and sys_platform != \"wasi\"->otter-grader) (1.5.1)\n",
      "Requirement already satisfied: webencodings in /Users/eatai/.pyenv/versions/3.9.21/lib/python3.9/site-packages (from bleach!=5.0.0->bleach[css]!=5.0.0->nbconvert>=6.0.0->nbconvert[webpdf]>=6.0.0; sys_platform != \"emscripten\" and sys_platform != \"wasi\"->otter-grader) (0.5.1)\n",
      "Requirement already satisfied: tinycss2<1.5,>=1.1.0 in /Users/eatai/.pyenv/versions/3.9.21/lib/python3.9/site-packages (from bleach[css]!=5.0.0->nbconvert>=6.0.0->nbconvert[webpdf]>=6.0.0; sys_platform != \"emscripten\" and sys_platform != \"wasi\"->otter-grader) (1.4.0)\n",
      "Requirement already satisfied: zipp>=3.20 in /Users/eatai/.pyenv/versions/3.9.21/lib/python3.9/site-packages (from importlib-metadata>=3.6->nbconvert>=6.0.0->nbconvert[webpdf]>=6.0.0; sys_platform != \"emscripten\" and sys_platform != \"wasi\"->otter-grader) (3.21.0)\n",
      "Requirement already satisfied: platformdirs>=2.5 in /Users/eatai/.pyenv/versions/3.9.21/lib/python3.9/site-packages (from jupyter-core>=4.7->nbconvert>=6.0.0->nbconvert[webpdf]>=6.0.0; sys_platform != \"emscripten\" and sys_platform != \"wasi\"->otter-grader) (4.3.6)\n",
      "Requirement already satisfied: jupyter-client>=6.1.12 in /Users/eatai/.pyenv/versions/3.9.21/lib/python3.9/site-packages (from nbclient>=0.5.0->nbconvert>=6.0.0->nbconvert[webpdf]>=6.0.0; sys_platform != \"emscripten\" and sys_platform != \"wasi\"->otter-grader) (8.6.3)\n",
      "Requirement already satisfied: python-dateutil>=2.8.2 in /Users/eatai/.pyenv/versions/3.9.21/lib/python3.9/site-packages (from jupyter-client>=6.1.12->nbclient>=0.5.0->nbconvert>=6.0.0->nbconvert[webpdf]>=6.0.0; sys_platform != \"emscripten\" and sys_platform != \"wasi\"->otter-grader) (2.9.0.post0)\n",
      "Requirement already satisfied: pyzmq>=23.0 in /Users/eatai/.pyenv/versions/3.9.21/lib/python3.9/site-packages (from jupyter-client>=6.1.12->nbclient>=0.5.0->nbconvert>=6.0.0->nbconvert[webpdf]>=6.0.0; sys_platform != \"emscripten\" and sys_platform != \"wasi\"->otter-grader) (26.2.0)\n",
      "Requirement already satisfied: tornado>=6.2 in /Users/eatai/.pyenv/versions/3.9.21/lib/python3.9/site-packages (from jupyter-client>=6.1.12->nbclient>=0.5.0->nbconvert>=6.0.0->nbconvert[webpdf]>=6.0.0; sys_platform != \"emscripten\" and sys_platform != \"wasi\"->otter-grader) (6.4.2)\n",
      "Requirement already satisfied: playwright in /Users/eatai/.pyenv/versions/3.9.21/lib/python3.9/site-packages (from nbconvert[webpdf]>=6.0.0; sys_platform != \"emscripten\" and sys_platform != \"wasi\"->otter-grader) (1.51.0)\n",
      "Requirement already satisfied: fastjsonschema>=2.15 in /Users/eatai/.pyenv/versions/3.9.21/lib/python3.9/site-packages (from nbformat>=5.0.0->otter-grader) (2.21.1)\n",
      "Requirement already satisfied: jsonschema>=2.6 in /Users/eatai/.pyenv/versions/3.9.21/lib/python3.9/site-packages (from nbformat>=5.0.0->otter-grader) (4.23.0)\n",
      "Requirement already satisfied: attrs>=22.2.0 in /Users/eatai/.pyenv/versions/3.9.21/lib/python3.9/site-packages (from jsonschema>=2.6->nbformat>=5.0.0->otter-grader) (25.3.0)\n",
      "Requirement already satisfied: jsonschema-specifications>=2023.03.6 in /Users/eatai/.pyenv/versions/3.9.21/lib/python3.9/site-packages (from jsonschema>=2.6->nbformat>=5.0.0->otter-grader) (2024.10.1)\n",
      "Requirement already satisfied: referencing>=0.28.4 in /Users/eatai/.pyenv/versions/3.9.21/lib/python3.9/site-packages (from jsonschema>=2.6->nbformat>=5.0.0->otter-grader) (0.36.2)\n",
      "Requirement already satisfied: rpds-py>=0.7.1 in /Users/eatai/.pyenv/versions/3.9.21/lib/python3.9/site-packages (from jsonschema>=2.6->nbformat>=5.0.0->otter-grader) (0.24.0)\n",
      "Requirement already satisfied: numpy>=1.22.4 in /Users/eatai/.pyenv/versions/3.9.21/lib/python3.9/site-packages (from pandas>=2.0.0->otter-grader) (2.0.2)\n",
      "Requirement already satisfied: pytz>=2020.1 in /Users/eatai/.pyenv/versions/3.9.21/lib/python3.9/site-packages (from pandas>=2.0.0->otter-grader) (2025.2)\n",
      "Requirement already satisfied: tzdata>=2022.7 in /Users/eatai/.pyenv/versions/3.9.21/lib/python3.9/site-packages (from pandas>=2.0.0->otter-grader) (2025.2)\n",
      "Requirement already satisfied: ptyprocess>=0.5 in /Users/eatai/.pyenv/versions/3.9.21/lib/python3.9/site-packages (from pexpect>4.3->ipython->otter-grader) (0.7.0)\n",
      "Requirement already satisfied: six>=1.5 in /Users/eatai/.pyenv/versions/3.9.21/lib/python3.9/site-packages (from python-dateutil>=2.8.2->jupyter-client>=6.1.12->nbclient>=0.5.0->nbconvert>=6.0.0->nbconvert[webpdf]>=6.0.0; sys_platform != \"emscripten\" and sys_platform != \"wasi\"->otter-grader) (1.17.0)\n",
      "Requirement already satisfied: soupsieve>1.2 in /Users/eatai/.pyenv/versions/3.9.21/lib/python3.9/site-packages (from beautifulsoup4->nbconvert>=6.0.0->nbconvert[webpdf]>=6.0.0; sys_platform != \"emscripten\" and sys_platform != \"wasi\"->otter-grader) (2.6)\n",
      "Requirement already satisfied: pyee<13,>=12 in /Users/eatai/.pyenv/versions/3.9.21/lib/python3.9/site-packages (from playwright->nbconvert[webpdf]>=6.0.0; sys_platform != \"emscripten\" and sys_platform != \"wasi\"->otter-grader) (12.1.1)\n",
      "Requirement already satisfied: greenlet<4.0.0,>=3.1.1 in /Users/eatai/.pyenv/versions/3.9.21/lib/python3.9/site-packages (from playwright->nbconvert[webpdf]>=6.0.0; sys_platform != \"emscripten\" and sys_platform != \"wasi\"->otter-grader) (3.1.1)\n",
      "Requirement already satisfied: sphinxcontrib-applehelp in /Users/eatai/.pyenv/versions/3.9.21/lib/python3.9/site-packages (from sphinx->fica>=0.4.1->otter-grader) (2.0.0)\n",
      "Requirement already satisfied: sphinxcontrib-devhelp in /Users/eatai/.pyenv/versions/3.9.21/lib/python3.9/site-packages (from sphinx->fica>=0.4.1->otter-grader) (2.0.0)\n",
      "Requirement already satisfied: sphinxcontrib-jsmath in /Users/eatai/.pyenv/versions/3.9.21/lib/python3.9/site-packages (from sphinx->fica>=0.4.1->otter-grader) (1.0.1)\n",
      "Requirement already satisfied: sphinxcontrib-htmlhelp>=2.0.0 in /Users/eatai/.pyenv/versions/3.9.21/lib/python3.9/site-packages (from sphinx->fica>=0.4.1->otter-grader) (2.1.0)\n",
      "Requirement already satisfied: sphinxcontrib-serializinghtml>=1.1.9 in /Users/eatai/.pyenv/versions/3.9.21/lib/python3.9/site-packages (from sphinx->fica>=0.4.1->otter-grader) (2.0.0)\n",
      "Requirement already satisfied: sphinxcontrib-qthelp in /Users/eatai/.pyenv/versions/3.9.21/lib/python3.9/site-packages (from sphinx->fica>=0.4.1->otter-grader) (2.0.0)\n",
      "Requirement already satisfied: snowballstemmer>=2.2 in /Users/eatai/.pyenv/versions/3.9.21/lib/python3.9/site-packages (from sphinx->fica>=0.4.1->otter-grader) (3.0.1)\n",
      "Requirement already satisfied: babel>=2.13 in /Users/eatai/.pyenv/versions/3.9.21/lib/python3.9/site-packages (from sphinx->fica>=0.4.1->otter-grader) (2.17.0)\n",
      "Requirement already satisfied: alabaster~=0.7.14 in /Users/eatai/.pyenv/versions/3.9.21/lib/python3.9/site-packages (from sphinx->fica>=0.4.1->otter-grader) (0.7.16)\n",
      "Requirement already satisfied: imagesize>=1.3 in /Users/eatai/.pyenv/versions/3.9.21/lib/python3.9/site-packages (from sphinx->fica>=0.4.1->otter-grader) (1.4.1)\n",
      "Requirement already satisfied: executing>=1.2.0 in /Users/eatai/.pyenv/versions/3.9.21/lib/python3.9/site-packages (from stack-data->ipython->otter-grader) (2.2.0)\n",
      "Requirement already satisfied: asttokens>=2.1.0 in /Users/eatai/.pyenv/versions/3.9.21/lib/python3.9/site-packages (from stack-data->ipython->otter-grader) (3.0.0)\n",
      "Requirement already satisfied: pure-eval in /Users/eatai/.pyenv/versions/3.9.21/lib/python3.9/site-packages (from stack-data->ipython->otter-grader) (0.2.3)\n",
      "\n",
      "\u001b[1m[\u001b[0m\u001b[34;49mnotice\u001b[0m\u001b[1;39;49m]\u001b[0m\u001b[39;49m A new release of pip is available: \u001b[0m\u001b[31;49m25.1.1\u001b[0m\u001b[39;49m -> \u001b[0m\u001b[32;49m25.2\u001b[0m\n",
      "\u001b[1m[\u001b[0m\u001b[34;49mnotice\u001b[0m\u001b[1;39;49m]\u001b[0m\u001b[39;49m To update, run: \u001b[0m\u001b[32;49mpip install --upgrade pip\u001b[0m\n"
     ]
    }
   ],
   "source": [
    "!pip install otter-grader"
   ]
  },
  {
   "cell_type": "code",
   "execution_count": 2,
   "id": "5c73a970",
   "metadata": {},
   "outputs": [],
   "source": [
    "import otter\n",
    "grader = otter.Notebook()"
   ]
  },
  {
   "cell_type": "markdown",
   "id": "5344a5cc",
   "metadata": {},
   "source": [
    "## Practice Problems\n",
    "\n",
    "**Problem 1**\n",
    "\n",
    "Write a function named ```hello_blank``` that takes as an input any string and returns a new string 'Hello [input string]!'"
   ]
  },
  {
   "cell_type": "code",
   "execution_count": 3,
   "id": "731b5119",
   "metadata": {
    "tags": [
     "otter_answer_cell"
    ]
   },
   "outputs": [],
   "source": [
    "def hello_blank(word):\n",
    "    return f'Hello {word}!'"
   ]
  },
  {
   "cell_type": "code",
   "execution_count": 4,
   "id": "88863ee2",
   "metadata": {
    "deletable": false,
    "editable": false
   },
   "outputs": [],
   "source": [
    "# grader.check(\"q1\")"
   ]
  },
  {
   "cell_type": "markdown",
   "id": "bd388987",
   "metadata": {},
   "source": [
    "**Problem 2** \n",
    "\n",
    "Create a DataFrame mirroring the table below and assign this to `icecream_df`. Then group by the `flavor` column and find the mean price-per-scoop for each flavor; assign this **series** to `price_by_flavor`.\n",
    "\n",
    "| flavor | scoops | price |\n",
    "|-----|-----|-----|\n",
    "| chocolate | 1 | 2 |\n",
    "| vanilla | 1 | 1.5 |\n",
    "| chocolate | 2 | 3 |\n",
    "| strawberry | 1 | 2 |\n",
    "| strawberry | 3 | 4 |\n",
    "| vanilla | 2 | 2 |\n",
    "| mint | 1 | 4 |\n",
    "| mint | 2 | 5 |\n",
    "| chocolate | 3 | 5 |"
   ]
  },
  {
   "cell_type": "code",
   "execution_count": 5,
   "id": "4a3a977d",
   "metadata": {
    "tags": [
     "otter_answer_cell"
    ]
   },
   "outputs": [
    {
     "data": {
      "text/plain": [
       "flavor\n",
       "chocolate     1.666667\n",
       "mint          3.000000\n",
       "strawberry    1.500000\n",
       "vanilla       1.166667\n",
       "dtype: float64"
      ]
     },
     "execution_count": 5,
     "metadata": {},
     "output_type": "execute_result"
    }
   ],
   "source": [
    "import pandas as pd\n",
    "import matplotlib.pyplot as plt\n",
    "import numpy as np\n",
    "\n",
    "icecream_df = pd.DataFrame(dict(\n",
    "    flavor = ['chocolate', 'vanilla', 'chocolate',  'strawberry', 'strawberry', 'vanilla', 'mint', 'mint', 'chocolate'],\n",
    "    scoops = [1, 1, 2, 1, 3, 2, 1, 2, 3],\n",
    "    price = [2, 1.5, 3, 2, 4, 2, 4, 5, 5]\n",
    "    )\n",
    "    )\n",
    "flavors_df = icecream_df.groupby('flavor').sum()\n",
    "price_by_flavor =flavors_df['price']/flavors_df['scoops']\n",
    "price_by_flavor"
   ]
  },
  {
   "cell_type": "code",
   "execution_count": 6,
   "id": "0425a1ed",
   "metadata": {
    "deletable": false,
    "editable": false
   },
   "outputs": [],
   "source": [
    "# grader.check(\"q2a\")"
   ]
  },
  {
   "cell_type": "markdown",
   "id": "8dc5aafa",
   "metadata": {
    "deletable": false,
    "editable": false
   },
   "source": [
    "<!-- BEGIN QUESTION -->\n",
    "\n",
    "**2b**\n",
    "Create a barplot of `price_by_flavor`."
   ]
  },
  {
   "cell_type": "code",
   "execution_count": 7,
   "id": "16f9b4ba",
   "metadata": {
    "tags": [
     "otter_answer_cell"
    ]
   },
   "outputs": [
    {
     "data": {
      "image/png": "[encoded data removed]",
      "text/plain": [
       "<Figure size 640x480 with 1 Axes>"
      ]
     },
     "metadata": {},
     "output_type": "display_data"
    }
   ],
   "source": [
    "plt.bar(x = price_by_flavor.index, height = price_by_flavor)\n",
    "plt.ylabel('Price per scoop ($)')\n",
    "plt.title('Price per scoop by flavor')\n",
    "plt.show()"
   ]
  },
  {
   "cell_type": "markdown",
   "id": "037accd2",
   "metadata": {
    "deletable": false,
    "editable": false
   },
   "source": [
    "<!-- END QUESTION -->\n",
    "\n",
    "<!-- BEGIN QUESTION -->\n",
    "\n",
    "**2c**\n",
    "Per scoop, which flavor is most expensive?"
   ]
  },
  {
   "cell_type": "markdown",
   "id": "cb3e4811",
   "metadata": {
    "tags": [
     "otter_answer_cell"
    ]
   },
   "source": [
    "Mint is most expensive."
   ]
  },
  {
   "cell_type": "markdown",
   "id": "43817384",
   "metadata": {
    "deletable": false,
    "editable": false
   },
   "source": [
    "<!-- END QUESTION -->\n",
    "\n"
   ]
  }
 ],
 "metadata": {
  "kernelspec": {
   "display_name": "datascience",
   "language": "python",
   "name": "python3"
  },
  "language_info": {
   "codemirror_mode": {
    "name": "ipython",
    "version": 3
   },
   "file_extension": ".py",
   "mimetype": "text/x-python",
   "name": "python",
   "nbconvert_exporter": "python",
   "pygments_lexer": "ipython3",
   "version": "3.13.1"
  },
  "otter": {
   "OK_FORMAT": true,
   "assignment_name": "ps00",
   "tests": {
    "q1": {
     "name": "q1",
     "points": null,
     "suites": [
      {
       "cases": [
        {
         "code": ">>> hello_blank('Prof Roth') == 'Hello Prof Roth!'\nTrue",
         "hidden": false,
         "locked": false
        },
        {
         "code": ">>> hello_blank(hello_blank('to me')) == 'Hello Hello to me!!'\nTrue",
         "hidden": false,
         "locked": false
        }
       ],
       "scored": true,
       "setup": "",
       "teardown": "",
       "type": "doctest"
      }
     ]
    },
    "q2a": {
     "name": "q2a",
     "points": null,
     "suites": [
      {
       "cases": [
        {
         "code": ">>> assert len(price_by_flavor) == 4\n",
         "hidden": false,
         "locked": false
        },
        {
         "code": ">>> assert np.isclose(price_by_flavor['chocolate'], 1.666667)\n>>> assert np.isclose(price_by_flavor['mint'], 3.0)\n",
         "hidden": false,
         "locked": false
        }
       ],
       "scored": true,
       "setup": "",
       "teardown": "",
       "type": "doctest"
      }
     ]
    }
   }
  }
 },
 "nbformat": 4,
 "nbformat_minor": 5
}
