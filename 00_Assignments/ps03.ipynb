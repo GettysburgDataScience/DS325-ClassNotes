{
 "cells": [
  {
   "cell_type": "markdown",
   "id": "d14bb962",
   "metadata": {},
   "source": [
    "# PS03 - Classification\n",
    "DS325, Gettysburg College\n",
    "\n",
    "Prof Eatai Roth\n",
    "\n",
    "\n",
    "Due Friday Oct 24, 2025 5:00p\n",
    "\n",
    "Total pts: 20"
   ]
  },
  {
   "cell_type": "markdown",
   "id": "68acad97",
   "metadata": {},
   "source": [
    "**Your Name**:\n",
    "\n",
    "**Your Collaborators**:"
   ]
  },
  {
   "cell_type": "markdown",
   "id": "ac3b9bf3",
   "metadata": {},
   "source": [
    "## IMPORTANT INSTRUCTIONS:\n",
    "\n",
    " - When you submit your code, make sure that every cell runs without returning an error.\n",
    " - Once you have the results you need, edit out any extraneous code and outputs."
   ]
  },
  {
   "cell_type": "markdown",
   "id": "7493d668",
   "metadata": {},
   "source": [
    "## Problem 1\n",
    "\n"
   ]
  },
  {
   "cell_type": "code",
   "execution_count": 1,
   "id": "5bab37ae",
   "metadata": {},
   "outputs": [],
   "source": [
    "%%capture\n",
    "!pip install ucimlrepo\n",
    "\n",
    "# You only need to run this cell once. \n",
    "# If the package is installed successfully, \n",
    "# re-comment out the line below to never run this cell again."
   ]
  },
  {
   "cell_type": "code",
   "execution_count": 2,
   "id": "53d7cf88",
   "metadata": {},
   "outputs": [
    {
     "data": {
      "text/html": [
       "<div>\n",
       "<style scoped>\n",
       "    .dataframe tbody tr th:only-of-type {\n",
       "        vertical-align: middle;\n",
       "    }\n",
       "\n",
       "    .dataframe tbody tr th {\n",
       "        vertical-align: top;\n",
       "    }\n",
       "\n",
       "    .dataframe thead th {\n",
       "        text-align: right;\n",
       "    }\n",
       "</style>\n",
       "<table border=\"1\" class=\"dataframe\">\n",
       "  <thead>\n",
       "    <tr style=\"text-align: right;\">\n",
       "      <th></th>\n",
       "      <th>name</th>\n",
       "      <th>description</th>\n",
       "    </tr>\n",
       "  </thead>\n",
       "  <tbody>\n",
       "    <tr>\n",
       "      <th>0</th>\n",
       "      <td>poisonous</td>\n",
       "      <td>None</td>\n",
       "    </tr>\n",
       "    <tr>\n",
       "      <th>1</th>\n",
       "      <td>cap-shape</td>\n",
       "      <td>bell=b,conical=c,convex=x,flat=f, knobbed=k,su...</td>\n",
       "    </tr>\n",
       "    <tr>\n",
       "      <th>2</th>\n",
       "      <td>cap-surface</td>\n",
       "      <td>fibrous=f,grooves=g,scaly=y,smooth=s</td>\n",
       "    </tr>\n",
       "    <tr>\n",
       "      <th>3</th>\n",
       "      <td>cap-color</td>\n",
       "      <td>brown=n,buff=b,cinnamon=c,gray=g,green=r, pink...</td>\n",
       "    </tr>\n",
       "    <tr>\n",
       "      <th>4</th>\n",
       "      <td>bruises</td>\n",
       "      <td>bruises=t,no=f</td>\n",
       "    </tr>\n",
       "    <tr>\n",
       "      <th>5</th>\n",
       "      <td>odor</td>\n",
       "      <td>almond=a,anise=l,creosote=c,fishy=y,foul=f, mu...</td>\n",
       "    </tr>\n",
       "    <tr>\n",
       "      <th>6</th>\n",
       "      <td>gill-attachment</td>\n",
       "      <td>attached=a,descending=d,free=f,notched=n</td>\n",
       "    </tr>\n",
       "    <tr>\n",
       "      <th>7</th>\n",
       "      <td>gill-spacing</td>\n",
       "      <td>close=c,crowded=w,distant=d</td>\n",
       "    </tr>\n",
       "    <tr>\n",
       "      <th>8</th>\n",
       "      <td>gill-size</td>\n",
       "      <td>broad=b,narrow=n</td>\n",
       "    </tr>\n",
       "    <tr>\n",
       "      <th>9</th>\n",
       "      <td>gill-color</td>\n",
       "      <td>black=k,brown=n,buff=b,chocolate=h,gray=g, gre...</td>\n",
       "    </tr>\n",
       "    <tr>\n",
       "      <th>10</th>\n",
       "      <td>stalk-shape</td>\n",
       "      <td>enlarging=e,tapering=t</td>\n",
       "    </tr>\n",
       "    <tr>\n",
       "      <th>11</th>\n",
       "      <td>stalk-root</td>\n",
       "      <td>bulbous=b,club=c,cup=u,equal=e, rhizomorphs=z,...</td>\n",
       "    </tr>\n",
       "    <tr>\n",
       "      <th>12</th>\n",
       "      <td>stalk-surface-above-ring</td>\n",
       "      <td>fibrous=f,scaly=y,silky=k,smooth=s</td>\n",
       "    </tr>\n",
       "    <tr>\n",
       "      <th>13</th>\n",
       "      <td>stalk-surface-below-ring</td>\n",
       "      <td>fibrous=f,scaly=y,silky=k,smooth=s</td>\n",
       "    </tr>\n",
       "    <tr>\n",
       "      <th>14</th>\n",
       "      <td>stalk-color-above-ring</td>\n",
       "      <td>brown=n,buff=b,cinnamon=c,gray=g,orange=o, pin...</td>\n",
       "    </tr>\n",
       "    <tr>\n",
       "      <th>15</th>\n",
       "      <td>stalk-color-below-ring</td>\n",
       "      <td>brown=n,buff=b,cinnamon=c,gray=g,orange=o, pin...</td>\n",
       "    </tr>\n",
       "    <tr>\n",
       "      <th>16</th>\n",
       "      <td>veil-type</td>\n",
       "      <td>partial=p,universal=u</td>\n",
       "    </tr>\n",
       "    <tr>\n",
       "      <th>17</th>\n",
       "      <td>veil-color</td>\n",
       "      <td>brown=n,orange=o,white=w,yellow=y</td>\n",
       "    </tr>\n",
       "    <tr>\n",
       "      <th>18</th>\n",
       "      <td>ring-number</td>\n",
       "      <td>none=n,one=o,two=t</td>\n",
       "    </tr>\n",
       "    <tr>\n",
       "      <th>19</th>\n",
       "      <td>ring-type</td>\n",
       "      <td>cobwebby=c,evanescent=e,flaring=f,large=l, non...</td>\n",
       "    </tr>\n",
       "    <tr>\n",
       "      <th>20</th>\n",
       "      <td>spore-print-color</td>\n",
       "      <td>black=k,brown=n,buff=b,chocolate=h,green=r, or...</td>\n",
       "    </tr>\n",
       "    <tr>\n",
       "      <th>21</th>\n",
       "      <td>population</td>\n",
       "      <td>abundant=a,clustered=c,numerous=n, scattered=s...</td>\n",
       "    </tr>\n",
       "    <tr>\n",
       "      <th>22</th>\n",
       "      <td>habitat</td>\n",
       "      <td>grasses=g,leaves=l,meadows=m,paths=p, urban=u,...</td>\n",
       "    </tr>\n",
       "  </tbody>\n",
       "</table>\n",
       "</div>"
      ],
      "text/plain": [
       "                        name  \\\n",
       "0                  poisonous   \n",
       "1                  cap-shape   \n",
       "2                cap-surface   \n",
       "3                  cap-color   \n",
       "4                    bruises   \n",
       "5                       odor   \n",
       "6            gill-attachment   \n",
       "7               gill-spacing   \n",
       "8                  gill-size   \n",
       "9                 gill-color   \n",
       "10               stalk-shape   \n",
       "11                stalk-root   \n",
       "12  stalk-surface-above-ring   \n",
       "13  stalk-surface-below-ring   \n",
       "14    stalk-color-above-ring   \n",
       "15    stalk-color-below-ring   \n",
       "16                 veil-type   \n",
       "17                veil-color   \n",
       "18               ring-number   \n",
       "19                 ring-type   \n",
       "20         spore-print-color   \n",
       "21                population   \n",
       "22                   habitat   \n",
       "\n",
       "                                          description  \n",
       "0                                                None  \n",
       "1   bell=b,conical=c,convex=x,flat=f, knobbed=k,su...  \n",
       "2                fibrous=f,grooves=g,scaly=y,smooth=s  \n",
       "3   brown=n,buff=b,cinnamon=c,gray=g,green=r, pink...  \n",
       "4                                      bruises=t,no=f  \n",
       "5   almond=a,anise=l,creosote=c,fishy=y,foul=f, mu...  \n",
       "6            attached=a,descending=d,free=f,notched=n  \n",
       "7                         close=c,crowded=w,distant=d  \n",
       "8                                    broad=b,narrow=n  \n",
       "9   black=k,brown=n,buff=b,chocolate=h,gray=g, gre...  \n",
       "10                             enlarging=e,tapering=t  \n",
       "11  bulbous=b,club=c,cup=u,equal=e, rhizomorphs=z,...  \n",
       "12                 fibrous=f,scaly=y,silky=k,smooth=s  \n",
       "13                 fibrous=f,scaly=y,silky=k,smooth=s  \n",
       "14  brown=n,buff=b,cinnamon=c,gray=g,orange=o, pin...  \n",
       "15  brown=n,buff=b,cinnamon=c,gray=g,orange=o, pin...  \n",
       "16                              partial=p,universal=u  \n",
       "17                  brown=n,orange=o,white=w,yellow=y  \n",
       "18                                 none=n,one=o,two=t  \n",
       "19  cobwebby=c,evanescent=e,flaring=f,large=l, non...  \n",
       "20  black=k,brown=n,buff=b,chocolate=h,green=r, or...  \n",
       "21  abundant=a,clustered=c,numerous=n, scattered=s...  \n",
       "22  grasses=g,leaves=l,meadows=m,paths=p, urban=u,...  "
      ]
     },
     "metadata": {},
     "output_type": "display_data"
    }
   ],
   "source": [
    "from ucimlrepo import fetch_ucirepo \n",
    "import pandas as pd\n",
    "\n",
    "  \n",
    "# fetch dataset \n",
    "mushroom = fetch_ucirepo(id=73) \n",
    "  \n",
    "# data (as pandas dataframes) \n",
    "X = mushroom.data.features \n",
    "y = mushroom.data.targets \n",
    "  \n",
    "# variable information \n",
    "display(mushroom.variables[['name','description']]) "
   ]
  },
  {
   "cell_type": "markdown",
   "id": "7f4f8f50",
   "metadata": {},
   "source": [
    "**Question**\n",
    "\n",
    "The dataset has no numerical features.\n",
    "\n",
    "For which of the above features would you use an Ordinal Encoder? Fill in the list below, add '-' for additional bullets.\n",
    "\n",
    "*Remember, you will also use an Ordinal Encoder for binary features.*"
   ]
  },
  {
   "cell_type": "markdown",
   "id": "4b3e885f",
   "metadata": {},
   "source": [
    " '''your answers here'''\n",
    " \n",
    " -\n",
    " - \n",
    " - \n",
    " -"
   ]
  },
  {
   "cell_type": "markdown",
   "id": "3f876777",
   "metadata": {},
   "source": [
    "**Coding prompt**\n",
    "\n",
    "Now write the code to appropriately encode the features."
   ]
  },
  {
   "cell_type": "code",
   "execution_count": 3,
   "id": "b2694d04",
   "metadata": {},
   "outputs": [
    {
     "data": {
      "text/plain": [
       "'your code here'"
      ]
     },
     "execution_count": 3,
     "metadata": {},
     "output_type": "execute_result"
    }
   ],
   "source": [
    "'''your code here'''"
   ]
  },
  {
   "cell_type": "markdown",
   "id": "a08461ed",
   "metadata": {},
   "source": [
    "**Question**\n",
    "Once encoded, how many features do you have?"
   ]
  },
  {
   "cell_type": "markdown",
   "id": "67fb1918",
   "metadata": {
    "tags": [
     "q1b"
    ]
   },
   "source": [
    "'''your answer here'''"
   ]
  },
  {
   "cell_type": "markdown",
   "id": "e815ed49",
   "metadata": {},
   "source": [
    "**Coding prompt 2**\n",
    "\n",
    "Now write the code to perform a classification using a decision tree. Experiment with gridsearch and different hyper-parameters until you feel you have a good model. (You should get perfect or nearly perfect prediction).\n",
    "\n",
    " - Plot the resultant decision tree (using plot tree)\n",
    " - Plot the confusion matrices for your both your training and testing sets\n",
    " - List the feature importances for your model ([see these notes](https://gettysburgdatascience.github.io/DS325-ClassNotes/02_Classification/04_trees_gridcv.html))"
   ]
  },
  {
   "cell_type": "code",
   "execution_count": 4,
   "id": "18339b08",
   "metadata": {},
   "outputs": [
    {
     "data": {
      "text/plain": [
       "'your code here'"
      ]
     },
     "execution_count": 4,
     "metadata": {},
     "output_type": "execute_result"
    }
   ],
   "source": [
    "'''your code here'''"
   ]
  },
  {
   "cell_type": "markdown",
   "id": "87a0b31e",
   "metadata": {},
   "source": [
    "## Problem 2\n",
    "\n",
    "In this exercise, you'll compare three models and how they classify a synthetic dataset, nested moons.\n",
    "\n",
    "Fit the following models:\n",
    "\n",
    "  - DecisionTree\n",
    "  - LogisticRegression\n",
    "  - Create polynomial features (deg 3 at least) then use a LogisticRegression with Lasso. \n",
    "  \n",
    "  Make each model as good as possible.\n",
    "\n",
    "\n",
    "  "
   ]
  },
  {
   "cell_type": "code",
   "execution_count": 5,
   "id": "69ae93df",
   "metadata": {},
   "outputs": [],
   "source": [
    "from sklearn.datasets import make_moons, make_s_curve\n",
    "\n",
    "import matplotlib.pyplot as plt\n",
    "import matplotlib as mpl"
   ]
  },
  {
   "cell_type": "code",
   "execution_count": 6,
   "id": "58d24861",
   "metadata": {},
   "outputs": [
    {
     "data": {
      "image/png": "[encoded data removed]",
      "text/plain": [
       "<Figure size 500x500 with 1 Axes>"
      ]
     },
     "metadata": {},
     "output_type": "display_data"
    }
   ],
   "source": [
    "df = pd.DataFrame()\n",
    "df[['feature_1','feature_2']], df['y'] = make_moons(n_samples=800, noise=.2, random_state=1)\n",
    "\n",
    "\n",
    "fig, ax = plt.subplots(1,1, figsize=(5,5))\n",
    "\n",
    "cmap = mpl.colors.ListedColormap(['red', 'blue'])    # Training Data\n",
    "df.plot(x = 'feature_1', y = 'feature_2', c = 'y',\n",
    "        s = 3, colorbar = False,\n",
    "        kind = 'scatter', cmap = cmap,\n",
    "        ax = ax)\n",
    "\n",
    "plt.show()\n"
   ]
  },
  {
   "cell_type": "code",
   "execution_count": 7,
   "id": "c9d0b5f3",
   "metadata": {},
   "outputs": [
    {
     "data": {
      "text/plain": [
       "'your code here'"
      ]
     },
     "execution_count": 7,
     "metadata": {},
     "output_type": "execute_result"
    }
   ],
   "source": [
    "'''your code here'''"
   ]
  },
  {
   "cell_type": "markdown",
   "id": "972343fa",
   "metadata": {},
   "source": [
    "**Coding prompt**\n",
    "\n",
    "For each model, plot the decision boundary plot and the confusion matrix (see these notes).\n",
    "\n",
    "**You may use co-pilot/ChatGPT to create the DecisionBoundary plot for the polynomial regression. It is tricky.**"
   ]
  },
  {
   "cell_type": "code",
   "execution_count": 8,
   "id": "30eace76",
   "metadata": {},
   "outputs": [
    {
     "data": {
      "text/plain": [
       "'your code here'"
      ]
     },
     "execution_count": 8,
     "metadata": {},
     "output_type": "execute_result"
    }
   ],
   "source": [
    "'''your code here'''"
   ]
  },
  {
   "cell_type": "markdown",
   "id": "098871e0",
   "metadata": {},
   "source": [
    "**Question**\n",
    "\n",
    "Which model is best? Why?"
   ]
  },
  {
   "cell_type": "markdown",
   "id": "5c2fa6b0",
   "metadata": {},
   "source": [
    "'''your response here'''"
   ]
  },
  {
   "cell_type": "markdown",
   "id": "8be942d8",
   "metadata": {},
   "source": []
  }
 ],
 "metadata": {
  "kernelspec": {
   "display_name": "datascience",
   "language": "python",
   "name": "python3"
  },
  "language_info": {
   "codemirror_mode": {
    "name": "ipython",
    "version": 3
   },
   "file_extension": ".py",
   "mimetype": "text/x-python",
   "name": "python",
   "nbconvert_exporter": "python",
   "pygments_lexer": "ipython3",
   "version": "3.13.1"
  }
 },
 "nbformat": 4,
 "nbformat_minor": 5
}
