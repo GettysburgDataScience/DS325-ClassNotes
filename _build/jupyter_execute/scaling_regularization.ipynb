{
 "cells": [
  {
   "cell_type": "markdown",
   "metadata": {},
   "source": [
    "# Data Scaling and Regularization\n",
    "\n",
    "\n",
    "# Scaling the data\n",
    "\n",
    "In developing a machine learning algorithm, we will often (always) need to pre-process our data to prepare it for model training. There are numerous *transformations* we may apply to the data, on of which is scaling.\n",
    "\n",
    "## Why is scaling important?\n",
    "\n"
   ]
  }
 ],
 "metadata": {
  "language_info": {
   "codemirror_mode": {
    "name": "ipython",
    "version": 3
   },
   "file_extension": ".py",
   "mimetype": "text/x-python",
   "name": "python",
   "nbconvert_exporter": "python",
   "pygments_lexer": "ipython3",
   "version": "3.9.21"
  }
 },
 "nbformat": 4,
 "nbformat_minor": 2
}