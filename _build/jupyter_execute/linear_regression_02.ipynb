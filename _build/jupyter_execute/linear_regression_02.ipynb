{
 "cells": [
  {
   "cell_type": "markdown",
   "metadata": {},
   "source": [
    "# Multiple Linear Regression\n",
    "\n",
    "In Multiple Linear Regression, we predict the target $y$ using multiple features $x$.\n",
    "\n",
    "$y = \\theta_0 + \\theta_1 \\cdot x_1 + \\theta_2 \\cdot x_2 + \\cdots + \\theta_n \\cdot x_n + \\epsilon$\n",
    "## Selecting features\n",
    "\n",
    "*Correlation* between two variables conveys the extent of a linear relationship between the two variables. The *correlation coefficient *, $\\rho$, ranges from -1 to 1.\n",
    " - $\\rho = 1$ is a perfect positive correlation. One variable is exactly linearly related to the other with positive slope.\n",
    " - $\\rho = -1$ is a perfect negative correlation. One variable is exactly linearly related to the other with negative slope.\n",
    " - $\\rho = 0$ suggests the two variables are completely uncorrelated.\n",
    " - $0 < |\\rho| < 1$ suggests some correlation. The two variables might be linearly related, but not exactly due to noisy measurements, non-linearities, unconsidered factors, etc. What is considered good correlation varies from domain to domain.\n",
    "\n",
    " We will want to select features that are correlated to the target value.\n",
    " \n",
    " Also...*Correlation does not imply causation!*"
   ]
  }
 ],
 "metadata": {
  "language_info": {
   "codemirror_mode": {
    "name": "ipython",
    "version": 3
   },
   "file_extension": ".py",
   "mimetype": "text/x-python",
   "name": "python",
   "nbconvert_exporter": "python",
   "pygments_lexer": "ipython3",
   "version": "3.13.1"
  }
 },
 "nbformat": 4,
 "nbformat_minor": 2
}